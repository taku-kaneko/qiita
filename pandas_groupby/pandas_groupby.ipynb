{
 "metadata": {
  "language_info": {
   "codemirror_mode": {
    "name": "ipython",
    "version": 3
   },
   "file_extension": ".py",
   "mimetype": "text/x-python",
   "name": "python",
   "nbconvert_exporter": "python",
   "pygments_lexer": "ipython3",
   "version": "3.9.1"
  },
  "orig_nbformat": 2,
  "kernelspec": {
   "name": "pandas_groupby_2",
   "display_name": "Python 3.9.1  ('.venv': pipenv)"
  }
 },
 "nbformat": 4,
 "nbformat_minor": 2,
 "cells": [
  {
   "source": [
    "# Pandas の Groupby の使い方をまとめる\n",
    "\n",
    "最近よく Groupby を使うので、何ができるのかをまとめる"
   ],
   "cell_type": "markdown",
   "metadata": {}
  },
  {
   "cell_type": "code",
   "execution_count": 173,
   "metadata": {},
   "outputs": [],
   "source": [
    "import pandas as pd\n",
    "import numpy as np\n",
    "import japanize_matplotlib"
   ]
  },
  {
   "cell_type": "code",
   "execution_count": 174,
   "metadata": {},
   "outputs": [
    {
     "output_type": "stream",
     "name": "stdout",
     "text": [
      "   Animal  Max Speed  Weight\n0  Falcon      375.0     1.0\n1  Parrot       20.0     2.2\n2  Falcon      380.0     0.9\n3  Parrot       23.0     2.0\n4  Falcon      370.0     1.2\n5  Falcon      390.0     1.1\n6  Parrot       26.0     2.5\n"
     ]
    }
   ],
   "source": [
    "df = pd.DataFrame({'Animal': ['Falcon', 'Parrot', 'Falcon', 'Parrot',\n",
    "                              'Falcon', 'Falcon', 'Parrot'],\n",
    "                   'Max Speed': [375, 20, 380., 23., 370, 390, 26.],\n",
    "                   'Weight': [1.0, 2.2, 0.9, 2.0, 1.2, 1.1, 2.5]})\n",
    "print(df)"
   ]
  },
  {
   "cell_type": "code",
   "execution_count": 175,
   "metadata": {},
   "outputs": [
    {
     "output_type": "stream",
     "name": "stdout",
     "text": [
      "              変数     値\n2021-01-01  最高気温  10.0\n2021-01-02  最高気温  11.0\n2021-01-03  最高気温   9.0\n2021-01-04  最高気温   9.3\n2021-01-05  最高気温  10.2\n2021-01-06  最高気温  12.0\n2021-01-07  最高気温   8.3\n2021-01-01  最高湿度  12.0\n2021-01-02  最高湿度  14.0\n2021-01-03  最高湿度  11.0\n2021-01-04  最高湿度  12.3\n2021-01-05  最高湿度  11.2\n2021-01-06  最高湿度  14.3\n2021-01-07  最高湿度  15.0\n"
     ]
    }
   ],
   "source": [
    "date_times = pd.to_datetime([\"2021-01-01\", \"2021-01-02\", \"2021-01-03\", \"2021-01-04\",\"2021-01-05\", \"2021-01-06\", \"2021-01-07\"])\n",
    "max_temp = [10, 11, 9, 9.3, 10.2, 12, 8.3]\n",
    "max_hum = [12, 14, 11, 12.3, 11.2, 14.3, 15]\n",
    "\n",
    "df_time = pd.DataFrame({\"最高気温\": max_temp, \"最高湿度\": max_hum}, index=date_times)\n",
    "df_time = df_time.melt(var_name=\"変数\", value_name=\"値\", ignore_index=False)\n",
    "print(df_time)"
   ]
  },
  {
   "source": [
    "# Indexing, iteration"
   ],
   "cell_type": "markdown",
   "metadata": {}
  },
  {
   "cell_type": "code",
   "execution_count": 176,
   "metadata": {},
   "outputs": [
    {
     "output_type": "stream",
     "name": "stdout",
     "text": [
      "グループ名: Falcon\n   Animal  Max Speed  Weight\n0  Falcon      375.0     1.0\n2  Falcon      380.0     0.9\n4  Falcon      370.0     1.2\n5  Falcon      390.0     1.1\n\nグループ名: Parrot\n   Animal  Max Speed  Weight\n1  Parrot       20.0     2.2\n3  Parrot       23.0     2.0\n6  Parrot       26.0     2.5\n\n"
     ]
    }
   ],
   "source": [
    "# __iter__() はグループごとのデータフレームを繰り返し取り出すことのできるイテレータを返す\n",
    "for group, df_group in df.groupby(\"Animal\").__iter__():\n",
    "    print(f\"グループ名: {group}\")\n",
    "    print(df_group)\n",
    "    print()"
   ]
  },
  {
   "cell_type": "code",
   "execution_count": 177,
   "metadata": {},
   "outputs": [
    {
     "output_type": "stream",
     "name": "stdout",
     "text": [
      "{'Falcon': [0, 2, 4, 5], 'Parrot': [1, 3, 6]}\n"
     ]
    }
   ],
   "source": [
    "# groups はグループごとのインデックスを辞書で返す\n",
    "print(df.groupby(\"Animal\").groups)"
   ]
  },
  {
   "cell_type": "code",
   "execution_count": 178,
   "metadata": {},
   "outputs": [
    {
     "output_type": "stream",
     "name": "stdout",
     "text": [
      "['Falcon', 'Parrot']\n"
     ]
    }
   ],
   "source": [
    "# groups はグループごとのインデックスを辞書で返す\n",
    "print(list(df.groupby(\"Animal\").groups.keys()))"
   ]
  },
  {
   "cell_type": "code",
   "execution_count": 179,
   "metadata": {},
   "outputs": [
    {
     "output_type": "stream",
     "name": "stdout",
     "text": [
      "{'Falcon': array([0, 2, 4, 5]), 'Parrot': array([1, 3, 6])}\n<class 'numpy.ndarray'>\n"
     ]
    }
   ],
   "source": [
    "# indices はグループごとのインデックス（numpy の ndarray 型）を辞書で返す\n",
    "print(df.groupby(\"Animal\").indices)\n",
    "print(type(df.groupby(\"Animal\").indices[\"Falcon\"]))"
   ]
  },
  {
   "cell_type": "code",
   "execution_count": 180,
   "metadata": {},
   "outputs": [
    {
     "output_type": "stream",
     "name": "stdout",
     "text": [
      "   Animal  Max Speed  Weight\n0  Falcon      375.0     1.0\n2  Falcon      380.0     0.9\n4  Falcon      370.0     1.2\n5  Falcon      390.0     1.1\n"
     ]
    }
   ],
   "source": [
    "# get_group() は指定したグループのデータフレームを返す\n",
    "print(df.groupby(\"Animal\").get_group(\"Falcon\"))"
   ]
  },
  {
   "source": [
    "# Function application"
   ],
   "cell_type": "markdown",
   "metadata": {}
  },
  {
   "cell_type": "code",
   "execution_count": 181,
   "metadata": {},
   "outputs": [
    {
     "output_type": "stream",
     "name": "stdout",
     "text": [
      "        Animal  Max Speed  Weight\nAnimal                           \nFalcon  Falcon      390.0     1.2\nParrot  Parrot       26.0     2.5\n"
     ]
    }
   ],
   "source": [
    "# apply は列ごとに指定した関数の処理を実施することができる（ Groupby に指定した列も処理の対象）\n",
    "print(df.groupby(\"Animal\").apply(max))"
   ]
  },
  {
   "cell_type": "code",
   "execution_count": 182,
   "metadata": {},
   "outputs": [
    {
     "output_type": "stream",
     "name": "stdout",
     "text": [
      "        Animal  Max Speed  Weight\nAnimal                           \nFalcon  Falcon      390.0     1.2\nParrot  Parrot       26.0     2.5\n"
     ]
    }
   ],
   "source": [
    "def max(x):\n",
    "    return x.max()\n",
    "\n",
    "print(df.groupby(\"Animal\").apply(max))"
   ]
  },
  {
   "cell_type": "code",
   "execution_count": 183,
   "metadata": {},
   "outputs": [
    {
     "output_type": "stream",
     "name": "stdout",
     "text": [
      "   Max Speed  Weight\n0      475.0   101.0\n1      120.0   102.2\n2      480.0   100.9\n3      123.0   102.0\n4      470.0   101.2\n5      490.0   101.1\n6      126.0   102.5\n"
     ]
    }
   ],
   "source": [
    "def add(x):\n",
    "    return x + 100\n",
    "\n",
    "print(df.groupby(\"Animal\").apply(add))"
   ]
  },
  {
   "cell_type": "code",
   "execution_count": 184,
   "metadata": {},
   "outputs": [
    {
     "output_type": "stream",
     "name": "stdout",
     "text": [
      "          Max Speed  Weight  Max Speed  Weight\nAnimal                                        \nFalcon 0      375.0     1.0      475.0   101.0\n       2      380.0     0.9      480.0   100.9\n       4      370.0     1.2      470.0   101.2\n       5      390.0     1.1      490.0   101.1\nParrot 1       20.0     2.2      120.0   102.2\n       3       23.0     2.0      123.0   102.0\n       6       26.0     2.5      126.0   102.5\n"
     ]
    }
   ],
   "source": [
    "def add(x):\n",
    "    return pd.concat([x, x + 100], axis=1)\n",
    "\n",
    "print(df.groupby(\"Animal\").apply(add))"
   ]
  },
  {
   "cell_type": "code",
   "execution_count": 185,
   "metadata": {},
   "outputs": [
    {
     "output_type": "execute_result",
     "data": {
      "text/plain": [
       "Animal\n",
       "Falcon    378.75\n",
       "Parrot     23.00\n",
       "Name: Max Speed, dtype: float64"
      ]
     },
     "metadata": {},
     "execution_count": 185
    }
   ],
   "source": [
    "# 処理対象の列を指定できる（指定した列が1列の場合は Seriesを、2列以上の場合は DataFrame を返す）\n",
    "df.groupby(\"Animal\")[\"Max Speed\"].apply(np.mean)"
   ]
  },
  {
   "cell_type": "code",
   "execution_count": 186,
   "metadata": {},
   "outputs": [
    {
     "output_type": "execute_result",
     "data": {
      "text/plain": [
       "        Max Speed    Weight\n",
       "Animal                     \n",
       "Falcon     378.75  1.050000\n",
       "Parrot      23.00  2.233333"
      ],
      "text/html": "<div>\n<style scoped>\n    .dataframe tbody tr th:only-of-type {\n        vertical-align: middle;\n    }\n\n    .dataframe tbody tr th {\n        vertical-align: top;\n    }\n\n    .dataframe thead th {\n        text-align: right;\n    }\n</style>\n<table border=\"1\" class=\"dataframe\">\n  <thead>\n    <tr style=\"text-align: right;\">\n      <th></th>\n      <th>Max Speed</th>\n      <th>Weight</th>\n    </tr>\n    <tr>\n      <th>Animal</th>\n      <th></th>\n      <th></th>\n    </tr>\n  </thead>\n  <tbody>\n    <tr>\n      <th>Falcon</th>\n      <td>378.75</td>\n      <td>1.050000</td>\n    </tr>\n    <tr>\n      <th>Parrot</th>\n      <td>23.00</td>\n      <td>2.233333</td>\n    </tr>\n  </tbody>\n</table>\n</div>"
     },
     "metadata": {},
     "execution_count": 186
    }
   ],
   "source": [
    "# 処理対象の列を指定できる（指定した列が1列の場合は Seriesを、2列以上の場合は DataFrame を返す）\n",
    "df.groupby(\"Animal\")[[\"Max Speed\", \"Weight\"]].apply(np.mean)"
   ]
  },
  {
   "cell_type": "code",
   "execution_count": 187,
   "metadata": {},
   "outputs": [
    {
     "output_type": "execute_result",
     "data": {
      "text/plain": [
       "        Max Speed    Weight\n",
       "Animal                     \n",
       "Falcon     378.75  1.050000\n",
       "Parrot      23.00  2.233333"
      ],
      "text/html": "<div>\n<style scoped>\n    .dataframe tbody tr th:only-of-type {\n        vertical-align: middle;\n    }\n\n    .dataframe tbody tr th {\n        vertical-align: top;\n    }\n\n    .dataframe thead th {\n        text-align: right;\n    }\n</style>\n<table border=\"1\" class=\"dataframe\">\n  <thead>\n    <tr style=\"text-align: right;\">\n      <th></th>\n      <th>Max Speed</th>\n      <th>Weight</th>\n    </tr>\n    <tr>\n      <th>Animal</th>\n      <th></th>\n      <th></th>\n    </tr>\n  </thead>\n  <tbody>\n    <tr>\n      <th>Falcon</th>\n      <td>378.75</td>\n      <td>1.050000</td>\n    </tr>\n    <tr>\n      <th>Parrot</th>\n      <td>23.00</td>\n      <td>2.233333</td>\n    </tr>\n  </tbody>\n</table>\n</div>"
     },
     "metadata": {},
     "execution_count": 187
    }
   ],
   "source": [
    "# agg は列ごとに指定した関数の処理を実施することができる（ Groupby に指定した列は処理の対象外）\n",
    "df.groupby(\"Animal\").agg(np.mean)"
   ]
  },
  {
   "cell_type": "code",
   "execution_count": 188,
   "metadata": {},
   "outputs": [
    {
     "output_type": "execute_result",
     "data": {
      "text/plain": [
       "Animal\n",
       "Falcon    378.75\n",
       "Parrot     23.00\n",
       "Name: Max Speed, dtype: float64"
      ]
     },
     "metadata": {},
     "execution_count": 188
    }
   ],
   "source": [
    "# agg は処理対象の列を指定できる（指定した列が1列の場合は Seriesを、2列以上の場合は DataFrame を返す）\n",
    "df.groupby(\"Animal\")[\"Max Speed\"].agg(np.mean)"
   ]
  },
  {
   "cell_type": "code",
   "execution_count": 189,
   "metadata": {},
   "outputs": [
    {
     "output_type": "execute_result",
     "data": {
      "text/plain": [
       "       Max Speed         Weight          \n",
       "             max    mean    max      mean\n",
       "Animal                                   \n",
       "Falcon     390.0  378.75    1.2  1.050000\n",
       "Parrot      26.0   23.00    2.5  2.233333"
      ],
      "text/html": "<div>\n<style scoped>\n    .dataframe tbody tr th:only-of-type {\n        vertical-align: middle;\n    }\n\n    .dataframe tbody tr th {\n        vertical-align: top;\n    }\n\n    .dataframe thead tr th {\n        text-align: left;\n    }\n\n    .dataframe thead tr:last-of-type th {\n        text-align: right;\n    }\n</style>\n<table border=\"1\" class=\"dataframe\">\n  <thead>\n    <tr>\n      <th></th>\n      <th colspan=\"2\" halign=\"left\">Max Speed</th>\n      <th colspan=\"2\" halign=\"left\">Weight</th>\n    </tr>\n    <tr>\n      <th></th>\n      <th>max</th>\n      <th>mean</th>\n      <th>max</th>\n      <th>mean</th>\n    </tr>\n    <tr>\n      <th>Animal</th>\n      <th></th>\n      <th></th>\n      <th></th>\n      <th></th>\n    </tr>\n  </thead>\n  <tbody>\n    <tr>\n      <th>Falcon</th>\n      <td>390.0</td>\n      <td>378.75</td>\n      <td>1.2</td>\n      <td>1.050000</td>\n    </tr>\n    <tr>\n      <th>Parrot</th>\n      <td>26.0</td>\n      <td>23.00</td>\n      <td>2.5</td>\n      <td>2.233333</td>\n    </tr>\n  </tbody>\n</table>\n</div>"
     },
     "metadata": {},
     "execution_count": 189
    }
   ],
   "source": [
    "df.groupby(\"Animal\").agg([max, np.mean])"
   ]
  },
  {
   "cell_type": "code",
   "execution_count": 190,
   "metadata": {},
   "outputs": [
    {
     "output_type": "execute_result",
     "data": {
      "text/plain": [
       "   Max Speed  Weight\n",
       "0      390.0     1.2\n",
       "1       26.0     2.5\n",
       "2      390.0     1.2\n",
       "3       26.0     2.5\n",
       "4      390.0     1.2\n",
       "5      390.0     1.2\n",
       "6       26.0     2.5"
      ],
      "text/html": "<div>\n<style scoped>\n    .dataframe tbody tr th:only-of-type {\n        vertical-align: middle;\n    }\n\n    .dataframe tbody tr th {\n        vertical-align: top;\n    }\n\n    .dataframe thead th {\n        text-align: right;\n    }\n</style>\n<table border=\"1\" class=\"dataframe\">\n  <thead>\n    <tr style=\"text-align: right;\">\n      <th></th>\n      <th>Max Speed</th>\n      <th>Weight</th>\n    </tr>\n  </thead>\n  <tbody>\n    <tr>\n      <th>0</th>\n      <td>390.0</td>\n      <td>1.2</td>\n    </tr>\n    <tr>\n      <th>1</th>\n      <td>26.0</td>\n      <td>2.5</td>\n    </tr>\n    <tr>\n      <th>2</th>\n      <td>390.0</td>\n      <td>1.2</td>\n    </tr>\n    <tr>\n      <th>3</th>\n      <td>26.0</td>\n      <td>2.5</td>\n    </tr>\n    <tr>\n      <th>4</th>\n      <td>390.0</td>\n      <td>1.2</td>\n    </tr>\n    <tr>\n      <th>5</th>\n      <td>390.0</td>\n      <td>1.2</td>\n    </tr>\n    <tr>\n      <th>6</th>\n      <td>26.0</td>\n      <td>2.5</td>\n    </tr>\n  </tbody>\n</table>\n</div>"
     },
     "metadata": {},
     "execution_count": 190
    }
   ],
   "source": [
    "# Transform は 元のDataFrame（もしくは Series）と同じ大きさで結果を返す\n",
    "df.groupby(\"Animal\").transform(max)"
   ]
  },
  {
   "cell_type": "code",
   "execution_count": 191,
   "metadata": {},
   "outputs": [
    {
     "output_type": "execute_result",
     "data": {
      "text/plain": [
       "   Max Speed    Weight\n",
       "0     378.75  1.050000\n",
       "1      23.00  2.233333\n",
       "2     378.75  1.050000\n",
       "3      23.00  2.233333\n",
       "4     378.75  1.050000\n",
       "5     378.75  1.050000\n",
       "6      23.00  2.233333"
      ],
      "text/html": "<div>\n<style scoped>\n    .dataframe tbody tr th:only-of-type {\n        vertical-align: middle;\n    }\n\n    .dataframe tbody tr th {\n        vertical-align: top;\n    }\n\n    .dataframe thead th {\n        text-align: right;\n    }\n</style>\n<table border=\"1\" class=\"dataframe\">\n  <thead>\n    <tr style=\"text-align: right;\">\n      <th></th>\n      <th>Max Speed</th>\n      <th>Weight</th>\n    </tr>\n  </thead>\n  <tbody>\n    <tr>\n      <th>0</th>\n      <td>378.75</td>\n      <td>1.050000</td>\n    </tr>\n    <tr>\n      <th>1</th>\n      <td>23.00</td>\n      <td>2.233333</td>\n    </tr>\n    <tr>\n      <th>2</th>\n      <td>378.75</td>\n      <td>1.050000</td>\n    </tr>\n    <tr>\n      <th>3</th>\n      <td>23.00</td>\n      <td>2.233333</td>\n    </tr>\n    <tr>\n      <th>4</th>\n      <td>378.75</td>\n      <td>1.050000</td>\n    </tr>\n    <tr>\n      <th>5</th>\n      <td>378.75</td>\n      <td>1.050000</td>\n    </tr>\n    <tr>\n      <th>6</th>\n      <td>23.00</td>\n      <td>2.233333</td>\n    </tr>\n  </tbody>\n</table>\n</div>"
     },
     "metadata": {},
     "execution_count": 191
    }
   ],
   "source": [
    "# Transform は 元のDataFrame（もしくは Series）と同じ大きさで結果を返す\n",
    "df.groupby(\"Animal\").transform(np.mean)"
   ]
  },
  {
   "cell_type": "code",
   "execution_count": 192,
   "metadata": {},
   "outputs": [
    {
     "output_type": "execute_result",
     "data": {
      "text/plain": [
       "'Falcon'"
      ]
     },
     "metadata": {},
     "execution_count": 192
    }
   ],
   "source": [
    "# Groupby の結果を用いて、複数の関数で処理をするときには pipe を使うと可読性が上がる\n",
    "\n",
    "# グループごとの最大値を取る\n",
    "def f(df):\n",
    "    return df.agg(max)\n",
    "\n",
    "# 指定された列の大きい方のグループ名を返す\n",
    "def h(df, colname):\n",
    "    max_index = df[colname].argmax()\n",
    "    return df.index[max_index]\n",
    "    \n",
    "\"\"\"\n",
    "h(f(df.groupby(\"Animal\")), colname=\"Max Speed\")\n",
    "と同じ処理をしているが、可読性は pipe を用いた方が圧倒的に良い\n",
    "\"\"\"\n",
    "df.groupby(\"Animal\").pipe(f).pipe(h, colname=\"Max Speed\")"
   ]
  },
  {
   "source": [
    "# Computations / descriptive stats"
   ],
   "cell_type": "markdown",
   "metadata": {}
  },
  {
   "cell_type": "code",
   "execution_count": 193,
   "metadata": {},
   "outputs": [
    {
     "output_type": "execute_result",
     "data": {
      "text/plain": [
       "   Animal  Max Speed  Weight\n",
       "0  Falcon       True    True\n",
       "1  Falcon       True   False\n",
       "2  Parrot      False   False\n",
       "3  Parrot      False    True"
      ],
      "text/html": "<div>\n<style scoped>\n    .dataframe tbody tr th:only-of-type {\n        vertical-align: middle;\n    }\n\n    .dataframe tbody tr th {\n        vertical-align: top;\n    }\n\n    .dataframe thead th {\n        text-align: right;\n    }\n</style>\n<table border=\"1\" class=\"dataframe\">\n  <thead>\n    <tr style=\"text-align: right;\">\n      <th></th>\n      <th>Animal</th>\n      <th>Max Speed</th>\n      <th>Weight</th>\n    </tr>\n  </thead>\n  <tbody>\n    <tr>\n      <th>0</th>\n      <td>Falcon</td>\n      <td>True</td>\n      <td>True</td>\n    </tr>\n    <tr>\n      <th>1</th>\n      <td>Falcon</td>\n      <td>True</td>\n      <td>False</td>\n    </tr>\n    <tr>\n      <th>2</th>\n      <td>Parrot</td>\n      <td>False</td>\n      <td>False</td>\n    </tr>\n    <tr>\n      <th>3</th>\n      <td>Parrot</td>\n      <td>False</td>\n      <td>True</td>\n    </tr>\n  </tbody>\n</table>\n</div>"
     },
     "metadata": {},
     "execution_count": 193
    }
   ],
   "source": [
    "df_2 = pd.DataFrame({'Animal': ['Falcon', 'Falcon',\n",
    "                              'Parrot', 'Parrot'],\n",
    "                   'Max Speed': [True, True, False, False],\n",
    "                   'Weight': [True, False, False, True]})\n",
    "df_2"
   ]
  },
  {
   "cell_type": "code",
   "execution_count": 194,
   "metadata": {},
   "outputs": [
    {
     "output_type": "execute_result",
     "data": {
      "text/plain": [
       "        Max Speed  Weight\n",
       "Animal                   \n",
       "Falcon       True   False\n",
       "Parrot      False   False"
      ],
      "text/html": "<div>\n<style scoped>\n    .dataframe tbody tr th:only-of-type {\n        vertical-align: middle;\n    }\n\n    .dataframe tbody tr th {\n        vertical-align: top;\n    }\n\n    .dataframe thead th {\n        text-align: right;\n    }\n</style>\n<table border=\"1\" class=\"dataframe\">\n  <thead>\n    <tr style=\"text-align: right;\">\n      <th></th>\n      <th>Max Speed</th>\n      <th>Weight</th>\n    </tr>\n    <tr>\n      <th>Animal</th>\n      <th></th>\n      <th></th>\n    </tr>\n  </thead>\n  <tbody>\n    <tr>\n      <th>Falcon</th>\n      <td>True</td>\n      <td>False</td>\n    </tr>\n    <tr>\n      <th>Parrot</th>\n      <td>False</td>\n      <td>False</td>\n    </tr>\n  </tbody>\n</table>\n</div>"
     },
     "metadata": {},
     "execution_count": 194
    }
   ],
   "source": [
    "# all は各グループの各列の要素が全て True なら True を返し、一つでも False があるなら False を返す（ and 演算）\n",
    "df_2.groupby(\"Animal\").all()"
   ]
  },
  {
   "cell_type": "code",
   "execution_count": 195,
   "metadata": {},
   "outputs": [
    {
     "output_type": "execute_result",
     "data": {
      "text/plain": [
       "        Max Speed  Weight\n",
       "Animal                   \n",
       "Falcon       True    True\n",
       "Parrot      False    True"
      ],
      "text/html": "<div>\n<style scoped>\n    .dataframe tbody tr th:only-of-type {\n        vertical-align: middle;\n    }\n\n    .dataframe tbody tr th {\n        vertical-align: top;\n    }\n\n    .dataframe thead th {\n        text-align: right;\n    }\n</style>\n<table border=\"1\" class=\"dataframe\">\n  <thead>\n    <tr style=\"text-align: right;\">\n      <th></th>\n      <th>Max Speed</th>\n      <th>Weight</th>\n    </tr>\n    <tr>\n      <th>Animal</th>\n      <th></th>\n      <th></th>\n    </tr>\n  </thead>\n  <tbody>\n    <tr>\n      <th>Falcon</th>\n      <td>True</td>\n      <td>True</td>\n    </tr>\n    <tr>\n      <th>Parrot</th>\n      <td>False</td>\n      <td>True</td>\n    </tr>\n  </tbody>\n</table>\n</div>"
     },
     "metadata": {},
     "execution_count": 195
    }
   ],
   "source": [
    "# any は各グループの各列の要素に一つでも True なら True を返し、全て False なら False を返す（ or 演算）\n",
    "df_2.groupby(\"Animal\").any()"
   ]
  },
  {
   "cell_type": "code",
   "execution_count": 196,
   "metadata": {},
   "outputs": [
    {
     "output_type": "stream",
     "name": "stdout",
     "text": [
      "   Animal  Max Speed  Weight\n0  Falcon        NaN     1.0\n1  Falcon        NaN     0.8\n2  Parrot       30.0     2.2\n3  Falcon      370.0     NaN\n4  Parrot        NaN     NaN\n5  Parrot       26.0     NaN\n"
     ]
    }
   ],
   "source": [
    "df_3 = pd.DataFrame({'Animal': ['Falcon', 'Falcon', 'Parrot',\n",
    "                              'Falcon', 'Parrot', 'Parrot'],\n",
    "                   'Max Speed': [None, None, 30., 370., None, 26.],\n",
    "                   'Weight': [1.0, 0.8, 2.2, None, None, None]})\n",
    "print(df_3)"
   ]
  },
  {
   "cell_type": "code",
   "execution_count": 197,
   "metadata": {},
   "outputs": [
    {
     "output_type": "stream",
     "name": "stdout",
     "text": [
      "        Max Speed  Weight\n",
      "Animal                   \n",
      "Falcon       True    True\n",
      "Parrot       True    True\n"
     ]
    }
   ],
   "source": [
    "def isnull(x, how=\"any\"):\n",
    "    if how == \"any\":\n",
    "        return x.isnull().any()\n",
    "    elif how == \"all\":\n",
    "        return x.isnull().all()\n",
    "\n",
    "print(df_3.groupby(\"Animal\").agg(isnull, how=\"any\"))"
   ]
  },
  {
   "cell_type": "code",
   "execution_count": 198,
   "metadata": {},
   "outputs": [
    {
     "output_type": "stream",
     "name": "stdout",
     "text": [
      "        Max Speed  Weight\nAnimal                   \nFalcon        2.0     1.0\nParrot        1.0     2.0\n"
     ]
    }
   ],
   "source": [
    "def null_counter(x):\n",
    "    return x.isnull().sum()\n",
    "    \n",
    "# 一つでも欠測値を含むかどうかを確認するとき\n",
    "print(df_3.groupby(\"Animal\").agg(null_counter))"
   ]
  },
  {
   "cell_type": "code",
   "execution_count": 199,
   "metadata": {},
   "outputs": [
    {
     "output_type": "stream",
     "name": "stdout",
     "text": [
      "   Max Speed  Weight\n0      370.0     1.0\n1      370.0     0.8\n2       30.0     2.2\n3      370.0     NaN\n4       26.0     NaN\n5       26.0     NaN\n"
     ]
    }
   ],
   "source": [
    "# bfill は欠測値を後ろ向きに同じ値で補間する。データの後方が欠測している場合は補間されない。\n",
    "print(df_3.groupby(\"Animal\").bfill())"
   ]
  },
  {
   "cell_type": "code",
   "execution_count": 200,
   "metadata": {},
   "outputs": [
    {
     "output_type": "execute_result",
     "data": {
      "text/plain": [
       "   Max Speed  Weight\n",
       "0      370.0     1.0\n",
       "1      370.0     0.8\n",
       "2       30.0     2.2\n",
       "3      370.0     NaN\n",
       "4       26.0     NaN\n",
       "5       26.0     NaN"
      ],
      "text/html": "<div>\n<style scoped>\n    .dataframe tbody tr th:only-of-type {\n        vertical-align: middle;\n    }\n\n    .dataframe tbody tr th {\n        vertical-align: top;\n    }\n\n    .dataframe thead th {\n        text-align: right;\n    }\n</style>\n<table border=\"1\" class=\"dataframe\">\n  <thead>\n    <tr style=\"text-align: right;\">\n      <th></th>\n      <th>Max Speed</th>\n      <th>Weight</th>\n    </tr>\n  </thead>\n  <tbody>\n    <tr>\n      <th>0</th>\n      <td>370.0</td>\n      <td>1.0</td>\n    </tr>\n    <tr>\n      <th>1</th>\n      <td>370.0</td>\n      <td>0.8</td>\n    </tr>\n    <tr>\n      <th>2</th>\n      <td>30.0</td>\n      <td>2.2</td>\n    </tr>\n    <tr>\n      <th>3</th>\n      <td>370.0</td>\n      <td>NaN</td>\n    </tr>\n    <tr>\n      <th>4</th>\n      <td>26.0</td>\n      <td>NaN</td>\n    </tr>\n    <tr>\n      <th>5</th>\n      <td>26.0</td>\n      <td>NaN</td>\n    </tr>\n  </tbody>\n</table>\n</div>"
     },
     "metadata": {},
     "execution_count": 200
    }
   ],
   "source": [
    "# backfill は bfill と同じ処理（プログラム的にも同じ処理）\n",
    "df_3.groupby(\"Animal\").backfill()"
   ]
  },
  {
   "cell_type": "code",
   "execution_count": 201,
   "metadata": {},
   "outputs": [
    {
     "output_type": "stream",
     "name": "stdout",
     "text": [
      "   Max Speed  Weight\n0        NaN     1.0\n1        NaN     0.8\n2       30.0     2.2\n3      370.0     0.8\n4       30.0     2.2\n5       26.0     2.2\n"
     ]
    }
   ],
   "source": [
    "# ffill は欠測値を前向きに同じ値で補間する。欠測値から始まる場合は補間されない\n",
    "print(df_3.groupby(\"Animal\").ffill())"
   ]
  },
  {
   "cell_type": "code",
   "execution_count": 202,
   "metadata": {},
   "outputs": [
    {
     "output_type": "stream",
     "name": "stdout",
     "text": [
      "   Max Speed  Weight\n0       30.0     1.0\n1       30.0     0.8\n2       30.0     2.2\n3      370.0     0.8\n4       30.0     2.2\n5       26.0     2.2\n"
     ]
    }
   ],
   "source": [
    "# 前向き補間と後ろ向き補間の両方を適用することで、全ての欠測値を補間できる\n",
    "print(df_3.groupby(\"Animal\").ffill().bfill())"
   ]
  },
  {
   "cell_type": "code",
   "execution_count": 203,
   "metadata": {},
   "outputs": [
    {
     "output_type": "stream",
     "name": "stdout",
     "text": [
      "   Max Speed  Weight\n0      370.0     1.0\n1      370.0     0.8\n2       30.0     2.2\n3      370.0     0.8\n4       28.0     2.2\n5       26.0     2.2\n"
     ]
    }
   ],
   "source": [
    "def interpolate(x):\n",
    "    return x.interpolate(limit_direction=\"both\")\n",
    "\n",
    "print(df_3.groupby(\"Animal\").transform(interpolate))"
   ]
  },
  {
   "cell_type": "code",
   "execution_count": 204,
   "metadata": {},
   "outputs": [
    {
     "output_type": "execute_result",
     "data": {
      "text/plain": [
       "   Max Speed  Weight\n",
       "0        NaN     1.0\n",
       "1        NaN     0.8\n",
       "2       30.0     2.2\n",
       "3      370.0     0.8\n",
       "4       30.0     2.2\n",
       "5       26.0     2.2"
      ],
      "text/html": "<div>\n<style scoped>\n    .dataframe tbody tr th:only-of-type {\n        vertical-align: middle;\n    }\n\n    .dataframe tbody tr th {\n        vertical-align: top;\n    }\n\n    .dataframe thead th {\n        text-align: right;\n    }\n</style>\n<table border=\"1\" class=\"dataframe\">\n  <thead>\n    <tr style=\"text-align: right;\">\n      <th></th>\n      <th>Max Speed</th>\n      <th>Weight</th>\n    </tr>\n  </thead>\n  <tbody>\n    <tr>\n      <th>0</th>\n      <td>NaN</td>\n      <td>1.0</td>\n    </tr>\n    <tr>\n      <th>1</th>\n      <td>NaN</td>\n      <td>0.8</td>\n    </tr>\n    <tr>\n      <th>2</th>\n      <td>30.0</td>\n      <td>2.2</td>\n    </tr>\n    <tr>\n      <th>3</th>\n      <td>370.0</td>\n      <td>0.8</td>\n    </tr>\n    <tr>\n      <th>4</th>\n      <td>30.0</td>\n      <td>2.2</td>\n    </tr>\n    <tr>\n      <th>5</th>\n      <td>26.0</td>\n      <td>2.2</td>\n    </tr>\n  </tbody>\n</table>\n</div>"
     },
     "metadata": {},
     "execution_count": 204
    }
   ],
   "source": [
    "# pad で欠測値を前向きに同じ値で補間する。limit で補間する数を指定できる（ffill と同じ）\n",
    "df_3.groupby(\"Animal\").pad()"
   ]
  },
  {
   "cell_type": "code",
   "execution_count": 205,
   "metadata": {},
   "outputs": [
    {
     "output_type": "execute_result",
     "data": {
      "text/plain": [
       "   Max Speed  Weight\n",
       "0        NaN     1.0\n",
       "1        NaN     0.8\n",
       "2       30.0     2.2\n",
       "3      370.0     0.8\n",
       "4       30.0     2.2\n",
       "5       26.0     NaN"
      ],
      "text/html": "<div>\n<style scoped>\n    .dataframe tbody tr th:only-of-type {\n        vertical-align: middle;\n    }\n\n    .dataframe tbody tr th {\n        vertical-align: top;\n    }\n\n    .dataframe thead th {\n        text-align: right;\n    }\n</style>\n<table border=\"1\" class=\"dataframe\">\n  <thead>\n    <tr style=\"text-align: right;\">\n      <th></th>\n      <th>Max Speed</th>\n      <th>Weight</th>\n    </tr>\n  </thead>\n  <tbody>\n    <tr>\n      <th>0</th>\n      <td>NaN</td>\n      <td>1.0</td>\n    </tr>\n    <tr>\n      <th>1</th>\n      <td>NaN</td>\n      <td>0.8</td>\n    </tr>\n    <tr>\n      <th>2</th>\n      <td>30.0</td>\n      <td>2.2</td>\n    </tr>\n    <tr>\n      <th>3</th>\n      <td>370.0</td>\n      <td>0.8</td>\n    </tr>\n    <tr>\n      <th>4</th>\n      <td>30.0</td>\n      <td>2.2</td>\n    </tr>\n    <tr>\n      <th>5</th>\n      <td>26.0</td>\n      <td>NaN</td>\n    </tr>\n  </tbody>\n</table>\n</div>"
     },
     "metadata": {},
     "execution_count": 205
    }
   ],
   "source": [
    "# pad で欠測値を前向きに同じ値で補間する。limit で補間する数を指定できる\n",
    "df_3.groupby(\"Animal\").pad(limit=1)"
   ]
  },
  {
   "cell_type": "code",
   "execution_count": 206,
   "metadata": {},
   "outputs": [
    {
     "output_type": "stream",
     "name": "stdout",
     "text": [
      "        Max Speed  Weight\nAnimal                   \nFalcon          4       4\nParrot          3       3\n"
     ]
    }
   ],
   "source": [
    "# count は、各グループの各列に存在する欠測値の数を取得できる\n",
    "print(df.groupby(\"Animal\").count())"
   ]
  },
  {
   "cell_type": "code",
   "execution_count": 207,
   "metadata": {},
   "outputs": [
    {
     "output_type": "stream",
     "name": "stdout",
     "text": [
      "   Animal\n0  Falcon\n1  Falcon\n2  Parrot\n3  Falcon\n4  Parrot\n5  Parrot\n"
     ]
    }
   ],
   "source": [
    "df_4 = pd.DataFrame({'Animal': ['Falcon', 'Falcon', 'Parrot', 'Falcon', 'Parrot', 'Parrot']})\n",
    "print(df_4)"
   ]
  },
  {
   "cell_type": "code",
   "execution_count": 208,
   "metadata": {},
   "outputs": [
    {
     "output_type": "execute_result",
     "data": {
      "text/plain": [
       "0    0\n",
       "1    0\n",
       "2    1\n",
       "3    1\n",
       "4    2\n",
       "5    3\n",
       "6    2\n",
       "dtype: int64"
      ]
     },
     "metadata": {},
     "execution_count": 208
    }
   ],
   "source": [
    "# cumcount はグループの出現順序を保持したまま、各グループの出現順を取得できる\n",
    "df.groupby(\"Animal\").cumcount()"
   ]
  },
  {
   "cell_type": "code",
   "execution_count": 209,
   "metadata": {},
   "outputs": [
    {
     "output_type": "execute_result",
     "data": {
      "text/plain": [
       "0    3\n",
       "1    2\n",
       "2    2\n",
       "3    1\n",
       "4    1\n",
       "5    0\n",
       "6    0\n",
       "dtype: int64"
      ]
     },
     "metadata": {},
     "execution_count": 209
    }
   ],
   "source": [
    "# ascending = False とすることで、数字を反転できる。\n",
    "df.groupby(\"Animal\").cumcount(ascending=False)"
   ]
  },
  {
   "cell_type": "code",
   "execution_count": 210,
   "metadata": {},
   "outputs": [
    {
     "output_type": "execute_result",
     "data": {
      "text/plain": [
       "0    0\n",
       "1    1\n",
       "2    0\n",
       "3    1\n",
       "4    0\n",
       "5    0\n",
       "6    1\n",
       "dtype: int64"
      ]
     },
     "metadata": {},
     "execution_count": 210
    }
   ],
   "source": [
    "# ngroup でグループごとに番号を振ることができる\n",
    "df.groupby(\"Animal\").ngroup()"
   ]
  },
  {
   "cell_type": "code",
   "execution_count": 211,
   "metadata": {},
   "outputs": [
    {
     "output_type": "execute_result",
     "data": {
      "text/plain": [
       "0    1\n",
       "1    0\n",
       "2    1\n",
       "3    0\n",
       "4    1\n",
       "5    1\n",
       "6    0\n",
       "dtype: int64"
      ]
     },
     "metadata": {},
     "execution_count": 211
    }
   ],
   "source": [
    "df.groupby(\"Animal\").ngroup(ascending=False)"
   ]
  },
  {
   "cell_type": "code",
   "execution_count": 212,
   "metadata": {},
   "outputs": [
    {
     "output_type": "stream",
     "name": "stdout",
     "text": [
      "   Animal  Max Speed  Weight\n0  Falcon      375.0    1.00\n1  Falcon      380.0    0.80\n2  Falcon      370.0    0.90\n3  Falcon      375.0    0.95\n4  Parrot       20.0    2.20\n5  Parrot       23.0    2.00\n6  Parrot       26.0    2.50\n"
     ]
    }
   ],
   "source": [
    "df_5 = pd.DataFrame({'Animal': ['Falcon', 'Falcon', 'Falcon', 'Falcon',\n",
    "                              'Parrot', 'Parrot', 'Parrot'],\n",
    "                   'Max Speed': [375, 380, 370., 375., 20, 23, 26.],\n",
    "                   'Weight': [1.0, 0.8, 0.9, 0.95, 2.2, 2.0, 2.5]})\n",
    "print(df_5)"
   ]
  },
  {
   "cell_type": "code",
   "execution_count": 213,
   "metadata": {},
   "outputs": [
    {
     "output_type": "stream",
     "name": "stdout",
     "text": [
      "   Max Speed  Weight\n0      375.0     1.0\n1       20.0     2.2\n2      380.0     1.0\n3       23.0     2.2\n4      380.0     1.2\n5      390.0     1.2\n6       26.0     2.5\n"
     ]
    }
   ],
   "source": [
    "# cummax は、グループごとに累積最大値を取ることができる\n",
    "print(df.groupby(\"Animal\").cummax())"
   ]
  },
  {
   "cell_type": "code",
   "execution_count": 214,
   "metadata": {},
   "outputs": [
    {
     "output_type": "stream",
     "name": "stdout",
     "text": [
      "   Max Speed  Weight\n0      375.0     1.0\n1       20.0     2.2\n2      375.0     0.9\n3       20.0     2.0\n4      370.0     0.9\n5      370.0     0.9\n6       20.0     2.0\n"
     ]
    }
   ],
   "source": [
    "# cummin は、グループごとに累積最小値を取ることができる\n",
    "print(df.groupby(\"Animal\").cummin())"
   ]
  },
  {
   "cell_type": "code",
   "execution_count": 215,
   "metadata": {},
   "outputs": [
    {
     "output_type": "stream",
     "name": "stdout",
     "text": [
      "      Max Speed  Weight\n0  3.750000e+02   1.000\n1  2.000000e+01   2.200\n2  1.425000e+05   0.900\n3  4.600000e+02   4.400\n4  5.272500e+07   1.080\n5  2.056275e+10   1.188\n6  1.196000e+04  11.000\n"
     ]
    }
   ],
   "source": [
    "# cumprod は、グループごとに累積積を取ることができる\n",
    "print(df.groupby(\"Animal\").cumprod())"
   ]
  },
  {
   "cell_type": "code",
   "execution_count": 216,
   "metadata": {},
   "outputs": [
    {
     "output_type": "stream",
     "name": "stdout",
     "text": [
      "   Max Speed  Weight\n0      375.0     1.0\n1       20.0     2.2\n2      755.0     1.9\n3       43.0     4.2\n4     1125.0     3.1\n5     1515.0     4.2\n6       69.0     6.7\n"
     ]
    }
   ],
   "source": [
    "# cumsum は、グループごとに累積和を取ることができる\n",
    "print(df.groupby(\"Animal\").cumsum())"
   ]
  },
  {
   "cell_type": "code",
   "execution_count": 217,
   "metadata": {},
   "outputs": [
    {
     "output_type": "stream",
     "name": "stdout",
     "text": [
      "        Max Speed  Weight\nAnimal                   \nFalcon      375.0     1.0\nParrot       20.0     2.2\n"
     ]
    }
   ],
   "source": [
    "# first は各グループの最初の行を取得できる\n",
    "print(df.groupby(\"Animal\").first())"
   ]
  },
  {
   "cell_type": "code",
   "execution_count": 218,
   "metadata": {},
   "outputs": [
    {
     "output_type": "stream",
     "name": "stdout",
     "text": [
      "        Max Speed  Weight\nAnimal                   \nFalcon      390.0     1.1\nParrot       26.0     2.5\n"
     ]
    }
   ],
   "source": [
    "# last は各グループの最後の行を取得できる\n",
    "print(df.groupby(\"Animal\").last())"
   ]
  },
  {
   "cell_type": "code",
   "execution_count": 219,
   "metadata": {},
   "outputs": [
    {
     "output_type": "stream",
     "name": "stdout",
     "text": [
      "        Max Speed  Weight\nAnimal                   \nFalcon      375.0     1.0\nParrot        NaN     NaN\n"
     ]
    }
   ],
   "source": [
    "# min_count で規定数未満の行数しかないデータは欠測値を返す\n",
    "print(df.groupby(\"Animal\").first(min_count=4))"
   ]
  },
  {
   "cell_type": "code",
   "execution_count": 220,
   "metadata": {},
   "outputs": [
    {
     "output_type": "stream",
     "name": "stdout",
     "text": [
      "   Animal  Max Speed  Weight\n",
      "0  Falcon      375.0     1.0\n",
      "1  Parrot       20.0     2.2\n",
      "2  Falcon      380.0     0.9\n",
      "3  Parrot       23.0     2.0\n",
      "4  Falcon      370.0     1.2\n",
      "6  Parrot       26.0     2.5\n"
     ]
    }
   ],
   "source": [
    "# head で先頭から N 行目までを取得できる\n",
    "print(df.groupby(\"Animal\").head(3))"
   ]
  },
  {
   "cell_type": "code",
   "execution_count": 221,
   "metadata": {},
   "outputs": [
    {
     "output_type": "stream",
     "name": "stdout",
     "text": [
      "   Animal  Max Speed  Weight\n1  Parrot       20.0     2.2\n2  Falcon      380.0     0.9\n3  Parrot       23.0     2.0\n4  Falcon      370.0     1.2\n5  Falcon      390.0     1.1\n6  Parrot       26.0     2.5\n"
     ]
    }
   ],
   "source": [
    "# tail で末尾から N 行目までを取得できる\n",
    "print(df.groupby(\"Animal\").tail(3))"
   ]
  },
  {
   "cell_type": "code",
   "execution_count": 222,
   "metadata": {},
   "outputs": [
    {
     "output_type": "stream",
     "name": "stdout",
     "text": [
      "        Max Speed  Weight\nAnimal                   \nFalcon      370.0     1.2\nParrot       26.0     2.5\n"
     ]
    }
   ],
   "source": [
    "# nth でグループごとに n 番目のデータを取得できる\n",
    "print(df.groupby(\"Animal\").nth(2))"
   ]
  },
  {
   "cell_type": "code",
   "execution_count": 223,
   "metadata": {},
   "outputs": [
    {
     "output_type": "stream",
     "name": "stdout",
     "text": [
      "        Max Speed  Weight\nAnimal                   \nFalcon      375.0     1.0\nFalcon      370.0     1.2\nParrot       20.0     2.2\nParrot       26.0     2.5\n"
     ]
    }
   ],
   "source": [
    "# nth でグループごとに n 番目のデータを取得できる（リストで複数列の取得ができる）\n",
    "print(df.groupby(\"Animal\").nth([0, 2]))"
   ]
  },
  {
   "cell_type": "code",
   "execution_count": 224,
   "metadata": {},
   "outputs": [
    {
     "output_type": "stream",
     "name": "stdout",
     "text": [
      "          Max Speed  Weight\nAnimal                     \nFalcon 0      375.0     1.0\n       4      370.0     1.2\nParrot 1       20.0     2.2\n       6       26.0     2.5\n"
     ]
    }
   ],
   "source": [
    "# take でグループごとにインデックスを指定して、データを取り出せる\n",
    "print(df.groupby(\"Animal\").take([0, 2]))"
   ]
  },
  {
   "cell_type": "code",
   "execution_count": 225,
   "metadata": {},
   "outputs": [
    {
     "output_type": "stream",
     "name": "stdout",
     "text": [
      "   Weight\n0     1.0\n1     2.2\n2     0.9\n3     2.0\n4     1.2\n5     1.1\n6     2.5\n"
     ]
    }
   ],
   "source": [
    "# axis=1 を指定することで、n 番目の列を取り出せる\n",
    "print(df.groupby(\"Animal\").take([1], axis=1))"
   ]
  },
  {
   "cell_type": "code",
   "execution_count": 226,
   "metadata": {},
   "outputs": [
    {
     "output_type": "stream",
     "name": "stdout",
     "text": [
      "        Max Speed  Weight\nAnimal                   \nFalcon      390.0     1.2\nParrot       26.0     2.5\n"
     ]
    }
   ],
   "source": [
    "# max で各グループごとに最大値を取得できる。\n",
    "print(df.groupby(\"Animal\").max())"
   ]
  },
  {
   "cell_type": "code",
   "execution_count": 227,
   "metadata": {},
   "outputs": [
    {
     "output_type": "execute_result",
     "data": {
      "text/plain": [
       "        Max Speed  Weight\n",
       "Animal                   \n",
       "Falcon      380.0     1.0\n",
       "Parrot        NaN     NaN"
      ],
      "text/html": "<div>\n<style scoped>\n    .dataframe tbody tr th:only-of-type {\n        vertical-align: middle;\n    }\n\n    .dataframe tbody tr th {\n        vertical-align: top;\n    }\n\n    .dataframe thead th {\n        text-align: right;\n    }\n</style>\n<table border=\"1\" class=\"dataframe\">\n  <thead>\n    <tr style=\"text-align: right;\">\n      <th></th>\n      <th>Max Speed</th>\n      <th>Weight</th>\n    </tr>\n    <tr>\n      <th>Animal</th>\n      <th></th>\n      <th></th>\n    </tr>\n  </thead>\n  <tbody>\n    <tr>\n      <th>Falcon</th>\n      <td>380.0</td>\n      <td>1.0</td>\n    </tr>\n    <tr>\n      <th>Parrot</th>\n      <td>NaN</td>\n      <td>NaN</td>\n    </tr>\n  </tbody>\n</table>\n</div>"
     },
     "metadata": {},
     "execution_count": 227
    }
   ],
   "source": [
    "# max で各グループごとに最大値を取得できる。min_count で規定数未満のグループは NaN を返す\n",
    "df_5.groupby(\"Animal\").max(min_count=4)"
   ]
  },
  {
   "cell_type": "code",
   "execution_count": 228,
   "metadata": {},
   "outputs": [
    {
     "output_type": "stream",
     "name": "stdout",
     "text": [
      "        Max Speed  Weight\nAnimal                   \nFalcon      370.0     0.9\nParrot       20.0     2.0\n"
     ]
    }
   ],
   "source": [
    "# min で各グループごとに最小値を取得できる。\n",
    "print(df.groupby(\"Animal\").min())"
   ]
  },
  {
   "cell_type": "code",
   "execution_count": 229,
   "metadata": {},
   "outputs": [
    {
     "output_type": "stream",
     "name": "stdout",
     "text": [
      "        Max Speed  Weight\nAnimal                   \nFalcon      377.5    1.05\nParrot       23.0    2.20\n"
     ]
    }
   ],
   "source": [
    "# median で各グループごとに中央値を取得できる。\n",
    "print(df.groupby(\"Animal\").median())"
   ]
  },
  {
   "cell_type": "code",
   "execution_count": 230,
   "metadata": {},
   "outputs": [
    {
     "output_type": "stream",
     "name": "stdout",
     "text": [
      "        Max Speed    Weight\nAnimal                     \nFalcon     378.75  1.050000\nParrot      23.00  2.233333\n"
     ]
    }
   ],
   "source": [
    "# mean で各グループごとに平均値を取得できる。\n",
    "print(df.groupby(\"Animal\").mean())"
   ]
  },
  {
   "cell_type": "code",
   "execution_count": 231,
   "metadata": {},
   "outputs": [
    {
     "output_type": "stream",
     "name": "stdout",
     "text": [
      "       Max Speed                      Weight                \n            open   high    low  close   open high  low close\nAnimal                                                      \nFalcon     375.0  390.0  370.0  390.0    1.0  1.2  0.9   1.1\nParrot      20.0   26.0   20.0   26.0    2.2  2.5  2.0   2.5\n"
     ]
    }
   ],
   "source": [
    "# ohlc で四本値（始値、高値、安値、終値）を取得できる。（数値列のみを指定する必要あり）\n",
    "print(df.groupby(\"Animal\")[[\"Max Speed\", \"Weight\"]].ohlc())"
   ]
  },
  {
   "cell_type": "code",
   "execution_count": 232,
   "metadata": {},
   "outputs": [
    {
     "output_type": "stream",
     "name": "stdout",
     "text": [
      "           Max Speed  Weight\nAnimal                      \nFalcon  2.056275e+10   1.188\nParrot  1.196000e+04  11.000\n"
     ]
    }
   ],
   "source": [
    "# prod でグループごとの総乗を求めることができる\n",
    "print(df.groupby(\"Animal\").prod())"
   ]
  },
  {
   "cell_type": "code",
   "execution_count": 233,
   "metadata": {},
   "outputs": [
    {
     "output_type": "stream",
     "name": "stdout",
     "text": [
      "        Max Speed  Weight\nAnimal                   \nFalcon     1515.0     4.2\nParrot       69.0     6.7\n"
     ]
    }
   ],
   "source": [
    "# prod でグループごとの総和を求めることができる\n",
    "print(df.groupby(\"Animal\").sum())"
   ]
  },
  {
   "cell_type": "code",
   "execution_count": 234,
   "metadata": {},
   "outputs": [
    {
     "output_type": "stream",
     "name": "stdout",
     "text": [
      "   Max Speed  Weight\n0        2.0     2.0\n1        1.0     2.0\n2        3.0     1.0\n3        2.0     1.0\n4        1.0     4.0\n5        4.0     3.0\n6        3.0     3.0\n"
     ]
    }
   ],
   "source": [
    "# rank でグループごとに要素の順番を求めることができる\n",
    "print(df.groupby(\"Animal\").rank())"
   ]
  },
  {
   "cell_type": "code",
   "execution_count": 235,
   "metadata": {},
   "outputs": [
    {
     "output_type": "stream",
     "name": "stdout",
     "text": [
      "   Max Speed    Weight\n0   0.500000  0.500000\n1   0.333333  0.666667\n2   0.750000  0.250000\n3   0.666667  0.333333\n4   0.250000  1.000000\n5   1.000000  0.750000\n6   1.000000  1.000000\n"
     ]
    }
   ],
   "source": [
    "# pct=True でパーセンテージ表記にできる\n",
    "print(df.groupby(\"Animal\").rank(pct=True))"
   ]
  },
  {
   "cell_type": "code",
   "execution_count": 236,
   "metadata": {},
   "outputs": [
    {
     "output_type": "stream",
     "name": "stdout",
     "text": [
      "   Max Speed  Weight\n0        2.0     2.0\n1        1.0     2.0\n2        3.0     1.0\n3        2.0     1.0\n4        1.0     4.0\n5        4.0     3.0\n6        3.0     3.0\n"
     ]
    }
   ],
   "source": [
    "# method=\"min\" で同率の場合は最小順位を採用する（デフォルトは平均値）\n",
    "print(df.groupby(\"Animal\").rank(method=\"min\"))"
   ]
  },
  {
   "cell_type": "code",
   "execution_count": 237,
   "metadata": {},
   "outputs": [
    {
     "output_type": "stream",
     "name": "stdout",
     "text": [
      "   Max Speed  Weight\n",
      "0        2.0     2.0\n",
      "1        1.0     2.0\n",
      "2        3.0     1.0\n",
      "3        2.0     1.0\n",
      "4        1.0     4.0\n",
      "5        4.0     3.0\n",
      "6        3.0     3.0\n"
     ]
    }
   ],
   "source": [
    "# method=\"max\" で同率の場合は最大順位を採用する（デフォルトは平均値）\n",
    "print(df.groupby(\"Animal\").rank(method=\"max\"))"
   ]
  },
  {
   "cell_type": "code",
   "execution_count": 238,
   "metadata": {},
   "outputs": [
    {
     "output_type": "stream",
     "name": "stdout",
     "text": [
      "   Max Speed  Weight\n0        2.0     2.0\n1        1.0     2.0\n2        3.0     1.0\n3        2.0     1.0\n4        1.0     4.0\n5        4.0     3.0\n6        3.0     3.0\n"
     ]
    }
   ],
   "source": [
    "# method=\"first\" で同率の場合は最初に出現した要素を優先する\n",
    "print(df.groupby(\"Animal\").rank(method=\"first\"))"
   ]
  },
  {
   "cell_type": "code",
   "execution_count": 239,
   "metadata": {},
   "outputs": [
    {
     "output_type": "stream",
     "name": "stdout",
     "text": [
      "   Max Speed  Weight\n0        2.0     2.0\n1        1.0     2.0\n2        3.0     1.0\n3        2.0     1.0\n4        1.0     4.0\n5        4.0     3.0\n6        3.0     3.0\n"
     ]
    }
   ],
   "source": [
    "# method=\"dense\"\" で同率の場合は最小順位を採用するが、ランクの上昇幅は1に制限される\n",
    "# 同率2位の要素が二つあった場合、次の順位は4位ではなく、3位になる\n",
    "print(df.groupby(\"Animal\").rank(method=\"dense\"))"
   ]
  },
  {
   "cell_type": "code",
   "execution_count": 240,
   "metadata": {},
   "outputs": [
    {
     "output_type": "stream",
     "name": "stdout",
     "text": [
      "   Max Speed  Weight\n0        3.0     3.0\n1        3.0     2.0\n2        2.0     4.0\n3        2.0     3.0\n4        4.0     1.0\n5        1.0     2.0\n6        1.0     1.0\n"
     ]
    }
   ],
   "source": [
    "# ascending=False で大きい順に順位をつける\n",
    "print(df.groupby(\"Animal\").rank(ascending=False))"
   ]
  },
  {
   "cell_type": "code",
   "execution_count": 241,
   "metadata": {},
   "outputs": [
    {
     "output_type": "execute_result",
     "data": {
      "text/plain": [
       "   Max Speed  Weight\n",
       "0        NaN     NaN\n",
       "1        5.0   -0.20\n",
       "2      -10.0    0.10\n",
       "3        5.0    0.05\n",
       "4        NaN     NaN\n",
       "5        3.0   -0.20\n",
       "6        3.0    0.50"
      ],
      "text/html": "<div>\n<style scoped>\n    .dataframe tbody tr th:only-of-type {\n        vertical-align: middle;\n    }\n\n    .dataframe tbody tr th {\n        vertical-align: top;\n    }\n\n    .dataframe thead th {\n        text-align: right;\n    }\n</style>\n<table border=\"1\" class=\"dataframe\">\n  <thead>\n    <tr style=\"text-align: right;\">\n      <th></th>\n      <th>Max Speed</th>\n      <th>Weight</th>\n    </tr>\n  </thead>\n  <tbody>\n    <tr>\n      <th>0</th>\n      <td>NaN</td>\n      <td>NaN</td>\n    </tr>\n    <tr>\n      <th>1</th>\n      <td>5.0</td>\n      <td>-0.20</td>\n    </tr>\n    <tr>\n      <th>2</th>\n      <td>-10.0</td>\n      <td>0.10</td>\n    </tr>\n    <tr>\n      <th>3</th>\n      <td>5.0</td>\n      <td>0.05</td>\n    </tr>\n    <tr>\n      <th>4</th>\n      <td>NaN</td>\n      <td>NaN</td>\n    </tr>\n    <tr>\n      <th>5</th>\n      <td>3.0</td>\n      <td>-0.20</td>\n    </tr>\n    <tr>\n      <th>6</th>\n      <td>3.0</td>\n      <td>0.50</td>\n    </tr>\n  </tbody>\n</table>\n</div>"
     },
     "metadata": {},
     "execution_count": 241
    }
   ],
   "source": [
    "# diff でグループごとに差分値を求める\n",
    "df_5.groupby(\"Animal\").diff()"
   ]
  },
  {
   "cell_type": "code",
   "execution_count": 242,
   "metadata": {},
   "outputs": [
    {
     "output_type": "execute_result",
     "data": {
      "text/plain": [
       "   Max Speed    Weight\n",
       "0        NaN       NaN\n",
       "1   0.013333 -0.200000\n",
       "2  -0.026316  0.125000\n",
       "3   0.013514  0.055556\n",
       "4        NaN       NaN\n",
       "5   0.150000 -0.090909\n",
       "6   0.130435  0.250000"
      ],
      "text/html": "<div>\n<style scoped>\n    .dataframe tbody tr th:only-of-type {\n        vertical-align: middle;\n    }\n\n    .dataframe tbody tr th {\n        vertical-align: top;\n    }\n\n    .dataframe thead th {\n        text-align: right;\n    }\n</style>\n<table border=\"1\" class=\"dataframe\">\n  <thead>\n    <tr style=\"text-align: right;\">\n      <th></th>\n      <th>Max Speed</th>\n      <th>Weight</th>\n    </tr>\n  </thead>\n  <tbody>\n    <tr>\n      <th>0</th>\n      <td>NaN</td>\n      <td>NaN</td>\n    </tr>\n    <tr>\n      <th>1</th>\n      <td>0.013333</td>\n      <td>-0.200000</td>\n    </tr>\n    <tr>\n      <th>2</th>\n      <td>-0.026316</td>\n      <td>0.125000</td>\n    </tr>\n    <tr>\n      <th>3</th>\n      <td>0.013514</td>\n      <td>0.055556</td>\n    </tr>\n    <tr>\n      <th>4</th>\n      <td>NaN</td>\n      <td>NaN</td>\n    </tr>\n    <tr>\n      <th>5</th>\n      <td>0.150000</td>\n      <td>-0.090909</td>\n    </tr>\n    <tr>\n      <th>6</th>\n      <td>0.130435</td>\n      <td>0.250000</td>\n    </tr>\n  </tbody>\n</table>\n</div>"
     },
     "metadata": {},
     "execution_count": 242
    }
   ],
   "source": [
    "# pct_change でグループごとに変化率を求める\n",
    "df_5.groupby(\"Animal\").pct_change()"
   ]
  },
  {
   "cell_type": "code",
   "execution_count": 243,
   "metadata": {},
   "outputs": [
    {
     "output_type": "stream",
     "name": "stdout",
     "text": [
      "Animal\nFalcon    4\nParrot    3\ndtype: int64\n"
     ]
    }
   ],
   "source": [
    "# size でグループごとの大きさを取得できる\n",
    "print(df.groupby(\"Animal\").size())"
   ]
  },
  {
   "cell_type": "code",
   "execution_count": 244,
   "metadata": {},
   "outputs": [
    {
     "output_type": "stream",
     "name": "stdout",
     "text": [
      "        Max Speed    Weight\nAnimal                     \nFalcon   4.269563  0.064550\nParrot   1.732051  0.145297\n"
     ]
    }
   ],
   "source": [
    "# sem でグループごとに標準誤差を求めることができる（デフォルトで不変標準偏差を用いるようになっている）\n",
    "print(df.groupby(\"Animal\").sem())"
   ]
  },
  {
   "cell_type": "code",
   "execution_count": 245,
   "metadata": {},
   "outputs": [
    {
     "output_type": "execute_result",
     "data": {
      "text/plain": [
       "        Max Speed    Weight\n",
       "Animal                     \n",
       "Falcon   1.767767  0.036975\n",
       "Parrot   1.414214  0.118634"
      ],
      "text/html": "<div>\n<style scoped>\n    .dataframe tbody tr th:only-of-type {\n        vertical-align: middle;\n    }\n\n    .dataframe tbody tr th {\n        vertical-align: top;\n    }\n\n    .dataframe thead th {\n        text-align: right;\n    }\n</style>\n<table border=\"1\" class=\"dataframe\">\n  <thead>\n    <tr style=\"text-align: right;\">\n      <th></th>\n      <th>Max Speed</th>\n      <th>Weight</th>\n    </tr>\n    <tr>\n      <th>Animal</th>\n      <th></th>\n      <th></th>\n    </tr>\n  </thead>\n  <tbody>\n    <tr>\n      <th>Falcon</th>\n      <td>1.767767</td>\n      <td>0.036975</td>\n    </tr>\n    <tr>\n      <th>Parrot</th>\n      <td>1.414214</td>\n      <td>0.118634</td>\n    </tr>\n  </tbody>\n</table>\n</div>"
     },
     "metadata": {},
     "execution_count": 245
    }
   ],
   "source": [
    "# ddof で標準偏差を計算するときの自由度を調整できる\n",
    "df_5.groupby(\"Animal\").sem(ddof=0)"
   ]
  },
  {
   "cell_type": "code",
   "execution_count": 246,
   "metadata": {},
   "outputs": [
    {
     "output_type": "stream",
     "name": "stdout",
     "text": [
      "        Max Speed    Weight\nAnimal                     \nFalcon   8.539126  0.129099\nParrot   3.000000  0.251661\n"
     ]
    }
   ],
   "source": [
    "# std でグループごとに不変標準偏差を求めることができる\n",
    "print(df.groupby(\"Animal\").std())"
   ]
  },
  {
   "cell_type": "code",
   "execution_count": 247,
   "metadata": {},
   "outputs": [
    {
     "output_type": "stream",
     "name": "stdout",
     "text": [
      "        Max Speed    Weight\nAnimal                     \nFalcon  72.916667  0.016667\nParrot   9.000000  0.063333\n"
     ]
    }
   ],
   "source": [
    "# var で不偏分散を求めることができる\n",
    "print(df.groupby(\"Animal\").var())"
   ]
  },
  {
   "cell_type": "code",
   "execution_count": 248,
   "metadata": {},
   "outputs": [
    {
     "output_type": "stream",
     "name": "stdout",
     "text": [
      "                  Max Speed    Weight\n",
      "Animal                               \n",
      "Falcon Max Speed   1.000000 -0.226779\n",
      "       Weight     -0.226779  1.000000\n",
      "Parrot Max Speed   1.000000  0.596040\n",
      "       Weight      0.596040  1.000000\n"
     ]
    }
   ],
   "source": [
    "# corr でグループごとに相関係数を求めることができる\n",
    "print(df.groupby(\"Animal\").corr())"
   ]
  },
  {
   "cell_type": "code",
   "execution_count": 249,
   "metadata": {},
   "outputs": [
    {
     "output_type": "stream",
     "name": "stdout",
     "text": [
      "                  Max Speed    Weight\nAnimal                               \nFalcon Max Speed  72.916667 -0.250000\n       Weight     -0.250000  0.016667\nParrot Max Speed   9.000000  0.450000\n       Weight      0.450000  0.063333\n"
     ]
    }
   ],
   "source": [
    "# cov でグループごとに共分散行列を求めることができる\n",
    "print(df.groupby(\"Animal\").cov())"
   ]
  },
  {
   "cell_type": "code",
   "execution_count": 250,
   "metadata": {},
   "outputs": [
    {
     "output_type": "stream",
     "name": "stdout",
     "text": [
      "        Max Speed    Weight\nAnimal                     \nFalcon       6.25  0.100000\nParrot       2.00  0.177778\n"
     ]
    }
   ],
   "source": [
    "# mad で、平均絶対偏差を取ることができる\n",
    "print(df.groupby(\"Animal\").mad())"
   ]
  },
  {
   "cell_type": "code",
   "execution_count": 251,
   "metadata": {},
   "outputs": [
    {
     "output_type": "execute_result",
     "data": {
      "text/plain": [
       "        Max Speed  Weight\n",
       "Animal                   \n",
       "Falcon      375.0   0.925\n",
       "Parrot       23.0   2.200"
      ],
      "text/html": "<div>\n<style scoped>\n    .dataframe tbody tr th:only-of-type {\n        vertical-align: middle;\n    }\n\n    .dataframe tbody tr th {\n        vertical-align: top;\n    }\n\n    .dataframe thead th {\n        text-align: right;\n    }\n</style>\n<table border=\"1\" class=\"dataframe\">\n  <thead>\n    <tr style=\"text-align: right;\">\n      <th></th>\n      <th>Max Speed</th>\n      <th>Weight</th>\n    </tr>\n    <tr>\n      <th>Animal</th>\n      <th></th>\n      <th></th>\n    </tr>\n  </thead>\n  <tbody>\n    <tr>\n      <th>Falcon</th>\n      <td>375.0</td>\n      <td>0.925</td>\n    </tr>\n    <tr>\n      <th>Parrot</th>\n      <td>23.0</td>\n      <td>2.200</td>\n    </tr>\n  </tbody>\n</table>\n</div>"
     },
     "metadata": {},
     "execution_count": 251
    }
   ],
   "source": [
    "# quantile で50パーセンタイルを取得できる（中央値と一緒）\n",
    "df_5.groupby(\"Animal\").quantile()"
   ]
  },
  {
   "cell_type": "code",
   "execution_count": 252,
   "metadata": {},
   "outputs": [
    {
     "output_type": "execute_result",
     "data": {
      "text/plain": [
       "        Max Speed  Weight\n",
       "Animal                   \n",
       "Falcon      371.5    0.93\n",
       "Parrot       20.6    2.04"
      ],
      "text/html": "<div>\n<style scoped>\n    .dataframe tbody tr th:only-of-type {\n        vertical-align: middle;\n    }\n\n    .dataframe tbody tr th {\n        vertical-align: top;\n    }\n\n    .dataframe thead th {\n        text-align: right;\n    }\n</style>\n<table border=\"1\" class=\"dataframe\">\n  <thead>\n    <tr style=\"text-align: right;\">\n      <th></th>\n      <th>Max Speed</th>\n      <th>Weight</th>\n    </tr>\n    <tr>\n      <th>Animal</th>\n      <th></th>\n      <th></th>\n    </tr>\n  </thead>\n  <tbody>\n    <tr>\n      <th>Falcon</th>\n      <td>371.5</td>\n      <td>0.93</td>\n    </tr>\n    <tr>\n      <th>Parrot</th>\n      <td>20.6</td>\n      <td>2.04</td>\n    </tr>\n  </tbody>\n</table>\n</div>"
     },
     "metadata": {},
     "execution_count": 252
    }
   ],
   "source": [
    "# q で任意のパーセンタイルを取得できる\n",
    "df.groupby(\"Animal\").quantile(q=0.1)"
   ]
  },
  {
   "cell_type": "code",
   "execution_count": 253,
   "metadata": {},
   "outputs": [
    {
     "output_type": "stream",
     "name": "stdout",
     "text": [
      "            Max Speed  Weight\nAnimal                       \nFalcon 0.1      371.5    0.93\n       0.8      384.0    1.14\nParrot 0.1       20.6    2.04\n       0.8       24.8    2.38\n"
     ]
    }
   ],
   "source": [
    "# 複数のパーセンタイルも取得できる\n",
    "print(df.groupby(\"Animal\").quantile(q=[0.1, 0.8]))"
   ]
  },
  {
   "cell_type": "code",
   "execution_count": 254,
   "metadata": {},
   "outputs": [
    {
     "output_type": "stream",
     "name": "stdout",
     "text": [
      "        Max Speed    Weight\nAnimal                     \nFalcon   0.752837  0.000000\nParrot   0.000000  0.585583\n"
     ]
    }
   ],
   "source": [
    "# skew で尖度を取得できる\n",
    "print(df.groupby(\"Animal\").skew())"
   ]
  },
  {
   "source": [],
   "cell_type": "markdown",
   "metadata": {}
  },
  {
   "cell_type": "code",
   "execution_count": 255,
   "metadata": {},
   "outputs": [
    {
     "output_type": "stream",
     "name": "stdout",
     "text": [
      "       Max Speed                                                       Weight  \\\n           count    mean       std    min     25%    50%    75%    max  count   \nAnimal                                                                          \nFalcon       4.0  378.75  8.539126  370.0  373.75  377.5  382.5  390.0    4.0   \nParrot       3.0   23.00  3.000000   20.0   21.50   23.0   24.5   26.0    3.0   \n\n                                                          \n            mean       std  min    25%   50%    75%  max  \nAnimal                                                    \nFalcon  1.050000  0.129099  0.9  0.975  1.05  1.125  1.2  \nParrot  2.233333  0.251661  2.0  2.100  2.20  2.350  2.5  \n"
     ]
    }
   ],
   "source": [
    "# describe でグループごとの基本統計量を確認できる\n",
    "print(df.groupby(\"Animal\").describe())"
   ]
  },
  {
   "cell_type": "code",
   "execution_count": 256,
   "metadata": {},
   "outputs": [
    {
     "output_type": "stream",
     "name": "stdout",
     "text": [
      "   Animal  Max Speed  Weight\n0  Falcon      375.0     1.0\n2  Falcon      380.0     0.9\n4  Falcon      370.0     1.2\n5  Falcon      390.0     1.1\n"
     ]
    }
   ],
   "source": [
    "# filter は、与えた関数内で定義された条件を満たしたグループのデータを返す\n",
    "# 以下は、グループごとに最高スピードが300を超えるものだけを取り出している\n",
    "print(df.groupby(\"Animal\").filter(lambda x: x[\"Max Speed\"].max() > 300))"
   ]
  },
  {
   "cell_type": "code",
   "execution_count": 257,
   "metadata": {},
   "outputs": [
    {
     "output_type": "execute_result",
     "data": {
      "text/plain": [
       "Animal\n",
       "Falcon    [[AxesSubplot(0.125,0.125;0.336957x0.755), Axe...\n",
       "Parrot    [[AxesSubplot(0.125,0.125;0.336957x0.755), Axe...\n",
       "dtype: object"
      ]
     },
     "metadata": {},
     "execution_count": 257
    },
    {
     "output_type": "display_data",
     "data": {
      "text/plain": "<Figure size 432x288 with 2 Axes>",
      "image/svg+xml": "<?xml version=\"1.0\" encoding=\"utf-8\" standalone=\"no\"?>\n<!DOCTYPE svg PUBLIC \"-//W3C//DTD SVG 1.1//EN\"\n  \"http://www.w3.org/Graphics/SVG/1.1/DTD/svg11.dtd\">\n<svg height=\"263.219375pt\" version=\"1.1\" viewBox=\"0 0 372.441993 263.219375\" width=\"372.441993pt\" xmlns=\"http://www.w3.org/2000/svg\" xmlns:xlink=\"http://www.w3.org/1999/xlink\">\n <metadata>\n  <rdf:RDF xmlns:cc=\"http://creativecommons.org/ns#\" xmlns:dc=\"http://purl.org/dc/elements/1.1/\" xmlns:rdf=\"http://www.w3.org/1999/02/22-rdf-syntax-ns#\">\n   <cc:Work>\n    <dc:type rdf:resource=\"http://purl.org/dc/dcmitype/StillImage\"/>\n    <dc:date>2021-06-11T22:19:07.539961</dc:date>\n    <dc:format>image/svg+xml</dc:format>\n    <dc:creator>\n     <cc:Agent>\n      <dc:title>Matplotlib v3.4.2, https://matplotlib.org/</dc:title>\n     </cc:Agent>\n    </dc:creator>\n   </cc:Work>\n  </rdf:RDF>\n </metadata>\n <defs>\n  <style type=\"text/css\">*{stroke-linecap:butt;stroke-linejoin:round;}</style>\n </defs>\n <g id=\"figure_1\">\n  <g id=\"patch_1\">\n   <path d=\"M 0 263.219375 \nL 372.441993 263.219375 \nL 372.441993 0 \nL 0 0 \nz\n\" style=\"fill:none;\"/>\n  </g>\n  <g id=\"axes_1\">\n   <g id=\"patch_2\">\n    <path d=\"M 29.439063 239.62875 \nL 175.00428 239.62875 \nL 175.00428 22.18875 \nL 29.439063 22.18875 \nz\n\" style=\"fill:#ffffff;\"/>\n   </g>\n   <g id=\"patch_3\">\n    <path clip-path=\"url(#p78abc3089e)\" d=\"M 36.055663 239.62875 \nL 49.288865 239.62875 \nL 49.288865 32.543036 \nL 36.055663 32.543036 \nz\n\" style=\"fill:#1f77b4;\"/>\n   </g>\n   <g id=\"patch_4\">\n    <path clip-path=\"url(#p78abc3089e)\" d=\"M 49.288865 239.62875 \nL 62.522066 239.62875 \nL 62.522066 239.62875 \nL 49.288865 239.62875 \nz\n\" style=\"fill:#1f77b4;\"/>\n   </g>\n   <g id=\"patch_5\">\n    <path clip-path=\"url(#p78abc3089e)\" d=\"M 62.522066 239.62875 \nL 75.755268 239.62875 \nL 75.755268 32.543036 \nL 62.522066 32.543036 \nz\n\" style=\"fill:#1f77b4;\"/>\n   </g>\n   <g id=\"patch_6\">\n    <path clip-path=\"url(#p78abc3089e)\" d=\"M 75.755268 239.62875 \nL 88.98847 239.62875 \nL 88.98847 239.62875 \nL 75.755268 239.62875 \nz\n\" style=\"fill:#1f77b4;\"/>\n   </g>\n   <g id=\"patch_7\">\n    <path clip-path=\"url(#p78abc3089e)\" d=\"M 88.98847 239.62875 \nL 102.221671 239.62875 \nL 102.221671 239.62875 \nL 88.98847 239.62875 \nz\n\" style=\"fill:#1f77b4;\"/>\n   </g>\n   <g id=\"patch_8\">\n    <path clip-path=\"url(#p78abc3089e)\" d=\"M 102.221671 239.62875 \nL 115.454873 239.62875 \nL 115.454873 32.543036 \nL 102.221671 32.543036 \nz\n\" style=\"fill:#1f77b4;\"/>\n   </g>\n   <g id=\"patch_9\">\n    <path clip-path=\"url(#p78abc3089e)\" d=\"M 115.454873 239.62875 \nL 128.688074 239.62875 \nL 128.688074 239.62875 \nL 115.454873 239.62875 \nz\n\" style=\"fill:#1f77b4;\"/>\n   </g>\n   <g id=\"patch_10\">\n    <path clip-path=\"url(#p78abc3089e)\" d=\"M 128.688074 239.62875 \nL 141.921276 239.62875 \nL 141.921276 239.62875 \nL 128.688074 239.62875 \nz\n\" style=\"fill:#1f77b4;\"/>\n   </g>\n   <g id=\"patch_11\">\n    <path clip-path=\"url(#p78abc3089e)\" d=\"M 141.921276 239.62875 \nL 155.154478 239.62875 \nL 155.154478 239.62875 \nL 141.921276 239.62875 \nz\n\" style=\"fill:#1f77b4;\"/>\n   </g>\n   <g id=\"patch_12\">\n    <path clip-path=\"url(#p78abc3089e)\" d=\"M 155.154478 239.62875 \nL 168.387679 239.62875 \nL 168.387679 32.543036 \nL 155.154478 32.543036 \nz\n\" style=\"fill:#1f77b4;\"/>\n   </g>\n   <g id=\"matplotlib.axis_1\">\n    <g id=\"xtick_1\">\n     <g id=\"line2d_1\">\n      <path clip-path=\"url(#p78abc3089e)\" d=\"M 36.055663 239.62875 \nL 36.055663 22.18875 \n\" style=\"fill:none;stroke:#b0b0b0;stroke-linecap:square;stroke-width:0.8;\"/>\n     </g>\n     <g id=\"line2d_2\">\n      <defs>\n       <path d=\"M 0 0 \nL 0 3.5 \n\" id=\"m1eae8030ac\" style=\"stroke:#000000;stroke-width:0.8;\"/>\n      </defs>\n      <g>\n       <use style=\"stroke:#000000;stroke-width:0.8;\" x=\"36.055663\" xlink:href=\"#m1eae8030ac\" y=\"239.62875\"/>\n      </g>\n     </g>\n     <g id=\"text_1\">\n      <!-- 370 -->\n      <g transform=\"translate(26.608007 254.119375)scale(0.1 -0.1)\">\n       <defs>\n        <path d=\"M 2381 2419 \nQ 3506 2216 3506 1278 \nQ 3506 716 3128 356 \nQ 2709 -31 1944 -31 \nQ 797 -31 288 881 \nL 756 1131 \nQ 1109 441 1938 441 \nQ 2425 441 2694 691 \nQ 2950 928 2950 1291 \nQ 2950 1719 2566 1978 \nQ 2216 2213 1644 2213 \nL 1363 2213 \nL 1363 2669 \nL 1656 2669 \nQ 2231 2669 2534 2888 \nQ 2859 3119 2859 3509 \nQ 2859 3934 2494 4138 \nQ 2259 4278 1931 4278 \nQ 1238 4278 903 3578 \nL 434 3803 \nQ 897 4725 1938 4725 \nQ 2597 4725 3006 4394 \nQ 3416 4069 3416 3534 \nQ 3416 3028 3019 2706 \nQ 2763 2500 2381 2444 \nL 2381 2419 \nz\n\" id=\"IPAexGothic-33\" transform=\"scale(0.015625)\"/>\n        <path d=\"M 3597 4263 \nQ 2238 2106 1778 63 \nL 1131 63 \nQ 1581 1834 2950 4128 \nL 428 4128 \nL 428 4634 \nL 3597 4634 \nL 3597 4263 \nz\n\" id=\"IPAexGothic-37\" transform=\"scale(0.015625)\"/>\n        <path d=\"M 2038 4725 \nQ 2881 4725 3334 3944 \nQ 3694 3325 3694 2344 \nQ 3694 1372 3334 741 \nQ 2888 -31 2016 -31 \nQ 1147 -31 700 741 \nQ 341 1372 341 2350 \nQ 341 3713 1000 4334 \nQ 1419 4725 2038 4725 \nz\nM 2016 4266 \nQ 1516 4266 1228 3759 \nQ 934 3247 934 2344 \nQ 934 1456 1222 947 \nQ 1513 447 2016 447 \nQ 2619 447 2909 1153 \nQ 3100 1622 3100 2375 \nQ 3100 3256 2806 3759 \nQ 2509 4266 2016 4266 \nz\n\" id=\"IPAexGothic-30\" transform=\"scale(0.015625)\"/>\n       </defs>\n       <use xlink:href=\"#IPAexGothic-33\"/>\n       <use x=\"62.988281\" xlink:href=\"#IPAexGothic-37\"/>\n       <use x=\"125.976562\" xlink:href=\"#IPAexGothic-30\"/>\n      </g>\n     </g>\n    </g>\n    <g id=\"xtick_2\">\n     <g id=\"line2d_3\">\n      <path clip-path=\"url(#p78abc3089e)\" d=\"M 102.221671 239.62875 \nL 102.221671 22.18875 \n\" style=\"fill:none;stroke:#b0b0b0;stroke-linecap:square;stroke-width:0.8;\"/>\n     </g>\n     <g id=\"line2d_4\">\n      <g>\n       <use style=\"stroke:#000000;stroke-width:0.8;\" x=\"102.221671\" xlink:href=\"#m1eae8030ac\" y=\"239.62875\"/>\n      </g>\n     </g>\n     <g id=\"text_2\">\n      <!-- 380 -->\n      <g transform=\"translate(92.774015 254.119375)scale(0.1 -0.1)\">\n       <defs>\n        <path d=\"M 2541 2425 \nQ 3700 2031 3700 1197 \nQ 3700 541 3100 197 \nQ 2663 -56 2016 -56 \nQ 1366 -56 928 197 \nQ 347 531 347 1178 \nQ 347 1988 1409 2381 \nL 1409 2400 \nQ 481 2734 481 3509 \nQ 481 4100 981 4456 \nQ 1406 4756 2019 4756 \nQ 2703 4756 3131 4403 \nQ 3553 4069 3553 3566 \nQ 3553 2706 2541 2444 \nL 2541 2425 \nz\nM 2022 2625 \nQ 2997 2856 2997 3528 \nQ 2997 3916 2675 4150 \nQ 2413 4347 2016 4347 \nQ 1606 4347 1331 4128 \nQ 1050 3897 1050 3522 \nQ 1050 3150 1350 2925 \nQ 1494 2809 1722 2722 \nQ 1984 2616 2022 2625 \nz\nM 1978 2209 \nQ 922 1931 922 1216 \nQ 922 775 1313 556 \nQ 1606 391 2009 391 \nQ 2575 391 2881 697 \nQ 3106 922 3106 1250 \nQ 3106 1594 2794 1850 \nQ 2609 1994 2350 2100 \nQ 2047 2222 1978 2209 \nz\n\" id=\"IPAexGothic-38\" transform=\"scale(0.015625)\"/>\n       </defs>\n       <use xlink:href=\"#IPAexGothic-33\"/>\n       <use x=\"62.988281\" xlink:href=\"#IPAexGothic-38\"/>\n       <use x=\"125.976562\" xlink:href=\"#IPAexGothic-30\"/>\n      </g>\n     </g>\n    </g>\n    <g id=\"xtick_3\">\n     <g id=\"line2d_5\">\n      <path clip-path=\"url(#p78abc3089e)\" d=\"M 168.387679 239.62875 \nL 168.387679 22.18875 \n\" style=\"fill:none;stroke:#b0b0b0;stroke-linecap:square;stroke-width:0.8;\"/>\n     </g>\n     <g id=\"line2d_6\">\n      <g>\n       <use style=\"stroke:#000000;stroke-width:0.8;\" x=\"168.387679\" xlink:href=\"#m1eae8030ac\" y=\"239.62875\"/>\n      </g>\n     </g>\n     <g id=\"text_3\">\n      <!-- 390 -->\n      <g transform=\"translate(158.940023 254.119375)scale(0.1 -0.1)\">\n       <defs>\n        <path d=\"M 2984 2356 \nQ 2544 1716 1813 1716 \nQ 1253 1716 847 2056 \nQ 366 2459 366 3163 \nQ 366 3813 769 4266 \nQ 1181 4725 1869 4725 \nQ 2800 4725 3241 3950 \nQ 3559 3378 3559 2472 \nQ 3559 1250 3041 588 \nQ 2553 -31 1769 -31 \nQ 859 -31 391 703 \nL 853 953 \nQ 1156 428 1753 428 \nQ 2922 428 3009 2356 \nL 2984 2356 \nz\nM 1888 4278 \nQ 1450 4278 1172 3950 \nQ 922 3653 922 3200 \nQ 922 2741 1159 2478 \nQ 1434 2163 1906 2163 \nQ 2431 2163 2728 2572 \nQ 2925 2847 2925 3169 \nQ 2925 3553 2694 3863 \nQ 2375 4278 1888 4278 \nz\n\" id=\"IPAexGothic-39\" transform=\"scale(0.015625)\"/>\n       </defs>\n       <use xlink:href=\"#IPAexGothic-33\"/>\n       <use x=\"62.988281\" xlink:href=\"#IPAexGothic-39\"/>\n       <use x=\"125.976562\" xlink:href=\"#IPAexGothic-30\"/>\n      </g>\n     </g>\n    </g>\n   </g>\n   <g id=\"matplotlib.axis_2\">\n    <g id=\"ytick_1\">\n     <g id=\"line2d_7\">\n      <path clip-path=\"url(#p78abc3089e)\" d=\"M 29.439063 239.62875 \nL 175.00428 239.62875 \n\" style=\"fill:none;stroke:#b0b0b0;stroke-linecap:square;stroke-width:0.8;\"/>\n     </g>\n     <g id=\"line2d_8\">\n      <defs>\n       <path d=\"M 0 0 \nL -3.5 0 \n\" id=\"m9da93b0984\" style=\"stroke:#000000;stroke-width:0.8;\"/>\n      </defs>\n      <g>\n       <use style=\"stroke:#000000;stroke-width:0.8;\" x=\"29.439063\" xlink:href=\"#m9da93b0984\" y=\"239.62875\"/>\n      </g>\n     </g>\n     <g id=\"text_4\">\n      <!-- 0.0 -->\n      <g transform=\"translate(7.2 243.374062)scale(0.1 -0.1)\">\n       <defs>\n        <path d=\"M 1184 63 \nL 494 63 \nL 494 753 \nL 1184 753 \nL 1184 63 \nz\n\" id=\"IPAexGothic-2e\" transform=\"scale(0.015625)\"/>\n       </defs>\n       <use xlink:href=\"#IPAexGothic-30\"/>\n       <use x=\"62.988281\" xlink:href=\"#IPAexGothic-2e\"/>\n       <use x=\"89.404297\" xlink:href=\"#IPAexGothic-30\"/>\n      </g>\n     </g>\n    </g>\n    <g id=\"ytick_2\">\n     <g id=\"line2d_9\">\n      <path clip-path=\"url(#p78abc3089e)\" d=\"M 29.439063 198.211607 \nL 175.00428 198.211607 \n\" style=\"fill:none;stroke:#b0b0b0;stroke-linecap:square;stroke-width:0.8;\"/>\n     </g>\n     <g id=\"line2d_10\">\n      <g>\n       <use style=\"stroke:#000000;stroke-width:0.8;\" x=\"29.439063\" xlink:href=\"#m9da93b0984\" y=\"198.211607\"/>\n      </g>\n     </g>\n     <g id=\"text_5\">\n      <!-- 0.2 -->\n      <g transform=\"translate(7.2 201.95692)scale(0.1 -0.1)\">\n       <defs>\n        <path d=\"M 3659 63 \nL 447 63 \nL 447 594 \nQ 825 1475 1894 2203 \nL 2072 2322 \nQ 2619 2697 2791 2906 \nQ 2988 3153 2988 3444 \nQ 2988 3772 2756 4003 \nQ 2500 4259 2084 4259 \nQ 1250 4259 991 3328 \nL 497 3506 \nQ 853 4725 2116 4725 \nQ 2806 4725 3216 4316 \nQ 3575 3947 3575 3425 \nQ 3575 3038 3344 2722 \nQ 3131 2416 2366 1938 \nL 2231 1856 \nQ 1256 1253 978 569 \nL 3659 569 \nL 3659 63 \nz\n\" id=\"IPAexGothic-32\" transform=\"scale(0.015625)\"/>\n       </defs>\n       <use xlink:href=\"#IPAexGothic-30\"/>\n       <use x=\"62.988281\" xlink:href=\"#IPAexGothic-2e\"/>\n       <use x=\"89.404297\" xlink:href=\"#IPAexGothic-32\"/>\n      </g>\n     </g>\n    </g>\n    <g id=\"ytick_3\">\n     <g id=\"line2d_11\">\n      <path clip-path=\"url(#p78abc3089e)\" d=\"M 29.439063 156.794464 \nL 175.00428 156.794464 \n\" style=\"fill:none;stroke:#b0b0b0;stroke-linecap:square;stroke-width:0.8;\"/>\n     </g>\n     <g id=\"line2d_12\">\n      <g>\n       <use style=\"stroke:#000000;stroke-width:0.8;\" x=\"29.439063\" xlink:href=\"#m9da93b0984\" y=\"156.794464\"/>\n      </g>\n     </g>\n     <g id=\"text_6\">\n      <!-- 0.4 -->\n      <g transform=\"translate(7.2 160.539777)scale(0.1 -0.1)\">\n       <defs>\n        <path d=\"M 3813 1159 \nL 3059 1159 \nL 3059 63 \nL 2547 63 \nL 2547 1159 \nL 197 1159 \nL 197 1672 \nL 2456 4678 \nL 3059 4678 \nL 3059 1634 \nL 3813 1634 \nL 3813 1159 \nz\nM 2578 4109 \nL 2559 4109 \nQ 2278 3656 2003 3284 \nL 759 1634 \nL 2547 1634 \nL 2547 3144 \nQ 2547 3481 2578 4109 \nz\n\" id=\"IPAexGothic-34\" transform=\"scale(0.015625)\"/>\n       </defs>\n       <use xlink:href=\"#IPAexGothic-30\"/>\n       <use x=\"62.988281\" xlink:href=\"#IPAexGothic-2e\"/>\n       <use x=\"89.404297\" xlink:href=\"#IPAexGothic-34\"/>\n      </g>\n     </g>\n    </g>\n    <g id=\"ytick_4\">\n     <g id=\"line2d_13\">\n      <path clip-path=\"url(#p78abc3089e)\" d=\"M 29.439063 115.377321 \nL 175.00428 115.377321 \n\" style=\"fill:none;stroke:#b0b0b0;stroke-linecap:square;stroke-width:0.8;\"/>\n     </g>\n     <g id=\"line2d_14\">\n      <g>\n       <use style=\"stroke:#000000;stroke-width:0.8;\" x=\"29.439063\" xlink:href=\"#m9da93b0984\" y=\"115.377321\"/>\n      </g>\n     </g>\n     <g id=\"text_7\">\n      <!-- 0.6 -->\n      <g transform=\"translate(7.2 119.122634)scale(0.1 -0.1)\">\n       <defs>\n        <path d=\"M 1056 2328 \nQ 1509 2981 2234 2981 \nQ 2906 2981 3316 2513 \nQ 3675 2106 3675 1522 \nQ 3675 884 3272 434 \nQ 2853 -31 2178 -31 \nQ 1375 -31 922 581 \nQ 481 1178 481 2228 \nQ 481 3425 1013 4109 \nQ 1494 4725 2272 4725 \nQ 3191 4725 3609 4025 \nL 3150 3775 \nQ 2894 4266 2300 4266 \nQ 1119 4266 1031 2328 \nL 1056 2328 \nz\nM 2141 2547 \nQ 1684 2547 1384 2206 \nQ 1116 1900 1116 1541 \nQ 1116 1156 1353 844 \nQ 1672 428 2159 428 \nQ 2669 428 2941 844 \nQ 3125 1128 3125 1503 \nQ 3125 1944 2881 2228 \nQ 2600 2547 2141 2547 \nz\n\" id=\"IPAexGothic-36\" transform=\"scale(0.015625)\"/>\n       </defs>\n       <use xlink:href=\"#IPAexGothic-30\"/>\n       <use x=\"62.988281\" xlink:href=\"#IPAexGothic-2e\"/>\n       <use x=\"89.404297\" xlink:href=\"#IPAexGothic-36\"/>\n      </g>\n     </g>\n    </g>\n    <g id=\"ytick_5\">\n     <g id=\"line2d_15\">\n      <path clip-path=\"url(#p78abc3089e)\" d=\"M 29.439063 73.960179 \nL 175.00428 73.960179 \n\" style=\"fill:none;stroke:#b0b0b0;stroke-linecap:square;stroke-width:0.8;\"/>\n     </g>\n     <g id=\"line2d_16\">\n      <g>\n       <use style=\"stroke:#000000;stroke-width:0.8;\" x=\"29.439063\" xlink:href=\"#m9da93b0984\" y=\"73.960179\"/>\n      </g>\n     </g>\n     <g id=\"text_8\">\n      <!-- 0.8 -->\n      <g transform=\"translate(7.2 77.705491)scale(0.1 -0.1)\">\n       <use xlink:href=\"#IPAexGothic-30\"/>\n       <use x=\"62.988281\" xlink:href=\"#IPAexGothic-2e\"/>\n       <use x=\"89.404297\" xlink:href=\"#IPAexGothic-38\"/>\n      </g>\n     </g>\n    </g>\n    <g id=\"ytick_6\">\n     <g id=\"line2d_17\">\n      <path clip-path=\"url(#p78abc3089e)\" d=\"M 29.439063 32.543036 \nL 175.00428 32.543036 \n\" style=\"fill:none;stroke:#b0b0b0;stroke-linecap:square;stroke-width:0.8;\"/>\n     </g>\n     <g id=\"line2d_18\">\n      <g>\n       <use style=\"stroke:#000000;stroke-width:0.8;\" x=\"29.439063\" xlink:href=\"#m9da93b0984\" y=\"32.543036\"/>\n      </g>\n     </g>\n     <g id=\"text_9\">\n      <!-- 1.0 -->\n      <g transform=\"translate(7.2 36.288348)scale(0.1 -0.1)\">\n       <defs>\n        <path d=\"M 2463 63 \nL 1900 63 \nL 1900 4103 \nQ 1372 3922 788 3797 \nL 684 4231 \nQ 1519 4441 2106 4731 \nL 2463 4731 \nL 2463 63 \nz\n\" id=\"IPAexGothic-31\" transform=\"scale(0.015625)\"/>\n       </defs>\n       <use xlink:href=\"#IPAexGothic-31\"/>\n       <use x=\"62.988281\" xlink:href=\"#IPAexGothic-2e\"/>\n       <use x=\"89.404297\" xlink:href=\"#IPAexGothic-30\"/>\n      </g>\n     </g>\n    </g>\n   </g>\n   <g id=\"patch_13\">\n    <path d=\"M 29.439063 239.62875 \nL 29.439063 22.18875 \n\" style=\"fill:none;stroke:#000000;stroke-linecap:square;stroke-linejoin:miter;stroke-width:0.8;\"/>\n   </g>\n   <g id=\"patch_14\">\n    <path d=\"M 175.00428 239.62875 \nL 175.00428 22.18875 \n\" style=\"fill:none;stroke:#000000;stroke-linecap:square;stroke-linejoin:miter;stroke-width:0.8;\"/>\n   </g>\n   <g id=\"patch_15\">\n    <path d=\"M 29.439062 239.62875 \nL 175.00428 239.62875 \n\" style=\"fill:none;stroke:#000000;stroke-linecap:square;stroke-linejoin:miter;stroke-width:0.8;\"/>\n   </g>\n   <g id=\"patch_16\">\n    <path d=\"M 29.439062 22.18875 \nL 175.00428 22.18875 \n\" style=\"fill:none;stroke:#000000;stroke-linecap:square;stroke-linejoin:miter;stroke-width:0.8;\"/>\n   </g>\n   <g id=\"text_10\">\n    <!-- Max Speed -->\n    <g transform=\"translate(71.151046 16.18875)scale(0.12 -0.12)\">\n     <defs>\n      <path d=\"M 5147 63 \nL 4597 63 \nL 4597 2534 \nQ 4597 3281 4634 4134 \nL 4609 4134 \nQ 4356 3409 4066 2675 \nL 3066 209 \nL 2650 209 \nL 1641 2725 \nQ 1328 3506 1128 4141 \nL 1103 4141 \nQ 1141 3131 1141 2553 \nL 1141 63 \nL 609 63 \nL 609 4634 \nL 1416 4634 \nL 2503 1944 \nQ 2697 1472 2869 906 \nL 2888 906 \nQ 3028 1416 3234 1931 \nL 4316 4634 \nL 5147 4634 \nL 5147 63 \nz\n\" id=\"IPAexGothic-4d\" transform=\"scale(0.015625)\"/>\n      <path d=\"M 3156 63 \nL 2672 63 \nQ 2559 303 2531 556 \nL 2509 556 \nQ 2147 -25 1428 -25 \nQ 934 -25 622 288 \nQ 347 563 347 959 \nQ 347 1947 2050 1997 \nL 2478 2009 \nL 2478 2175 \nQ 2478 2509 2288 2700 \nQ 2088 2900 1775 2900 \nQ 1238 2900 969 2378 \nL 494 2597 \nQ 938 3328 1788 3328 \nQ 2375 3328 2691 3000 \nQ 2984 2706 2984 2169 \nL 2984 997 \nQ 2984 400 3156 63 \nz\nM 2491 1625 \nL 2141 1619 \nQ 903 1591 903 953 \nQ 903 728 1050 581 \nQ 1231 403 1525 403 \nQ 1934 403 2234 703 \nQ 2491 969 2491 1344 \nL 2491 1625 \nz\n\" id=\"IPAexGothic-61\" transform=\"scale(0.015625)\"/>\n      <path d=\"M 3050 63 \nL 2419 63 \nL 1547 1338 \nL 691 63 \nL 56 63 \nL 1247 1675 \nL 106 3250 \nL 747 3250 \nL 1578 2016 \nL 2413 3250 \nL 3019 3250 \nL 1875 1681 \nL 3050 63 \nz\n\" id=\"IPAexGothic-78\" transform=\"scale(0.015625)\"/>\n      <path id=\"IPAexGothic-20\" transform=\"scale(0.015625)\"/>\n      <path d=\"M 2919 3641 \nQ 2563 4259 1853 4259 \nQ 1453 4259 1213 4009 \nQ 1028 3803 1028 3534 \nQ 1028 3238 1266 3047 \nQ 1444 2913 1984 2688 \nL 2200 2597 \nQ 2925 2306 3191 1953 \nQ 3422 1644 3422 1259 \nQ 3422 644 2969 288 \nQ 2559 -31 1931 -31 \nQ 881 -31 313 766 \nL 753 1100 \nQ 1203 459 1938 459 \nQ 2288 459 2534 625 \nQ 2841 847 2841 1216 \nQ 2841 1503 2616 1728 \nQ 2375 1959 1728 2206 \nL 1541 2278 \nQ 453 2694 453 3481 \nQ 453 4006 806 4347 \nQ 1203 4725 1863 4725 \nQ 2841 4725 3359 3956 \nL 2919 3641 \nz\n\" id=\"IPAexGothic-53\" transform=\"scale(0.015625)\"/>\n      <path d=\"M 1075 2688 \nQ 1525 3341 2206 3341 \nQ 2769 3341 3172 2938 \nQ 3641 2469 3641 1644 \nQ 3641 841 3178 372 \nQ 2775 -31 2200 -31 \nQ 1569 -31 1106 497 \nL 1106 -1216 \nL 563 -1216 \nL 563 3250 \nL 1075 3250 \nL 1075 2688 \nz\nM 1106 1950 \nL 1106 1291 \nQ 1106 897 1516 600 \nQ 1791 403 2106 403 \nQ 2469 403 2725 659 \nQ 3066 997 3066 1631 \nQ 3066 2200 2784 2559 \nQ 2503 2900 2100 2900 \nQ 1656 2900 1338 2484 \nQ 1106 2184 1106 1950 \nz\n\" id=\"IPAexGothic-70\" transform=\"scale(0.015625)\"/>\n      <path d=\"M 863 1594 \nQ 891 1041 1209 722 \nQ 1534 397 1997 397 \nQ 2606 397 2963 966 \nL 3322 728 \nQ 2869 -31 1931 -31 \nQ 1222 -31 766 422 \nQ 306 884 306 1641 \nQ 306 2444 788 2925 \nQ 1216 3353 1856 3353 \nQ 2459 3353 2866 2956 \nQ 3322 2494 3322 1722 \nL 3322 1594 \nL 863 1594 \nz\nM 2756 1997 \nQ 2709 2431 2450 2681 \nQ 2194 2938 1844 2938 \nQ 1438 2938 1150 2591 \nQ 953 2356 894 1997 \nL 2756 1997 \nz\n\" id=\"IPAexGothic-65\" transform=\"scale(0.015625)\"/>\n      <path d=\"M 3391 63 \nL 2891 63 \nL 2891 619 \nQ 2441 -31 1753 -31 \nQ 1181 -31 788 372 \nQ 313 844 313 1663 \nQ 313 2466 772 2938 \nQ 1169 3341 1753 3341 \nQ 2384 3341 2847 2809 \nL 2847 4794 \nL 3391 4794 \nL 3391 63 \nz\nM 2847 1303 \nL 2847 2097 \nQ 2847 2413 2456 2706 \nQ 2181 2906 1853 2906 \nQ 1484 2906 1228 2650 \nQ 888 2309 888 1678 \nQ 888 1109 1169 750 \nQ 1441 409 1847 409 \nQ 2322 409 2656 875 \nQ 2847 1134 2847 1303 \nz\n\" id=\"IPAexGothic-64\" transform=\"scale(0.015625)\"/>\n     </defs>\n     <use xlink:href=\"#IPAexGothic-4d\"/>\n     <use x=\"90.185547\" xlink:href=\"#IPAexGothic-61\"/>\n     <use x=\"145.166016\" xlink:href=\"#IPAexGothic-78\"/>\n     <use x=\"194.042969\" xlink:href=\"#IPAexGothic-20\"/>\n     <use x=\"221.044922\" xlink:href=\"#IPAexGothic-53\"/>\n     <use x=\"279.541016\" xlink:href=\"#IPAexGothic-70\"/>\n     <use x=\"341.650391\" xlink:href=\"#IPAexGothic-65\"/>\n     <use x=\"398.535156\" xlink:href=\"#IPAexGothic-65\"/>\n     <use x=\"455.419922\" xlink:href=\"#IPAexGothic-64\"/>\n    </g>\n   </g>\n  </g>\n  <g id=\"axes_2\">\n   <g id=\"patch_17\">\n    <path d=\"M 218.673845 239.62875 \nL 364.239063 239.62875 \nL 364.239063 22.18875 \nL 218.673845 22.18875 \nz\n\" style=\"fill:#ffffff;\"/>\n   </g>\n   <g id=\"patch_18\">\n    <path clip-path=\"url(#p02e87fa272)\" d=\"M 225.290446 239.62875 \nL 238.523647 239.62875 \nL 238.523647 32.543036 \nL 225.290446 32.543036 \nz\n\" style=\"fill:#1f77b4;\"/>\n   </g>\n   <g id=\"patch_19\">\n    <path clip-path=\"url(#p02e87fa272)\" d=\"M 238.523647 239.62875 \nL 251.756849 239.62875 \nL 251.756849 239.62875 \nL 238.523647 239.62875 \nz\n\" style=\"fill:#1f77b4;\"/>\n   </g>\n   <g id=\"patch_20\">\n    <path clip-path=\"url(#p02e87fa272)\" d=\"M 251.756849 239.62875 \nL 264.990051 239.62875 \nL 264.990051 239.62875 \nL 251.756849 239.62875 \nz\n\" style=\"fill:#1f77b4;\"/>\n   </g>\n   <g id=\"patch_21\">\n    <path clip-path=\"url(#p02e87fa272)\" d=\"M 264.990051 239.62875 \nL 278.223252 239.62875 \nL 278.223252 32.543036 \nL 264.990051 32.543036 \nz\n\" style=\"fill:#1f77b4;\"/>\n   </g>\n   <g id=\"patch_22\">\n    <path clip-path=\"url(#p02e87fa272)\" d=\"M 278.223252 239.62875 \nL 291.456454 239.62875 \nL 291.456454 239.62875 \nL 278.223252 239.62875 \nz\n\" style=\"fill:#1f77b4;\"/>\n   </g>\n   <g id=\"patch_23\">\n    <path clip-path=\"url(#p02e87fa272)\" d=\"M 291.456454 239.62875 \nL 304.689655 239.62875 \nL 304.689655 239.62875 \nL 291.456454 239.62875 \nz\n\" style=\"fill:#1f77b4;\"/>\n   </g>\n   <g id=\"patch_24\">\n    <path clip-path=\"url(#p02e87fa272)\" d=\"M 304.689655 239.62875 \nL 317.922857 239.62875 \nL 317.922857 32.543036 \nL 304.689655 32.543036 \nz\n\" style=\"fill:#1f77b4;\"/>\n   </g>\n   <g id=\"patch_25\">\n    <path clip-path=\"url(#p02e87fa272)\" d=\"M 317.922857 239.62875 \nL 331.156059 239.62875 \nL 331.156059 239.62875 \nL 317.922857 239.62875 \nz\n\" style=\"fill:#1f77b4;\"/>\n   </g>\n   <g id=\"patch_26\">\n    <path clip-path=\"url(#p02e87fa272)\" d=\"M 331.156059 239.62875 \nL 344.38926 239.62875 \nL 344.38926 239.62875 \nL 331.156059 239.62875 \nz\n\" style=\"fill:#1f77b4;\"/>\n   </g>\n   <g id=\"patch_27\">\n    <path clip-path=\"url(#p02e87fa272)\" d=\"M 344.38926 239.62875 \nL 357.622462 239.62875 \nL 357.622462 32.543036 \nL 344.38926 32.543036 \nz\n\" style=\"fill:#1f77b4;\"/>\n   </g>\n   <g id=\"matplotlib.axis_3\">\n    <g id=\"xtick_4\">\n     <g id=\"line2d_19\">\n      <path clip-path=\"url(#p02e87fa272)\" d=\"M 225.290446 239.62875 \nL 225.290446 22.18875 \n\" style=\"fill:none;stroke:#b0b0b0;stroke-linecap:square;stroke-width:0.8;\"/>\n     </g>\n     <g id=\"line2d_20\">\n      <g>\n       <use style=\"stroke:#000000;stroke-width:0.8;\" x=\"225.290446\" xlink:href=\"#m1eae8030ac\" y=\"239.62875\"/>\n      </g>\n     </g>\n     <g id=\"text_11\">\n      <!-- 0.9 -->\n      <g transform=\"translate(217.670915 254.119375)scale(0.1 -0.1)\">\n       <use xlink:href=\"#IPAexGothic-30\"/>\n       <use x=\"62.988281\" xlink:href=\"#IPAexGothic-2e\"/>\n       <use x=\"89.404297\" xlink:href=\"#IPAexGothic-39\"/>\n      </g>\n     </g>\n    </g>\n    <g id=\"xtick_5\">\n     <g id=\"line2d_21\">\n      <path clip-path=\"url(#p02e87fa272)\" d=\"M 269.401118 239.62875 \nL 269.401118 22.18875 \n\" style=\"fill:none;stroke:#b0b0b0;stroke-linecap:square;stroke-width:0.8;\"/>\n     </g>\n     <g id=\"line2d_22\">\n      <g>\n       <use style=\"stroke:#000000;stroke-width:0.8;\" x=\"269.401118\" xlink:href=\"#m1eae8030ac\" y=\"239.62875\"/>\n      </g>\n     </g>\n     <g id=\"text_12\">\n      <!-- 1.0 -->\n      <g transform=\"translate(261.781587 254.119375)scale(0.1 -0.1)\">\n       <use xlink:href=\"#IPAexGothic-31\"/>\n       <use x=\"62.988281\" xlink:href=\"#IPAexGothic-2e\"/>\n       <use x=\"89.404297\" xlink:href=\"#IPAexGothic-30\"/>\n      </g>\n     </g>\n    </g>\n    <g id=\"xtick_6\">\n     <g id=\"line2d_23\">\n      <path clip-path=\"url(#p02e87fa272)\" d=\"M 313.51179 239.62875 \nL 313.51179 22.18875 \n\" style=\"fill:none;stroke:#b0b0b0;stroke-linecap:square;stroke-width:0.8;\"/>\n     </g>\n     <g id=\"line2d_24\">\n      <g>\n       <use style=\"stroke:#000000;stroke-width:0.8;\" x=\"313.51179\" xlink:href=\"#m1eae8030ac\" y=\"239.62875\"/>\n      </g>\n     </g>\n     <g id=\"text_13\">\n      <!-- 1.1 -->\n      <g transform=\"translate(305.892259 254.119375)scale(0.1 -0.1)\">\n       <use xlink:href=\"#IPAexGothic-31\"/>\n       <use x=\"62.988281\" xlink:href=\"#IPAexGothic-2e\"/>\n       <use x=\"89.404297\" xlink:href=\"#IPAexGothic-31\"/>\n      </g>\n     </g>\n    </g>\n    <g id=\"xtick_7\">\n     <g id=\"line2d_25\">\n      <path clip-path=\"url(#p02e87fa272)\" d=\"M 357.622462 239.62875 \nL 357.622462 22.18875 \n\" style=\"fill:none;stroke:#b0b0b0;stroke-linecap:square;stroke-width:0.8;\"/>\n     </g>\n     <g id=\"line2d_26\">\n      <g>\n       <use style=\"stroke:#000000;stroke-width:0.8;\" x=\"357.622462\" xlink:href=\"#m1eae8030ac\" y=\"239.62875\"/>\n      </g>\n     </g>\n     <g id=\"text_14\">\n      <!-- 1.2 -->\n      <g transform=\"translate(350.00293 254.119375)scale(0.1 -0.1)\">\n       <use xlink:href=\"#IPAexGothic-31\"/>\n       <use x=\"62.988281\" xlink:href=\"#IPAexGothic-2e\"/>\n       <use x=\"89.404297\" xlink:href=\"#IPAexGothic-32\"/>\n      </g>\n     </g>\n    </g>\n   </g>\n   <g id=\"matplotlib.axis_4\">\n    <g id=\"ytick_7\">\n     <g id=\"line2d_27\">\n      <path clip-path=\"url(#p02e87fa272)\" d=\"M 218.673845 239.62875 \nL 364.239063 239.62875 \n\" style=\"fill:none;stroke:#b0b0b0;stroke-linecap:square;stroke-width:0.8;\"/>\n     </g>\n     <g id=\"line2d_28\">\n      <g>\n       <use style=\"stroke:#000000;stroke-width:0.8;\" x=\"218.673845\" xlink:href=\"#m9da93b0984\" y=\"239.62875\"/>\n      </g>\n     </g>\n     <g id=\"text_15\">\n      <!-- 0.0 -->\n      <g transform=\"translate(196.434783 243.374062)scale(0.1 -0.1)\">\n       <use xlink:href=\"#IPAexGothic-30\"/>\n       <use x=\"62.988281\" xlink:href=\"#IPAexGothic-2e\"/>\n       <use x=\"89.404297\" xlink:href=\"#IPAexGothic-30\"/>\n      </g>\n     </g>\n    </g>\n    <g id=\"ytick_8\">\n     <g id=\"line2d_29\">\n      <path clip-path=\"url(#p02e87fa272)\" d=\"M 218.673845 198.211607 \nL 364.239063 198.211607 \n\" style=\"fill:none;stroke:#b0b0b0;stroke-linecap:square;stroke-width:0.8;\"/>\n     </g>\n     <g id=\"line2d_30\">\n      <g>\n       <use style=\"stroke:#000000;stroke-width:0.8;\" x=\"218.673845\" xlink:href=\"#m9da93b0984\" y=\"198.211607\"/>\n      </g>\n     </g>\n     <g id=\"text_16\">\n      <!-- 0.2 -->\n      <g transform=\"translate(196.434783 201.95692)scale(0.1 -0.1)\">\n       <use xlink:href=\"#IPAexGothic-30\"/>\n       <use x=\"62.988281\" xlink:href=\"#IPAexGothic-2e\"/>\n       <use x=\"89.404297\" xlink:href=\"#IPAexGothic-32\"/>\n      </g>\n     </g>\n    </g>\n    <g id=\"ytick_9\">\n     <g id=\"line2d_31\">\n      <path clip-path=\"url(#p02e87fa272)\" d=\"M 218.673845 156.794464 \nL 364.239063 156.794464 \n\" style=\"fill:none;stroke:#b0b0b0;stroke-linecap:square;stroke-width:0.8;\"/>\n     </g>\n     <g id=\"line2d_32\">\n      <g>\n       <use style=\"stroke:#000000;stroke-width:0.8;\" x=\"218.673845\" xlink:href=\"#m9da93b0984\" y=\"156.794464\"/>\n      </g>\n     </g>\n     <g id=\"text_17\">\n      <!-- 0.4 -->\n      <g transform=\"translate(196.434783 160.539777)scale(0.1 -0.1)\">\n       <use xlink:href=\"#IPAexGothic-30\"/>\n       <use x=\"62.988281\" xlink:href=\"#IPAexGothic-2e\"/>\n       <use x=\"89.404297\" xlink:href=\"#IPAexGothic-34\"/>\n      </g>\n     </g>\n    </g>\n    <g id=\"ytick_10\">\n     <g id=\"line2d_33\">\n      <path clip-path=\"url(#p02e87fa272)\" d=\"M 218.673845 115.377321 \nL 364.239063 115.377321 \n\" style=\"fill:none;stroke:#b0b0b0;stroke-linecap:square;stroke-width:0.8;\"/>\n     </g>\n     <g id=\"line2d_34\">\n      <g>\n       <use style=\"stroke:#000000;stroke-width:0.8;\" x=\"218.673845\" xlink:href=\"#m9da93b0984\" y=\"115.377321\"/>\n      </g>\n     </g>\n     <g id=\"text_18\">\n      <!-- 0.6 -->\n      <g transform=\"translate(196.434783 119.122634)scale(0.1 -0.1)\">\n       <use xlink:href=\"#IPAexGothic-30\"/>\n       <use x=\"62.988281\" xlink:href=\"#IPAexGothic-2e\"/>\n       <use x=\"89.404297\" xlink:href=\"#IPAexGothic-36\"/>\n      </g>\n     </g>\n    </g>\n    <g id=\"ytick_11\">\n     <g id=\"line2d_35\">\n      <path clip-path=\"url(#p02e87fa272)\" d=\"M 218.673845 73.960179 \nL 364.239063 73.960179 \n\" style=\"fill:none;stroke:#b0b0b0;stroke-linecap:square;stroke-width:0.8;\"/>\n     </g>\n     <g id=\"line2d_36\">\n      <g>\n       <use style=\"stroke:#000000;stroke-width:0.8;\" x=\"218.673845\" xlink:href=\"#m9da93b0984\" y=\"73.960179\"/>\n      </g>\n     </g>\n     <g id=\"text_19\">\n      <!-- 0.8 -->\n      <g transform=\"translate(196.434783 77.705491)scale(0.1 -0.1)\">\n       <use xlink:href=\"#IPAexGothic-30\"/>\n       <use x=\"62.988281\" xlink:href=\"#IPAexGothic-2e\"/>\n       <use x=\"89.404297\" xlink:href=\"#IPAexGothic-38\"/>\n      </g>\n     </g>\n    </g>\n    <g id=\"ytick_12\">\n     <g id=\"line2d_37\">\n      <path clip-path=\"url(#p02e87fa272)\" d=\"M 218.673845 32.543036 \nL 364.239063 32.543036 \n\" style=\"fill:none;stroke:#b0b0b0;stroke-linecap:square;stroke-width:0.8;\"/>\n     </g>\n     <g id=\"line2d_38\">\n      <g>\n       <use style=\"stroke:#000000;stroke-width:0.8;\" x=\"218.673845\" xlink:href=\"#m9da93b0984\" y=\"32.543036\"/>\n      </g>\n     </g>\n     <g id=\"text_20\">\n      <!-- 1.0 -->\n      <g transform=\"translate(196.434783 36.288348)scale(0.1 -0.1)\">\n       <use xlink:href=\"#IPAexGothic-31\"/>\n       <use x=\"62.988281\" xlink:href=\"#IPAexGothic-2e\"/>\n       <use x=\"89.404297\" xlink:href=\"#IPAexGothic-30\"/>\n      </g>\n     </g>\n    </g>\n   </g>\n   <g id=\"patch_28\">\n    <path d=\"M 218.673845 239.62875 \nL 218.673845 22.18875 \n\" style=\"fill:none;stroke:#000000;stroke-linecap:square;stroke-linejoin:miter;stroke-width:0.8;\"/>\n   </g>\n   <g id=\"patch_29\">\n    <path d=\"M 364.239063 239.62875 \nL 364.239063 22.18875 \n\" style=\"fill:none;stroke:#000000;stroke-linecap:square;stroke-linejoin:miter;stroke-width:0.8;\"/>\n   </g>\n   <g id=\"patch_30\">\n    <path d=\"M 218.673845 239.62875 \nL 364.239063 239.62875 \n\" style=\"fill:none;stroke:#000000;stroke-linecap:square;stroke-linejoin:miter;stroke-width:0.8;\"/>\n   </g>\n   <g id=\"patch_31\">\n    <path d=\"M 218.673845 22.18875 \nL 364.239063 22.18875 \n\" style=\"fill:none;stroke:#000000;stroke-linecap:square;stroke-linejoin:miter;stroke-width:0.8;\"/>\n   </g>\n   <g id=\"text_21\">\n    <!-- Weight -->\n    <g transform=\"translate(271.803641 16.18875)scale(0.12 -0.12)\">\n     <defs>\n      <path d=\"M 5888 4634 \nL 4466 0 \nL 4038 0 \nL 3219 2759 \nQ 3084 3209 2981 3738 \nL 2963 3738 \nQ 2866 3288 2713 2759 \nL 1888 0 \nL 1453 0 \nL 44 4634 \nL 672 4634 \nL 1406 2041 \nQ 1572 1444 1694 928 \nL 1716 928 \nQ 1819 1406 2003 2041 \nL 2725 4556 \nL 3213 4556 \nL 3972 2041 \nQ 4128 1541 4269 922 \nL 4288 922 \nQ 4441 1603 4563 2041 \nL 5291 4634 \nL 5888 4634 \nz\n\" id=\"IPAexGothic-57\" transform=\"scale(0.015625)\"/>\n      <path d=\"M 1178 3928 \nL 550 3928 \nL 550 4569 \nL 1178 4569 \nL 1178 3928 \nz\nM 1138 63 \nL 588 63 \nL 588 3250 \nL 1138 3250 \nL 1138 63 \nz\n\" id=\"IPAexGothic-69\" transform=\"scale(0.015625)\"/>\n      <path d=\"M 1331 1150 \nQ 1006 1122 1006 900 \nQ 1006 613 1763 575 \nL 2131 556 \nQ 3303 497 3303 -294 \nQ 3303 -700 2925 -959 \nQ 2519 -1253 1794 -1253 \nQ 1138 -1253 738 -1028 \nQ 353 -809 353 -428 \nQ 353 84 1075 247 \nL 1075 269 \nQ 506 413 506 778 \nQ 506 1116 994 1297 \nQ 456 1575 456 2181 \nQ 456 2650 769 2963 \nQ 1128 3322 1738 3322 \nQ 2125 3322 2422 3153 \nQ 2650 3453 3259 3463 \nL 3259 3013 \nQ 2838 3003 2703 2938 \nQ 3034 2613 3034 2169 \nQ 3034 1728 2734 1425 \nQ 2400 1094 1813 1094 \nQ 1563 1094 1331 1150 \nz\nM 1734 2919 \nQ 1409 2919 1197 2706 \nQ 988 2497 988 2181 \nQ 988 1872 1184 1684 \nQ 1397 1472 1756 1472 \nQ 2094 1472 2297 1678 \nQ 2503 1881 2503 2203 \nQ 2503 2497 2297 2700 \nQ 2081 2919 1734 2919 \nz\nM 1753 159 \nQ 903 159 903 -366 \nQ 903 -875 1800 -875 \nQ 2378 -875 2638 -606 \nQ 2772 -481 2772 -313 \nQ 2772 159 1753 159 \nz\n\" id=\"IPAexGothic-67\" transform=\"scale(0.015625)\"/>\n      <path d=\"M 3347 63 \nL 2797 63 \nL 2797 2041 \nQ 2797 2853 2131 2853 \nQ 1447 2853 1131 2041 \nL 1131 63 \nL 581 63 \nL 581 4794 \nL 1131 4794 \nL 1131 2706 \nQ 1566 3316 2247 3316 \nQ 3347 3316 3347 2072 \nL 3347 63 \nz\n\" id=\"IPAexGothic-68\" transform=\"scale(0.015625)\"/>\n      <path d=\"M 2125 241 \nQ 1769 -6 1397 -6 \nQ 653 -6 653 831 \nL 653 2859 \nL 219 2859 \nL 219 3250 \nL 653 3250 \nL 653 3966 \nL 1178 4228 \nL 1178 3250 \nL 2063 3250 \nL 2063 2859 \nL 1178 2859 \nL 1178 906 \nQ 1178 416 1513 416 \nQ 1738 416 1941 588 \nL 2125 241 \nz\n\" id=\"IPAexGothic-74\" transform=\"scale(0.015625)\"/>\n     </defs>\n     <use xlink:href=\"#IPAexGothic-57\"/>\n     <use x=\"92.822266\" xlink:href=\"#IPAexGothic-65\"/>\n     <use x=\"149.707031\" xlink:href=\"#IPAexGothic-69\"/>\n     <use x=\"176.708984\" xlink:href=\"#IPAexGothic-67\"/>\n     <use x=\"232.226562\" xlink:href=\"#IPAexGothic-68\"/>\n     <use x=\"292.919922\" xlink:href=\"#IPAexGothic-74\"/>\n    </g>\n   </g>\n  </g>\n </g>\n <defs>\n  <clipPath id=\"p78abc3089e\">\n   <rect height=\"217.44\" width=\"145.565217\" x=\"29.439063\" y=\"22.18875\"/>\n  </clipPath>\n  <clipPath id=\"p02e87fa272\">\n   <rect height=\"217.44\" width=\"145.565217\" x=\"218.673845\" y=\"22.18875\"/>\n  </clipPath>\n </defs>\n</svg>\n",
      "image/png": "[encoded data removed]"
     },
     "metadata": {
      "needs_background": "light"
     }
    },
    {
     "output_type": "display_data",
     "data": {
      "text/plain": "<Figure size 432x288 with 2 Axes>",
      "image/svg+xml": "<?xml version=\"1.0\" encoding=\"utf-8\" standalone=\"no\"?>\n<!DOCTYPE svg PUBLIC \"-//W3C//DTD SVG 1.1//EN\"\n  \"http://www.w3.org/Graphics/SVG/1.1/DTD/svg11.dtd\">\n<svg height=\"263.219375pt\" version=\"1.1\" viewBox=\"0 0 371.439062 263.219375\" width=\"371.439062pt\" xmlns=\"http://www.w3.org/2000/svg\" xmlns:xlink=\"http://www.w3.org/1999/xlink\">\n <metadata>\n  <rdf:RDF xmlns:cc=\"http://creativecommons.org/ns#\" xmlns:dc=\"http://purl.org/dc/elements/1.1/\" xmlns:rdf=\"http://www.w3.org/1999/02/22-rdf-syntax-ns#\">\n   <cc:Work>\n    <dc:type rdf:resource=\"http://purl.org/dc/dcmitype/StillImage\"/>\n    <dc:date>2021-06-11T22:19:07.865332</dc:date>\n    <dc:format>image/svg+xml</dc:format>\n    <dc:creator>\n     <cc:Agent>\n      <dc:title>Matplotlib v3.4.2, https://matplotlib.org/</dc:title>\n     </cc:Agent>\n    </dc:creator>\n   </cc:Work>\n  </rdf:RDF>\n </metadata>\n <defs>\n  <style type=\"text/css\">*{stroke-linecap:butt;stroke-linejoin:round;}</style>\n </defs>\n <g id=\"figure_1\">\n  <g id=\"patch_1\">\n   <path d=\"M 0 263.219375 \nL 371.439062 263.219375 \nL 371.439062 0 \nL 0 0 \nz\n\" style=\"fill:none;\"/>\n  </g>\n  <g id=\"axes_1\">\n   <g id=\"patch_2\">\n    <path d=\"M 29.439063 239.62875 \nL 175.00428 239.62875 \nL 175.00428 22.18875 \nL 29.439063 22.18875 \nz\n\" style=\"fill:#ffffff;\"/>\n   </g>\n   <g id=\"patch_3\">\n    <path clip-path=\"url(#p37391eb2e5)\" d=\"M 36.055663 239.62875 \nL 49.288865 239.62875 \nL 49.288865 32.543036 \nL 36.055663 32.543036 \nz\n\" style=\"fill:#1f77b4;\"/>\n   </g>\n   <g id=\"patch_4\">\n    <path clip-path=\"url(#p37391eb2e5)\" d=\"M 49.288865 239.62875 \nL 62.522066 239.62875 \nL 62.522066 239.62875 \nL 49.288865 239.62875 \nz\n\" style=\"fill:#1f77b4;\"/>\n   </g>\n   <g id=\"patch_5\">\n    <path clip-path=\"url(#p37391eb2e5)\" d=\"M 62.522066 239.62875 \nL 75.755268 239.62875 \nL 75.755268 239.62875 \nL 62.522066 239.62875 \nz\n\" style=\"fill:#1f77b4;\"/>\n   </g>\n   <g id=\"patch_6\">\n    <path clip-path=\"url(#p37391eb2e5)\" d=\"M 75.755268 239.62875 \nL 88.98847 239.62875 \nL 88.98847 239.62875 \nL 75.755268 239.62875 \nz\n\" style=\"fill:#1f77b4;\"/>\n   </g>\n   <g id=\"patch_7\">\n    <path clip-path=\"url(#p37391eb2e5)\" d=\"M 88.98847 239.62875 \nL 102.221671 239.62875 \nL 102.221671 239.62875 \nL 88.98847 239.62875 \nz\n\" style=\"fill:#1f77b4;\"/>\n   </g>\n   <g id=\"patch_8\">\n    <path clip-path=\"url(#p37391eb2e5)\" d=\"M 102.221671 239.62875 \nL 115.454873 239.62875 \nL 115.454873 32.543036 \nL 102.221671 32.543036 \nz\n\" style=\"fill:#1f77b4;\"/>\n   </g>\n   <g id=\"patch_9\">\n    <path clip-path=\"url(#p37391eb2e5)\" d=\"M 115.454873 239.62875 \nL 128.688074 239.62875 \nL 128.688074 239.62875 \nL 115.454873 239.62875 \nz\n\" style=\"fill:#1f77b4;\"/>\n   </g>\n   <g id=\"patch_10\">\n    <path clip-path=\"url(#p37391eb2e5)\" d=\"M 128.688074 239.62875 \nL 141.921276 239.62875 \nL 141.921276 239.62875 \nL 128.688074 239.62875 \nz\n\" style=\"fill:#1f77b4;\"/>\n   </g>\n   <g id=\"patch_11\">\n    <path clip-path=\"url(#p37391eb2e5)\" d=\"M 141.921276 239.62875 \nL 155.154478 239.62875 \nL 155.154478 239.62875 \nL 141.921276 239.62875 \nz\n\" style=\"fill:#1f77b4;\"/>\n   </g>\n   <g id=\"patch_12\">\n    <path clip-path=\"url(#p37391eb2e5)\" d=\"M 155.154478 239.62875 \nL 168.387679 239.62875 \nL 168.387679 32.543036 \nL 155.154478 32.543036 \nz\n\" style=\"fill:#1f77b4;\"/>\n   </g>\n   <g id=\"matplotlib.axis_1\">\n    <g id=\"xtick_1\">\n     <g id=\"line2d_1\">\n      <path clip-path=\"url(#p37391eb2e5)\" d=\"M 36.055663 239.62875 \nL 36.055663 22.18875 \n\" style=\"fill:none;stroke:#b0b0b0;stroke-linecap:square;stroke-width:0.8;\"/>\n     </g>\n     <g id=\"line2d_2\">\n      <defs>\n       <path d=\"M 0 0 \nL 0 3.5 \n\" id=\"m9be4e40028\" style=\"stroke:#000000;stroke-width:0.8;\"/>\n      </defs>\n      <g>\n       <use style=\"stroke:#000000;stroke-width:0.8;\" x=\"36.055663\" xlink:href=\"#m9be4e40028\" y=\"239.62875\"/>\n      </g>\n     </g>\n     <g id=\"text_1\">\n      <!-- 20 -->\n      <g transform=\"translate(29.757226 254.119375)scale(0.1 -0.1)\">\n       <defs>\n        <path d=\"M 3659 63 \nL 447 63 \nL 447 594 \nQ 825 1475 1894 2203 \nL 2072 2322 \nQ 2619 2697 2791 2906 \nQ 2988 3153 2988 3444 \nQ 2988 3772 2756 4003 \nQ 2500 4259 2084 4259 \nQ 1250 4259 991 3328 \nL 497 3506 \nQ 853 4725 2116 4725 \nQ 2806 4725 3216 4316 \nQ 3575 3947 3575 3425 \nQ 3575 3038 3344 2722 \nQ 3131 2416 2366 1938 \nL 2231 1856 \nQ 1256 1253 978 569 \nL 3659 569 \nL 3659 63 \nz\n\" id=\"IPAexGothic-32\" transform=\"scale(0.015625)\"/>\n        <path d=\"M 2038 4725 \nQ 2881 4725 3334 3944 \nQ 3694 3325 3694 2344 \nQ 3694 1372 3334 741 \nQ 2888 -31 2016 -31 \nQ 1147 -31 700 741 \nQ 341 1372 341 2350 \nQ 341 3713 1000 4334 \nQ 1419 4725 2038 4725 \nz\nM 2016 4266 \nQ 1516 4266 1228 3759 \nQ 934 3247 934 2344 \nQ 934 1456 1222 947 \nQ 1513 447 2016 447 \nQ 2619 447 2909 1153 \nQ 3100 1622 3100 2375 \nQ 3100 3256 2806 3759 \nQ 2509 4266 2016 4266 \nz\n\" id=\"IPAexGothic-30\" transform=\"scale(0.015625)\"/>\n       </defs>\n       <use xlink:href=\"#IPAexGothic-32\"/>\n       <use x=\"62.988281\" xlink:href=\"#IPAexGothic-30\"/>\n      </g>\n     </g>\n    </g>\n    <g id=\"xtick_2\">\n     <g id=\"line2d_3\">\n      <path clip-path=\"url(#p37391eb2e5)\" d=\"M 80.166335 239.62875 \nL 80.166335 22.18875 \n\" style=\"fill:none;stroke:#b0b0b0;stroke-linecap:square;stroke-width:0.8;\"/>\n     </g>\n     <g id=\"line2d_4\">\n      <g>\n       <use style=\"stroke:#000000;stroke-width:0.8;\" x=\"80.166335\" xlink:href=\"#m9be4e40028\" y=\"239.62875\"/>\n      </g>\n     </g>\n     <g id=\"text_2\">\n      <!-- 22 -->\n      <g transform=\"translate(73.867898 254.119375)scale(0.1 -0.1)\">\n       <use xlink:href=\"#IPAexGothic-32\"/>\n       <use x=\"62.988281\" xlink:href=\"#IPAexGothic-32\"/>\n      </g>\n     </g>\n    </g>\n    <g id=\"xtick_3\">\n     <g id=\"line2d_5\">\n      <path clip-path=\"url(#p37391eb2e5)\" d=\"M 124.277007 239.62875 \nL 124.277007 22.18875 \n\" style=\"fill:none;stroke:#b0b0b0;stroke-linecap:square;stroke-width:0.8;\"/>\n     </g>\n     <g id=\"line2d_6\">\n      <g>\n       <use style=\"stroke:#000000;stroke-width:0.8;\" x=\"124.277007\" xlink:href=\"#m9be4e40028\" y=\"239.62875\"/>\n      </g>\n     </g>\n     <g id=\"text_3\">\n      <!-- 24 -->\n      <g transform=\"translate(117.97857 254.119375)scale(0.1 -0.1)\">\n       <defs>\n        <path d=\"M 3813 1159 \nL 3059 1159 \nL 3059 63 \nL 2547 63 \nL 2547 1159 \nL 197 1159 \nL 197 1672 \nL 2456 4678 \nL 3059 4678 \nL 3059 1634 \nL 3813 1634 \nL 3813 1159 \nz\nM 2578 4109 \nL 2559 4109 \nQ 2278 3656 2003 3284 \nL 759 1634 \nL 2547 1634 \nL 2547 3144 \nQ 2547 3481 2578 4109 \nz\n\" id=\"IPAexGothic-34\" transform=\"scale(0.015625)\"/>\n       </defs>\n       <use xlink:href=\"#IPAexGothic-32\"/>\n       <use x=\"62.988281\" xlink:href=\"#IPAexGothic-34\"/>\n      </g>\n     </g>\n    </g>\n    <g id=\"xtick_4\">\n     <g id=\"line2d_7\">\n      <path clip-path=\"url(#p37391eb2e5)\" d=\"M 168.387679 239.62875 \nL 168.387679 22.18875 \n\" style=\"fill:none;stroke:#b0b0b0;stroke-linecap:square;stroke-width:0.8;\"/>\n     </g>\n     <g id=\"line2d_8\">\n      <g>\n       <use style=\"stroke:#000000;stroke-width:0.8;\" x=\"168.387679\" xlink:href=\"#m9be4e40028\" y=\"239.62875\"/>\n      </g>\n     </g>\n     <g id=\"text_4\">\n      <!-- 26 -->\n      <g transform=\"translate(162.089242 254.119375)scale(0.1 -0.1)\">\n       <defs>\n        <path d=\"M 1056 2328 \nQ 1509 2981 2234 2981 \nQ 2906 2981 3316 2513 \nQ 3675 2106 3675 1522 \nQ 3675 884 3272 434 \nQ 2853 -31 2178 -31 \nQ 1375 -31 922 581 \nQ 481 1178 481 2228 \nQ 481 3425 1013 4109 \nQ 1494 4725 2272 4725 \nQ 3191 4725 3609 4025 \nL 3150 3775 \nQ 2894 4266 2300 4266 \nQ 1119 4266 1031 2328 \nL 1056 2328 \nz\nM 2141 2547 \nQ 1684 2547 1384 2206 \nQ 1116 1900 1116 1541 \nQ 1116 1156 1353 844 \nQ 1672 428 2159 428 \nQ 2669 428 2941 844 \nQ 3125 1128 3125 1503 \nQ 3125 1944 2881 2228 \nQ 2600 2547 2141 2547 \nz\n\" id=\"IPAexGothic-36\" transform=\"scale(0.015625)\"/>\n       </defs>\n       <use xlink:href=\"#IPAexGothic-32\"/>\n       <use x=\"62.988281\" xlink:href=\"#IPAexGothic-36\"/>\n      </g>\n     </g>\n    </g>\n   </g>\n   <g id=\"matplotlib.axis_2\">\n    <g id=\"ytick_1\">\n     <g id=\"line2d_9\">\n      <path clip-path=\"url(#p37391eb2e5)\" d=\"M 29.439063 239.62875 \nL 175.00428 239.62875 \n\" style=\"fill:none;stroke:#b0b0b0;stroke-linecap:square;stroke-width:0.8;\"/>\n     </g>\n     <g id=\"line2d_10\">\n      <defs>\n       <path d=\"M 0 0 \nL -3.5 0 \n\" id=\"m1713b3071e\" style=\"stroke:#000000;stroke-width:0.8;\"/>\n      </defs>\n      <g>\n       <use style=\"stroke:#000000;stroke-width:0.8;\" x=\"29.439063\" xlink:href=\"#m1713b3071e\" y=\"239.62875\"/>\n      </g>\n     </g>\n     <g id=\"text_5\">\n      <!-- 0.0 -->\n      <g transform=\"translate(7.2 243.374062)scale(0.1 -0.1)\">\n       <defs>\n        <path d=\"M 1184 63 \nL 494 63 \nL 494 753 \nL 1184 753 \nL 1184 63 \nz\n\" id=\"IPAexGothic-2e\" transform=\"scale(0.015625)\"/>\n       </defs>\n       <use xlink:href=\"#IPAexGothic-30\"/>\n       <use x=\"62.988281\" xlink:href=\"#IPAexGothic-2e\"/>\n       <use x=\"89.404297\" xlink:href=\"#IPAexGothic-30\"/>\n      </g>\n     </g>\n    </g>\n    <g id=\"ytick_2\">\n     <g id=\"line2d_11\">\n      <path clip-path=\"url(#p37391eb2e5)\" d=\"M 29.439063 198.211607 \nL 175.00428 198.211607 \n\" style=\"fill:none;stroke:#b0b0b0;stroke-linecap:square;stroke-width:0.8;\"/>\n     </g>\n     <g id=\"line2d_12\">\n      <g>\n       <use style=\"stroke:#000000;stroke-width:0.8;\" x=\"29.439063\" xlink:href=\"#m1713b3071e\" y=\"198.211607\"/>\n      </g>\n     </g>\n     <g id=\"text_6\">\n      <!-- 0.2 -->\n      <g transform=\"translate(7.2 201.95692)scale(0.1 -0.1)\">\n       <use xlink:href=\"#IPAexGothic-30\"/>\n       <use x=\"62.988281\" xlink:href=\"#IPAexGothic-2e\"/>\n       <use x=\"89.404297\" xlink:href=\"#IPAexGothic-32\"/>\n      </g>\n     </g>\n    </g>\n    <g id=\"ytick_3\">\n     <g id=\"line2d_13\">\n      <path clip-path=\"url(#p37391eb2e5)\" d=\"M 29.439063 156.794464 \nL 175.00428 156.794464 \n\" style=\"fill:none;stroke:#b0b0b0;stroke-linecap:square;stroke-width:0.8;\"/>\n     </g>\n     <g id=\"line2d_14\">\n      <g>\n       <use style=\"stroke:#000000;stroke-width:0.8;\" x=\"29.439063\" xlink:href=\"#m1713b3071e\" y=\"156.794464\"/>\n      </g>\n     </g>\n     <g id=\"text_7\">\n      <!-- 0.4 -->\n      <g transform=\"translate(7.2 160.539777)scale(0.1 -0.1)\">\n       <use xlink:href=\"#IPAexGothic-30\"/>\n       <use x=\"62.988281\" xlink:href=\"#IPAexGothic-2e\"/>\n       <use x=\"89.404297\" xlink:href=\"#IPAexGothic-34\"/>\n      </g>\n     </g>\n    </g>\n    <g id=\"ytick_4\">\n     <g id=\"line2d_15\">\n      <path clip-path=\"url(#p37391eb2e5)\" d=\"M 29.439063 115.377321 \nL 175.00428 115.377321 \n\" style=\"fill:none;stroke:#b0b0b0;stroke-linecap:square;stroke-width:0.8;\"/>\n     </g>\n     <g id=\"line2d_16\">\n      <g>\n       <use style=\"stroke:#000000;stroke-width:0.8;\" x=\"29.439063\" xlink:href=\"#m1713b3071e\" y=\"115.377321\"/>\n      </g>\n     </g>\n     <g id=\"text_8\">\n      <!-- 0.6 -->\n      <g transform=\"translate(7.2 119.122634)scale(0.1 -0.1)\">\n       <use xlink:href=\"#IPAexGothic-30\"/>\n       <use x=\"62.988281\" xlink:href=\"#IPAexGothic-2e\"/>\n       <use x=\"89.404297\" xlink:href=\"#IPAexGothic-36\"/>\n      </g>\n     </g>\n    </g>\n    <g id=\"ytick_5\">\n     <g id=\"line2d_17\">\n      <path clip-path=\"url(#p37391eb2e5)\" d=\"M 29.439063 73.960179 \nL 175.00428 73.960179 \n\" style=\"fill:none;stroke:#b0b0b0;stroke-linecap:square;stroke-width:0.8;\"/>\n     </g>\n     <g id=\"line2d_18\">\n      <g>\n       <use style=\"stroke:#000000;stroke-width:0.8;\" x=\"29.439063\" xlink:href=\"#m1713b3071e\" y=\"73.960179\"/>\n      </g>\n     </g>\n     <g id=\"text_9\">\n      <!-- 0.8 -->\n      <g transform=\"translate(7.2 77.705491)scale(0.1 -0.1)\">\n       <defs>\n        <path d=\"M 2541 2425 \nQ 3700 2031 3700 1197 \nQ 3700 541 3100 197 \nQ 2663 -56 2016 -56 \nQ 1366 -56 928 197 \nQ 347 531 347 1178 \nQ 347 1988 1409 2381 \nL 1409 2400 \nQ 481 2734 481 3509 \nQ 481 4100 981 4456 \nQ 1406 4756 2019 4756 \nQ 2703 4756 3131 4403 \nQ 3553 4069 3553 3566 \nQ 3553 2706 2541 2444 \nL 2541 2425 \nz\nM 2022 2625 \nQ 2997 2856 2997 3528 \nQ 2997 3916 2675 4150 \nQ 2413 4347 2016 4347 \nQ 1606 4347 1331 4128 \nQ 1050 3897 1050 3522 \nQ 1050 3150 1350 2925 \nQ 1494 2809 1722 2722 \nQ 1984 2616 2022 2625 \nz\nM 1978 2209 \nQ 922 1931 922 1216 \nQ 922 775 1313 556 \nQ 1606 391 2009 391 \nQ 2575 391 2881 697 \nQ 3106 922 3106 1250 \nQ 3106 1594 2794 1850 \nQ 2609 1994 2350 2100 \nQ 2047 2222 1978 2209 \nz\n\" id=\"IPAexGothic-38\" transform=\"scale(0.015625)\"/>\n       </defs>\n       <use xlink:href=\"#IPAexGothic-30\"/>\n       <use x=\"62.988281\" xlink:href=\"#IPAexGothic-2e\"/>\n       <use x=\"89.404297\" xlink:href=\"#IPAexGothic-38\"/>\n      </g>\n     </g>\n    </g>\n    <g id=\"ytick_6\">\n     <g id=\"line2d_19\">\n      <path clip-path=\"url(#p37391eb2e5)\" d=\"M 29.439063 32.543036 \nL 175.00428 32.543036 \n\" style=\"fill:none;stroke:#b0b0b0;stroke-linecap:square;stroke-width:0.8;\"/>\n     </g>\n     <g id=\"line2d_20\">\n      <g>\n       <use style=\"stroke:#000000;stroke-width:0.8;\" x=\"29.439063\" xlink:href=\"#m1713b3071e\" y=\"32.543036\"/>\n      </g>\n     </g>\n     <g id=\"text_10\">\n      <!-- 1.0 -->\n      <g transform=\"translate(7.2 36.288348)scale(0.1 -0.1)\">\n       <defs>\n        <path d=\"M 2463 63 \nL 1900 63 \nL 1900 4103 \nQ 1372 3922 788 3797 \nL 684 4231 \nQ 1519 4441 2106 4731 \nL 2463 4731 \nL 2463 63 \nz\n\" id=\"IPAexGothic-31\" transform=\"scale(0.015625)\"/>\n       </defs>\n       <use xlink:href=\"#IPAexGothic-31\"/>\n       <use x=\"62.988281\" xlink:href=\"#IPAexGothic-2e\"/>\n       <use x=\"89.404297\" xlink:href=\"#IPAexGothic-30\"/>\n      </g>\n     </g>\n    </g>\n   </g>\n   <g id=\"patch_13\">\n    <path d=\"M 29.439063 239.62875 \nL 29.439063 22.18875 \n\" style=\"fill:none;stroke:#000000;stroke-linecap:square;stroke-linejoin:miter;stroke-width:0.8;\"/>\n   </g>\n   <g id=\"patch_14\">\n    <path d=\"M 175.00428 239.62875 \nL 175.00428 22.18875 \n\" style=\"fill:none;stroke:#000000;stroke-linecap:square;stroke-linejoin:miter;stroke-width:0.8;\"/>\n   </g>\n   <g id=\"patch_15\">\n    <path d=\"M 29.439062 239.62875 \nL 175.00428 239.62875 \n\" style=\"fill:none;stroke:#000000;stroke-linecap:square;stroke-linejoin:miter;stroke-width:0.8;\"/>\n   </g>\n   <g id=\"patch_16\">\n    <path d=\"M 29.439062 22.18875 \nL 175.00428 22.18875 \n\" style=\"fill:none;stroke:#000000;stroke-linecap:square;stroke-linejoin:miter;stroke-width:0.8;\"/>\n   </g>\n   <g id=\"text_11\">\n    <!-- Max Speed -->\n    <g transform=\"translate(71.151046 16.18875)scale(0.12 -0.12)\">\n     <defs>\n      <path d=\"M 5147 63 \nL 4597 63 \nL 4597 2534 \nQ 4597 3281 4634 4134 \nL 4609 4134 \nQ 4356 3409 4066 2675 \nL 3066 209 \nL 2650 209 \nL 1641 2725 \nQ 1328 3506 1128 4141 \nL 1103 4141 \nQ 1141 3131 1141 2553 \nL 1141 63 \nL 609 63 \nL 609 4634 \nL 1416 4634 \nL 2503 1944 \nQ 2697 1472 2869 906 \nL 2888 906 \nQ 3028 1416 3234 1931 \nL 4316 4634 \nL 5147 4634 \nL 5147 63 \nz\n\" id=\"IPAexGothic-4d\" transform=\"scale(0.015625)\"/>\n      <path d=\"M 3156 63 \nL 2672 63 \nQ 2559 303 2531 556 \nL 2509 556 \nQ 2147 -25 1428 -25 \nQ 934 -25 622 288 \nQ 347 563 347 959 \nQ 347 1947 2050 1997 \nL 2478 2009 \nL 2478 2175 \nQ 2478 2509 2288 2700 \nQ 2088 2900 1775 2900 \nQ 1238 2900 969 2378 \nL 494 2597 \nQ 938 3328 1788 3328 \nQ 2375 3328 2691 3000 \nQ 2984 2706 2984 2169 \nL 2984 997 \nQ 2984 400 3156 63 \nz\nM 2491 1625 \nL 2141 1619 \nQ 903 1591 903 953 \nQ 903 728 1050 581 \nQ 1231 403 1525 403 \nQ 1934 403 2234 703 \nQ 2491 969 2491 1344 \nL 2491 1625 \nz\n\" id=\"IPAexGothic-61\" transform=\"scale(0.015625)\"/>\n      <path d=\"M 3050 63 \nL 2419 63 \nL 1547 1338 \nL 691 63 \nL 56 63 \nL 1247 1675 \nL 106 3250 \nL 747 3250 \nL 1578 2016 \nL 2413 3250 \nL 3019 3250 \nL 1875 1681 \nL 3050 63 \nz\n\" id=\"IPAexGothic-78\" transform=\"scale(0.015625)\"/>\n      <path id=\"IPAexGothic-20\" transform=\"scale(0.015625)\"/>\n      <path d=\"M 2919 3641 \nQ 2563 4259 1853 4259 \nQ 1453 4259 1213 4009 \nQ 1028 3803 1028 3534 \nQ 1028 3238 1266 3047 \nQ 1444 2913 1984 2688 \nL 2200 2597 \nQ 2925 2306 3191 1953 \nQ 3422 1644 3422 1259 \nQ 3422 644 2969 288 \nQ 2559 -31 1931 -31 \nQ 881 -31 313 766 \nL 753 1100 \nQ 1203 459 1938 459 \nQ 2288 459 2534 625 \nQ 2841 847 2841 1216 \nQ 2841 1503 2616 1728 \nQ 2375 1959 1728 2206 \nL 1541 2278 \nQ 453 2694 453 3481 \nQ 453 4006 806 4347 \nQ 1203 4725 1863 4725 \nQ 2841 4725 3359 3956 \nL 2919 3641 \nz\n\" id=\"IPAexGothic-53\" transform=\"scale(0.015625)\"/>\n      <path d=\"M 1075 2688 \nQ 1525 3341 2206 3341 \nQ 2769 3341 3172 2938 \nQ 3641 2469 3641 1644 \nQ 3641 841 3178 372 \nQ 2775 -31 2200 -31 \nQ 1569 -31 1106 497 \nL 1106 -1216 \nL 563 -1216 \nL 563 3250 \nL 1075 3250 \nL 1075 2688 \nz\nM 1106 1950 \nL 1106 1291 \nQ 1106 897 1516 600 \nQ 1791 403 2106 403 \nQ 2469 403 2725 659 \nQ 3066 997 3066 1631 \nQ 3066 2200 2784 2559 \nQ 2503 2900 2100 2900 \nQ 1656 2900 1338 2484 \nQ 1106 2184 1106 1950 \nz\n\" id=\"IPAexGothic-70\" transform=\"scale(0.015625)\"/>\n      <path d=\"M 863 1594 \nQ 891 1041 1209 722 \nQ 1534 397 1997 397 \nQ 2606 397 2963 966 \nL 3322 728 \nQ 2869 -31 1931 -31 \nQ 1222 -31 766 422 \nQ 306 884 306 1641 \nQ 306 2444 788 2925 \nQ 1216 3353 1856 3353 \nQ 2459 3353 2866 2956 \nQ 3322 2494 3322 1722 \nL 3322 1594 \nL 863 1594 \nz\nM 2756 1997 \nQ 2709 2431 2450 2681 \nQ 2194 2938 1844 2938 \nQ 1438 2938 1150 2591 \nQ 953 2356 894 1997 \nL 2756 1997 \nz\n\" id=\"IPAexGothic-65\" transform=\"scale(0.015625)\"/>\n      <path d=\"M 3391 63 \nL 2891 63 \nL 2891 619 \nQ 2441 -31 1753 -31 \nQ 1181 -31 788 372 \nQ 313 844 313 1663 \nQ 313 2466 772 2938 \nQ 1169 3341 1753 3341 \nQ 2384 3341 2847 2809 \nL 2847 4794 \nL 3391 4794 \nL 3391 63 \nz\nM 2847 1303 \nL 2847 2097 \nQ 2847 2413 2456 2706 \nQ 2181 2906 1853 2906 \nQ 1484 2906 1228 2650 \nQ 888 2309 888 1678 \nQ 888 1109 1169 750 \nQ 1441 409 1847 409 \nQ 2322 409 2656 875 \nQ 2847 1134 2847 1303 \nz\n\" id=\"IPAexGothic-64\" transform=\"scale(0.015625)\"/>\n     </defs>\n     <use xlink:href=\"#IPAexGothic-4d\"/>\n     <use x=\"90.185547\" xlink:href=\"#IPAexGothic-61\"/>\n     <use x=\"145.166016\" xlink:href=\"#IPAexGothic-78\"/>\n     <use x=\"194.042969\" xlink:href=\"#IPAexGothic-20\"/>\n     <use x=\"221.044922\" xlink:href=\"#IPAexGothic-53\"/>\n     <use x=\"279.541016\" xlink:href=\"#IPAexGothic-70\"/>\n     <use x=\"341.650391\" xlink:href=\"#IPAexGothic-65\"/>\n     <use x=\"398.535156\" xlink:href=\"#IPAexGothic-65\"/>\n     <use x=\"455.419922\" xlink:href=\"#IPAexGothic-64\"/>\n    </g>\n   </g>\n  </g>\n  <g id=\"axes_2\">\n   <g id=\"patch_17\">\n    <path d=\"M 218.673845 239.62875 \nL 364.239063 239.62875 \nL 364.239063 22.18875 \nL 218.673845 22.18875 \nz\n\" style=\"fill:#ffffff;\"/>\n   </g>\n   <g id=\"patch_18\">\n    <path clip-path=\"url(#p41afdd35d7)\" d=\"M 225.290446 239.62875 \nL 238.523647 239.62875 \nL 238.523647 32.543036 \nL 225.290446 32.543036 \nz\n\" style=\"fill:#1f77b4;\"/>\n   </g>\n   <g id=\"patch_19\">\n    <path clip-path=\"url(#p41afdd35d7)\" d=\"M 238.523647 239.62875 \nL 251.756849 239.62875 \nL 251.756849 239.62875 \nL 238.523647 239.62875 \nz\n\" style=\"fill:#1f77b4;\"/>\n   </g>\n   <g id=\"patch_20\">\n    <path clip-path=\"url(#p41afdd35d7)\" d=\"M 251.756849 239.62875 \nL 264.990051 239.62875 \nL 264.990051 239.62875 \nL 251.756849 239.62875 \nz\n\" style=\"fill:#1f77b4;\"/>\n   </g>\n   <g id=\"patch_21\">\n    <path clip-path=\"url(#p41afdd35d7)\" d=\"M 264.990051 239.62875 \nL 278.223252 239.62875 \nL 278.223252 239.62875 \nL 264.990051 239.62875 \nz\n\" style=\"fill:#1f77b4;\"/>\n   </g>\n   <g id=\"patch_22\">\n    <path clip-path=\"url(#p41afdd35d7)\" d=\"M 278.223252 239.62875 \nL 291.456454 239.62875 \nL 291.456454 32.543036 \nL 278.223252 32.543036 \nz\n\" style=\"fill:#1f77b4;\"/>\n   </g>\n   <g id=\"patch_23\">\n    <path clip-path=\"url(#p41afdd35d7)\" d=\"M 291.456454 239.62875 \nL 304.689655 239.62875 \nL 304.689655 239.62875 \nL 291.456454 239.62875 \nz\n\" style=\"fill:#1f77b4;\"/>\n   </g>\n   <g id=\"patch_24\">\n    <path clip-path=\"url(#p41afdd35d7)\" d=\"M 304.689655 239.62875 \nL 317.922857 239.62875 \nL 317.922857 239.62875 \nL 304.689655 239.62875 \nz\n\" style=\"fill:#1f77b4;\"/>\n   </g>\n   <g id=\"patch_25\">\n    <path clip-path=\"url(#p41afdd35d7)\" d=\"M 317.922857 239.62875 \nL 331.156059 239.62875 \nL 331.156059 239.62875 \nL 317.922857 239.62875 \nz\n\" style=\"fill:#1f77b4;\"/>\n   </g>\n   <g id=\"patch_26\">\n    <path clip-path=\"url(#p41afdd35d7)\" d=\"M 331.156059 239.62875 \nL 344.38926 239.62875 \nL 344.38926 239.62875 \nL 331.156059 239.62875 \nz\n\" style=\"fill:#1f77b4;\"/>\n   </g>\n   <g id=\"patch_27\">\n    <path clip-path=\"url(#p41afdd35d7)\" d=\"M 344.38926 239.62875 \nL 357.622462 239.62875 \nL 357.622462 32.543036 \nL 344.38926 32.543036 \nz\n\" style=\"fill:#1f77b4;\"/>\n   </g>\n   <g id=\"matplotlib.axis_3\">\n    <g id=\"xtick_5\">\n     <g id=\"line2d_21\">\n      <path clip-path=\"url(#p41afdd35d7)\" d=\"M 225.290446 239.62875 \nL 225.290446 22.18875 \n\" style=\"fill:none;stroke:#b0b0b0;stroke-linecap:square;stroke-width:0.8;\"/>\n     </g>\n     <g id=\"line2d_22\">\n      <g>\n       <use style=\"stroke:#000000;stroke-width:0.8;\" x=\"225.290446\" xlink:href=\"#m9be4e40028\" y=\"239.62875\"/>\n      </g>\n     </g>\n     <g id=\"text_12\">\n      <!-- 2.0 -->\n      <g transform=\"translate(217.670915 254.119375)scale(0.1 -0.1)\">\n       <use xlink:href=\"#IPAexGothic-32\"/>\n       <use x=\"62.988281\" xlink:href=\"#IPAexGothic-2e\"/>\n       <use x=\"89.404297\" xlink:href=\"#IPAexGothic-30\"/>\n      </g>\n     </g>\n    </g>\n    <g id=\"xtick_6\">\n     <g id=\"line2d_23\">\n      <path clip-path=\"url(#p41afdd35d7)\" d=\"M 278.223252 239.62875 \nL 278.223252 22.18875 \n\" style=\"fill:none;stroke:#b0b0b0;stroke-linecap:square;stroke-width:0.8;\"/>\n     </g>\n     <g id=\"line2d_24\">\n      <g>\n       <use style=\"stroke:#000000;stroke-width:0.8;\" x=\"278.223252\" xlink:href=\"#m9be4e40028\" y=\"239.62875\"/>\n      </g>\n     </g>\n     <g id=\"text_13\">\n      <!-- 2.2 -->\n      <g transform=\"translate(270.603721 254.119375)scale(0.1 -0.1)\">\n       <use xlink:href=\"#IPAexGothic-32\"/>\n       <use x=\"62.988281\" xlink:href=\"#IPAexGothic-2e\"/>\n       <use x=\"89.404297\" xlink:href=\"#IPAexGothic-32\"/>\n      </g>\n     </g>\n    </g>\n    <g id=\"xtick_7\">\n     <g id=\"line2d_25\">\n      <path clip-path=\"url(#p41afdd35d7)\" d=\"M 331.156059 239.62875 \nL 331.156059 22.18875 \n\" style=\"fill:none;stroke:#b0b0b0;stroke-linecap:square;stroke-width:0.8;\"/>\n     </g>\n     <g id=\"line2d_26\">\n      <g>\n       <use style=\"stroke:#000000;stroke-width:0.8;\" x=\"331.156059\" xlink:href=\"#m9be4e40028\" y=\"239.62875\"/>\n      </g>\n     </g>\n     <g id=\"text_14\">\n      <!-- 2.4 -->\n      <g transform=\"translate(323.536527 254.119375)scale(0.1 -0.1)\">\n       <use xlink:href=\"#IPAexGothic-32\"/>\n       <use x=\"62.988281\" xlink:href=\"#IPAexGothic-2e\"/>\n       <use x=\"89.404297\" xlink:href=\"#IPAexGothic-34\"/>\n      </g>\n     </g>\n    </g>\n   </g>\n   <g id=\"matplotlib.axis_4\">\n    <g id=\"ytick_7\">\n     <g id=\"line2d_27\">\n      <path clip-path=\"url(#p41afdd35d7)\" d=\"M 218.673845 239.62875 \nL 364.239063 239.62875 \n\" style=\"fill:none;stroke:#b0b0b0;stroke-linecap:square;stroke-width:0.8;\"/>\n     </g>\n     <g id=\"line2d_28\">\n      <g>\n       <use style=\"stroke:#000000;stroke-width:0.8;\" x=\"218.673845\" xlink:href=\"#m1713b3071e\" y=\"239.62875\"/>\n      </g>\n     </g>\n     <g id=\"text_15\">\n      <!-- 0.0 -->\n      <g transform=\"translate(196.434783 243.374062)scale(0.1 -0.1)\">\n       <use xlink:href=\"#IPAexGothic-30\"/>\n       <use x=\"62.988281\" xlink:href=\"#IPAexGothic-2e\"/>\n       <use x=\"89.404297\" xlink:href=\"#IPAexGothic-30\"/>\n      </g>\n     </g>\n    </g>\n    <g id=\"ytick_8\">\n     <g id=\"line2d_29\">\n      <path clip-path=\"url(#p41afdd35d7)\" d=\"M 218.673845 198.211607 \nL 364.239063 198.211607 \n\" style=\"fill:none;stroke:#b0b0b0;stroke-linecap:square;stroke-width:0.8;\"/>\n     </g>\n     <g id=\"line2d_30\">\n      <g>\n       <use style=\"stroke:#000000;stroke-width:0.8;\" x=\"218.673845\" xlink:href=\"#m1713b3071e\" y=\"198.211607\"/>\n      </g>\n     </g>\n     <g id=\"text_16\">\n      <!-- 0.2 -->\n      <g transform=\"translate(196.434783 201.95692)scale(0.1 -0.1)\">\n       <use xlink:href=\"#IPAexGothic-30\"/>\n       <use x=\"62.988281\" xlink:href=\"#IPAexGothic-2e\"/>\n       <use x=\"89.404297\" xlink:href=\"#IPAexGothic-32\"/>\n      </g>\n     </g>\n    </g>\n    <g id=\"ytick_9\">\n     <g id=\"line2d_31\">\n      <path clip-path=\"url(#p41afdd35d7)\" d=\"M 218.673845 156.794464 \nL 364.239063 156.794464 \n\" style=\"fill:none;stroke:#b0b0b0;stroke-linecap:square;stroke-width:0.8;\"/>\n     </g>\n     <g id=\"line2d_32\">\n      <g>\n       <use style=\"stroke:#000000;stroke-width:0.8;\" x=\"218.673845\" xlink:href=\"#m1713b3071e\" y=\"156.794464\"/>\n      </g>\n     </g>\n     <g id=\"text_17\">\n      <!-- 0.4 -->\n      <g transform=\"translate(196.434783 160.539777)scale(0.1 -0.1)\">\n       <use xlink:href=\"#IPAexGothic-30\"/>\n       <use x=\"62.988281\" xlink:href=\"#IPAexGothic-2e\"/>\n       <use x=\"89.404297\" xlink:href=\"#IPAexGothic-34\"/>\n      </g>\n     </g>\n    </g>\n    <g id=\"ytick_10\">\n     <g id=\"line2d_33\">\n      <path clip-path=\"url(#p41afdd35d7)\" d=\"M 218.673845 115.377321 \nL 364.239063 115.377321 \n\" style=\"fill:none;stroke:#b0b0b0;stroke-linecap:square;stroke-width:0.8;\"/>\n     </g>\n     <g id=\"line2d_34\">\n      <g>\n       <use style=\"stroke:#000000;stroke-width:0.8;\" x=\"218.673845\" xlink:href=\"#m1713b3071e\" y=\"115.377321\"/>\n      </g>\n     </g>\n     <g id=\"text_18\">\n      <!-- 0.6 -->\n      <g transform=\"translate(196.434783 119.122634)scale(0.1 -0.1)\">\n       <use xlink:href=\"#IPAexGothic-30\"/>\n       <use x=\"62.988281\" xlink:href=\"#IPAexGothic-2e\"/>\n       <use x=\"89.404297\" xlink:href=\"#IPAexGothic-36\"/>\n      </g>\n     </g>\n    </g>\n    <g id=\"ytick_11\">\n     <g id=\"line2d_35\">\n      <path clip-path=\"url(#p41afdd35d7)\" d=\"M 218.673845 73.960179 \nL 364.239063 73.960179 \n\" style=\"fill:none;stroke:#b0b0b0;stroke-linecap:square;stroke-width:0.8;\"/>\n     </g>\n     <g id=\"line2d_36\">\n      <g>\n       <use style=\"stroke:#000000;stroke-width:0.8;\" x=\"218.673845\" xlink:href=\"#m1713b3071e\" y=\"73.960179\"/>\n      </g>\n     </g>\n     <g id=\"text_19\">\n      <!-- 0.8 -->\n      <g transform=\"translate(196.434783 77.705491)scale(0.1 -0.1)\">\n       <use xlink:href=\"#IPAexGothic-30\"/>\n       <use x=\"62.988281\" xlink:href=\"#IPAexGothic-2e\"/>\n       <use x=\"89.404297\" xlink:href=\"#IPAexGothic-38\"/>\n      </g>\n     </g>\n    </g>\n    <g id=\"ytick_12\">\n     <g id=\"line2d_37\">\n      <path clip-path=\"url(#p41afdd35d7)\" d=\"M 218.673845 32.543036 \nL 364.239063 32.543036 \n\" style=\"fill:none;stroke:#b0b0b0;stroke-linecap:square;stroke-width:0.8;\"/>\n     </g>\n     <g id=\"line2d_38\">\n      <g>\n       <use style=\"stroke:#000000;stroke-width:0.8;\" x=\"218.673845\" xlink:href=\"#m1713b3071e\" y=\"32.543036\"/>\n      </g>\n     </g>\n     <g id=\"text_20\">\n      <!-- 1.0 -->\n      <g transform=\"translate(196.434783 36.288348)scale(0.1 -0.1)\">\n       <use xlink:href=\"#IPAexGothic-31\"/>\n       <use x=\"62.988281\" xlink:href=\"#IPAexGothic-2e\"/>\n       <use x=\"89.404297\" xlink:href=\"#IPAexGothic-30\"/>\n      </g>\n     </g>\n    </g>\n   </g>\n   <g id=\"patch_28\">\n    <path d=\"M 218.673845 239.62875 \nL 218.673845 22.18875 \n\" style=\"fill:none;stroke:#000000;stroke-linecap:square;stroke-linejoin:miter;stroke-width:0.8;\"/>\n   </g>\n   <g id=\"patch_29\">\n    <path d=\"M 364.239063 239.62875 \nL 364.239063 22.18875 \n\" style=\"fill:none;stroke:#000000;stroke-linecap:square;stroke-linejoin:miter;stroke-width:0.8;\"/>\n   </g>\n   <g id=\"patch_30\">\n    <path d=\"M 218.673845 239.62875 \nL 364.239062 239.62875 \n\" style=\"fill:none;stroke:#000000;stroke-linecap:square;stroke-linejoin:miter;stroke-width:0.8;\"/>\n   </g>\n   <g id=\"patch_31\">\n    <path d=\"M 218.673845 22.18875 \nL 364.239062 22.18875 \n\" style=\"fill:none;stroke:#000000;stroke-linecap:square;stroke-linejoin:miter;stroke-width:0.8;\"/>\n   </g>\n   <g id=\"text_21\">\n    <!-- Weight -->\n    <g transform=\"translate(271.803641 16.18875)scale(0.12 -0.12)\">\n     <defs>\n      <path d=\"M 5888 4634 \nL 4466 0 \nL 4038 0 \nL 3219 2759 \nQ 3084 3209 2981 3738 \nL 2963 3738 \nQ 2866 3288 2713 2759 \nL 1888 0 \nL 1453 0 \nL 44 4634 \nL 672 4634 \nL 1406 2041 \nQ 1572 1444 1694 928 \nL 1716 928 \nQ 1819 1406 2003 2041 \nL 2725 4556 \nL 3213 4556 \nL 3972 2041 \nQ 4128 1541 4269 922 \nL 4288 922 \nQ 4441 1603 4563 2041 \nL 5291 4634 \nL 5888 4634 \nz\n\" id=\"IPAexGothic-57\" transform=\"scale(0.015625)\"/>\n      <path d=\"M 1178 3928 \nL 550 3928 \nL 550 4569 \nL 1178 4569 \nL 1178 3928 \nz\nM 1138 63 \nL 588 63 \nL 588 3250 \nL 1138 3250 \nL 1138 63 \nz\n\" id=\"IPAexGothic-69\" transform=\"scale(0.015625)\"/>\n      <path d=\"M 1331 1150 \nQ 1006 1122 1006 900 \nQ 1006 613 1763 575 \nL 2131 556 \nQ 3303 497 3303 -294 \nQ 3303 -700 2925 -959 \nQ 2519 -1253 1794 -1253 \nQ 1138 -1253 738 -1028 \nQ 353 -809 353 -428 \nQ 353 84 1075 247 \nL 1075 269 \nQ 506 413 506 778 \nQ 506 1116 994 1297 \nQ 456 1575 456 2181 \nQ 456 2650 769 2963 \nQ 1128 3322 1738 3322 \nQ 2125 3322 2422 3153 \nQ 2650 3453 3259 3463 \nL 3259 3013 \nQ 2838 3003 2703 2938 \nQ 3034 2613 3034 2169 \nQ 3034 1728 2734 1425 \nQ 2400 1094 1813 1094 \nQ 1563 1094 1331 1150 \nz\nM 1734 2919 \nQ 1409 2919 1197 2706 \nQ 988 2497 988 2181 \nQ 988 1872 1184 1684 \nQ 1397 1472 1756 1472 \nQ 2094 1472 2297 1678 \nQ 2503 1881 2503 2203 \nQ 2503 2497 2297 2700 \nQ 2081 2919 1734 2919 \nz\nM 1753 159 \nQ 903 159 903 -366 \nQ 903 -875 1800 -875 \nQ 2378 -875 2638 -606 \nQ 2772 -481 2772 -313 \nQ 2772 159 1753 159 \nz\n\" id=\"IPAexGothic-67\" transform=\"scale(0.015625)\"/>\n      <path d=\"M 3347 63 \nL 2797 63 \nL 2797 2041 \nQ 2797 2853 2131 2853 \nQ 1447 2853 1131 2041 \nL 1131 63 \nL 581 63 \nL 581 4794 \nL 1131 4794 \nL 1131 2706 \nQ 1566 3316 2247 3316 \nQ 3347 3316 3347 2072 \nL 3347 63 \nz\n\" id=\"IPAexGothic-68\" transform=\"scale(0.015625)\"/>\n      <path d=\"M 2125 241 \nQ 1769 -6 1397 -6 \nQ 653 -6 653 831 \nL 653 2859 \nL 219 2859 \nL 219 3250 \nL 653 3250 \nL 653 3966 \nL 1178 4228 \nL 1178 3250 \nL 2063 3250 \nL 2063 2859 \nL 1178 2859 \nL 1178 906 \nQ 1178 416 1513 416 \nQ 1738 416 1941 588 \nL 2125 241 \nz\n\" id=\"IPAexGothic-74\" transform=\"scale(0.015625)\"/>\n     </defs>\n     <use xlink:href=\"#IPAexGothic-57\"/>\n     <use x=\"92.822266\" xlink:href=\"#IPAexGothic-65\"/>\n     <use x=\"149.707031\" xlink:href=\"#IPAexGothic-69\"/>\n     <use x=\"176.708984\" xlink:href=\"#IPAexGothic-67\"/>\n     <use x=\"232.226562\" xlink:href=\"#IPAexGothic-68\"/>\n     <use x=\"292.919922\" xlink:href=\"#IPAexGothic-74\"/>\n    </g>\n   </g>\n  </g>\n </g>\n <defs>\n  <clipPath id=\"p37391eb2e5\">\n   <rect height=\"217.44\" width=\"145.565217\" x=\"29.439063\" y=\"22.18875\"/>\n  </clipPath>\n  <clipPath id=\"p41afdd35d7\">\n   <rect height=\"217.44\" width=\"145.565217\" x=\"218.673845\" y=\"22.18875\"/>\n  </clipPath>\n </defs>\n</svg>\n",
      "image/png": "[encoded data removed]"
     },
     "metadata": {
      "needs_background": "light"
     }
    }
   ],
   "source": [
    "# hist でグループごとにヒストグラムを作成できる\n",
    "df.groupby(\"Animal\").hist()"
   ]
  },
  {
   "cell_type": "code",
   "execution_count": 258,
   "metadata": {},
   "outputs": [
    {
     "output_type": "execute_result",
     "data": {
      "text/plain": [
       "Falcon         AxesSubplot(0.1,0.15;0.363636x0.75)\n",
       "Parrot    AxesSubplot(0.536364,0.15;0.363636x0.75)\n",
       "dtype: object"
      ]
     },
     "metadata": {},
     "execution_count": 258
    },
    {
     "output_type": "display_data",
     "data": {
      "text/plain": "<Figure size 432x288 with 2 Axes>",
      "image/svg+xml": "<?xml version=\"1.0\" encoding=\"utf-8\" standalone=\"no\"?>\n<!DOCTYPE svg PUBLIC \"-//W3C//DTD SVG 1.1//EN\"\n  \"http://www.w3.org/Graphics/SVG/1.1/DTD/svg11.dtd\">\n<svg height=\"261.837187pt\" version=\"1.1\" viewBox=\"0 0 385.895312 261.837187\" width=\"385.895312pt\" xmlns=\"http://www.w3.org/2000/svg\" xmlns:xlink=\"http://www.w3.org/1999/xlink\">\n <metadata>\n  <rdf:RDF xmlns:cc=\"http://creativecommons.org/ns#\" xmlns:dc=\"http://purl.org/dc/elements/1.1/\" xmlns:rdf=\"http://www.w3.org/1999/02/22-rdf-syntax-ns#\">\n   <cc:Work>\n    <dc:type rdf:resource=\"http://purl.org/dc/dcmitype/StillImage\"/>\n    <dc:date>2021-06-11T22:19:08.320009</dc:date>\n    <dc:format>image/svg+xml</dc:format>\n    <dc:creator>\n     <cc:Agent>\n      <dc:title>Matplotlib v3.4.2, https://matplotlib.org/</dc:title>\n     </cc:Agent>\n    </dc:creator>\n   </cc:Work>\n  </rdf:RDF>\n </metadata>\n <defs>\n  <style type=\"text/css\">*{stroke-linecap:butt;stroke-linejoin:round;}</style>\n </defs>\n <g id=\"figure_1\">\n  <g id=\"patch_1\">\n   <path d=\"M 0 261.837187 \nL 385.895312 261.837187 \nL 385.895312 0 \nL 0 0 \nz\n\" style=\"fill:none;\"/>\n  </g>\n  <g id=\"axes_1\">\n   <g id=\"patch_2\">\n    <path d=\"M 33.095312 238.18875 \nL 190.186222 238.18875 \nL 190.186222 22.18875 \nL 33.095312 22.18875 \nz\n\" style=\"fill:#ffffff;\"/>\n   </g>\n   <g id=\"matplotlib.axis_1\">\n    <g id=\"xtick_1\">\n     <g id=\"line2d_1\">\n      <path clip-path=\"url(#pfbc0e53a39)\" d=\"M 72.36804 238.18875 \nL 72.36804 22.18875 \n\" style=\"fill:none;stroke:#b0b0b0;stroke-linecap:square;stroke-width:0.8;\"/>\n     </g>\n     <g id=\"line2d_2\">\n      <defs>\n       <path d=\"M 0 0 \nL 0 3.5 \n\" id=\"m8c9b897f71\" style=\"stroke:#000000;stroke-width:0.8;\"/>\n      </defs>\n      <g>\n       <use style=\"stroke:#000000;stroke-width:0.8;\" x=\"72.36804\" xlink:href=\"#m8c9b897f71\" y=\"238.18875\"/>\n      </g>\n     </g>\n     <g id=\"text_1\">\n      <!-- Max Speed -->\n      <g transform=\"translate(46.475852 252.679375)scale(0.1 -0.1)\">\n       <defs>\n        <path d=\"M 5147 63 \nL 4597 63 \nL 4597 2534 \nQ 4597 3281 4634 4134 \nL 4609 4134 \nQ 4356 3409 4066 2675 \nL 3066 209 \nL 2650 209 \nL 1641 2725 \nQ 1328 3506 1128 4141 \nL 1103 4141 \nQ 1141 3131 1141 2553 \nL 1141 63 \nL 609 63 \nL 609 4634 \nL 1416 4634 \nL 2503 1944 \nQ 2697 1472 2869 906 \nL 2888 906 \nQ 3028 1416 3234 1931 \nL 4316 4634 \nL 5147 4634 \nL 5147 63 \nz\n\" id=\"IPAexGothic-4d\" transform=\"scale(0.015625)\"/>\n        <path d=\"M 3156 63 \nL 2672 63 \nQ 2559 303 2531 556 \nL 2509 556 \nQ 2147 -25 1428 -25 \nQ 934 -25 622 288 \nQ 347 563 347 959 \nQ 347 1947 2050 1997 \nL 2478 2009 \nL 2478 2175 \nQ 2478 2509 2288 2700 \nQ 2088 2900 1775 2900 \nQ 1238 2900 969 2378 \nL 494 2597 \nQ 938 3328 1788 3328 \nQ 2375 3328 2691 3000 \nQ 2984 2706 2984 2169 \nL 2984 997 \nQ 2984 400 3156 63 \nz\nM 2491 1625 \nL 2141 1619 \nQ 903 1591 903 953 \nQ 903 728 1050 581 \nQ 1231 403 1525 403 \nQ 1934 403 2234 703 \nQ 2491 969 2491 1344 \nL 2491 1625 \nz\n\" id=\"IPAexGothic-61\" transform=\"scale(0.015625)\"/>\n        <path d=\"M 3050 63 \nL 2419 63 \nL 1547 1338 \nL 691 63 \nL 56 63 \nL 1247 1675 \nL 106 3250 \nL 747 3250 \nL 1578 2016 \nL 2413 3250 \nL 3019 3250 \nL 1875 1681 \nL 3050 63 \nz\n\" id=\"IPAexGothic-78\" transform=\"scale(0.015625)\"/>\n        <path id=\"IPAexGothic-20\" transform=\"scale(0.015625)\"/>\n        <path d=\"M 2919 3641 \nQ 2563 4259 1853 4259 \nQ 1453 4259 1213 4009 \nQ 1028 3803 1028 3534 \nQ 1028 3238 1266 3047 \nQ 1444 2913 1984 2688 \nL 2200 2597 \nQ 2925 2306 3191 1953 \nQ 3422 1644 3422 1259 \nQ 3422 644 2969 288 \nQ 2559 -31 1931 -31 \nQ 881 -31 313 766 \nL 753 1100 \nQ 1203 459 1938 459 \nQ 2288 459 2534 625 \nQ 2841 847 2841 1216 \nQ 2841 1503 2616 1728 \nQ 2375 1959 1728 2206 \nL 1541 2278 \nQ 453 2694 453 3481 \nQ 453 4006 806 4347 \nQ 1203 4725 1863 4725 \nQ 2841 4725 3359 3956 \nL 2919 3641 \nz\n\" id=\"IPAexGothic-53\" transform=\"scale(0.015625)\"/>\n        <path d=\"M 1075 2688 \nQ 1525 3341 2206 3341 \nQ 2769 3341 3172 2938 \nQ 3641 2469 3641 1644 \nQ 3641 841 3178 372 \nQ 2775 -31 2200 -31 \nQ 1569 -31 1106 497 \nL 1106 -1216 \nL 563 -1216 \nL 563 3250 \nL 1075 3250 \nL 1075 2688 \nz\nM 1106 1950 \nL 1106 1291 \nQ 1106 897 1516 600 \nQ 1791 403 2106 403 \nQ 2469 403 2725 659 \nQ 3066 997 3066 1631 \nQ 3066 2200 2784 2559 \nQ 2503 2900 2100 2900 \nQ 1656 2900 1338 2484 \nQ 1106 2184 1106 1950 \nz\n\" id=\"IPAexGothic-70\" transform=\"scale(0.015625)\"/>\n        <path d=\"M 863 1594 \nQ 891 1041 1209 722 \nQ 1534 397 1997 397 \nQ 2606 397 2963 966 \nL 3322 728 \nQ 2869 -31 1931 -31 \nQ 1222 -31 766 422 \nQ 306 884 306 1641 \nQ 306 2444 788 2925 \nQ 1216 3353 1856 3353 \nQ 2459 3353 2866 2956 \nQ 3322 2494 3322 1722 \nL 3322 1594 \nL 863 1594 \nz\nM 2756 1997 \nQ 2709 2431 2450 2681 \nQ 2194 2938 1844 2938 \nQ 1438 2938 1150 2591 \nQ 953 2356 894 1997 \nL 2756 1997 \nz\n\" id=\"IPAexGothic-65\" transform=\"scale(0.015625)\"/>\n        <path d=\"M 3391 63 \nL 2891 63 \nL 2891 619 \nQ 2441 -31 1753 -31 \nQ 1181 -31 788 372 \nQ 313 844 313 1663 \nQ 313 2466 772 2938 \nQ 1169 3341 1753 3341 \nQ 2384 3341 2847 2809 \nL 2847 4794 \nL 3391 4794 \nL 3391 63 \nz\nM 2847 1303 \nL 2847 2097 \nQ 2847 2413 2456 2706 \nQ 2181 2906 1853 2906 \nQ 1484 2906 1228 2650 \nQ 888 2309 888 1678 \nQ 888 1109 1169 750 \nQ 1441 409 1847 409 \nQ 2322 409 2656 875 \nQ 2847 1134 2847 1303 \nz\n\" id=\"IPAexGothic-64\" transform=\"scale(0.015625)\"/>\n       </defs>\n       <use xlink:href=\"#IPAexGothic-4d\"/>\n       <use x=\"90.185547\" xlink:href=\"#IPAexGothic-61\"/>\n       <use x=\"145.166016\" xlink:href=\"#IPAexGothic-78\"/>\n       <use x=\"194.042969\" xlink:href=\"#IPAexGothic-20\"/>\n       <use x=\"221.044922\" xlink:href=\"#IPAexGothic-53\"/>\n       <use x=\"279.541016\" xlink:href=\"#IPAexGothic-70\"/>\n       <use x=\"341.650391\" xlink:href=\"#IPAexGothic-65\"/>\n       <use x=\"398.535156\" xlink:href=\"#IPAexGothic-65\"/>\n       <use x=\"455.419922\" xlink:href=\"#IPAexGothic-64\"/>\n      </g>\n     </g>\n    </g>\n    <g id=\"xtick_2\">\n     <g id=\"line2d_3\">\n      <path clip-path=\"url(#pfbc0e53a39)\" d=\"M 150.913494 238.18875 \nL 150.913494 22.18875 \n\" style=\"fill:none;stroke:#b0b0b0;stroke-linecap:square;stroke-width:0.8;\"/>\n     </g>\n     <g id=\"line2d_4\">\n      <g>\n       <use style=\"stroke:#000000;stroke-width:0.8;\" x=\"150.913494\" xlink:href=\"#m8c9b897f71\" y=\"238.18875\"/>\n      </g>\n     </g>\n     <g id=\"text_2\">\n      <!-- Weight -->\n      <g transform=\"translate(134.536151 252.679375)scale(0.1 -0.1)\">\n       <defs>\n        <path d=\"M 5888 4634 \nL 4466 0 \nL 4038 0 \nL 3219 2759 \nQ 3084 3209 2981 3738 \nL 2963 3738 \nQ 2866 3288 2713 2759 \nL 1888 0 \nL 1453 0 \nL 44 4634 \nL 672 4634 \nL 1406 2041 \nQ 1572 1444 1694 928 \nL 1716 928 \nQ 1819 1406 2003 2041 \nL 2725 4556 \nL 3213 4556 \nL 3972 2041 \nQ 4128 1541 4269 922 \nL 4288 922 \nQ 4441 1603 4563 2041 \nL 5291 4634 \nL 5888 4634 \nz\n\" id=\"IPAexGothic-57\" transform=\"scale(0.015625)\"/>\n        <path d=\"M 1178 3928 \nL 550 3928 \nL 550 4569 \nL 1178 4569 \nL 1178 3928 \nz\nM 1138 63 \nL 588 63 \nL 588 3250 \nL 1138 3250 \nL 1138 63 \nz\n\" id=\"IPAexGothic-69\" transform=\"scale(0.015625)\"/>\n        <path d=\"M 1331 1150 \nQ 1006 1122 1006 900 \nQ 1006 613 1763 575 \nL 2131 556 \nQ 3303 497 3303 -294 \nQ 3303 -700 2925 -959 \nQ 2519 -1253 1794 -1253 \nQ 1138 -1253 738 -1028 \nQ 353 -809 353 -428 \nQ 353 84 1075 247 \nL 1075 269 \nQ 506 413 506 778 \nQ 506 1116 994 1297 \nQ 456 1575 456 2181 \nQ 456 2650 769 2963 \nQ 1128 3322 1738 3322 \nQ 2125 3322 2422 3153 \nQ 2650 3453 3259 3463 \nL 3259 3013 \nQ 2838 3003 2703 2938 \nQ 3034 2613 3034 2169 \nQ 3034 1728 2734 1425 \nQ 2400 1094 1813 1094 \nQ 1563 1094 1331 1150 \nz\nM 1734 2919 \nQ 1409 2919 1197 2706 \nQ 988 2497 988 2181 \nQ 988 1872 1184 1684 \nQ 1397 1472 1756 1472 \nQ 2094 1472 2297 1678 \nQ 2503 1881 2503 2203 \nQ 2503 2497 2297 2700 \nQ 2081 2919 1734 2919 \nz\nM 1753 159 \nQ 903 159 903 -366 \nQ 903 -875 1800 -875 \nQ 2378 -875 2638 -606 \nQ 2772 -481 2772 -313 \nQ 2772 159 1753 159 \nz\n\" id=\"IPAexGothic-67\" transform=\"scale(0.015625)\"/>\n        <path d=\"M 3347 63 \nL 2797 63 \nL 2797 2041 \nQ 2797 2853 2131 2853 \nQ 1447 2853 1131 2041 \nL 1131 63 \nL 581 63 \nL 581 4794 \nL 1131 4794 \nL 1131 2706 \nQ 1566 3316 2247 3316 \nQ 3347 3316 3347 2072 \nL 3347 63 \nz\n\" id=\"IPAexGothic-68\" transform=\"scale(0.015625)\"/>\n        <path d=\"M 2125 241 \nQ 1769 -6 1397 -6 \nQ 653 -6 653 831 \nL 653 2859 \nL 219 2859 \nL 219 3250 \nL 653 3250 \nL 653 3966 \nL 1178 4228 \nL 1178 3250 \nL 2063 3250 \nL 2063 2859 \nL 1178 2859 \nL 1178 906 \nQ 1178 416 1513 416 \nQ 1738 416 1941 588 \nL 2125 241 \nz\n\" id=\"IPAexGothic-74\" transform=\"scale(0.015625)\"/>\n       </defs>\n       <use xlink:href=\"#IPAexGothic-57\"/>\n       <use x=\"92.822266\" xlink:href=\"#IPAexGothic-65\"/>\n       <use x=\"149.707031\" xlink:href=\"#IPAexGothic-69\"/>\n       <use x=\"176.708984\" xlink:href=\"#IPAexGothic-67\"/>\n       <use x=\"232.226562\" xlink:href=\"#IPAexGothic-68\"/>\n       <use x=\"292.919922\" xlink:href=\"#IPAexGothic-74\"/>\n      </g>\n     </g>\n    </g>\n   </g>\n   <g id=\"matplotlib.axis_2\">\n    <g id=\"ytick_1\">\n     <g id=\"line2d_5\">\n      <path clip-path=\"url(#pfbc0e53a39)\" d=\"M 33.095312 228.824763 \nL 190.186222 228.824763 \n\" style=\"fill:none;stroke:#b0b0b0;stroke-linecap:square;stroke-width:0.8;\"/>\n     </g>\n     <g id=\"line2d_6\">\n      <defs>\n       <path d=\"M 0 0 \nL -3.5 0 \n\" id=\"m9bc709f84f\" style=\"stroke:#000000;stroke-width:0.8;\"/>\n      </defs>\n      <g>\n       <use style=\"stroke:#000000;stroke-width:0.8;\" x=\"33.095312\" xlink:href=\"#m9bc709f84f\" y=\"228.824763\"/>\n      </g>\n     </g>\n     <g id=\"text_3\">\n      <!-- 0 -->\n      <g transform=\"translate(19.796875 232.570076)scale(0.1 -0.1)\">\n       <defs>\n        <path d=\"M 2038 4725 \nQ 2881 4725 3334 3944 \nQ 3694 3325 3694 2344 \nQ 3694 1372 3334 741 \nQ 2888 -31 2016 -31 \nQ 1147 -31 700 741 \nQ 341 1372 341 2350 \nQ 341 3713 1000 4334 \nQ 1419 4725 2038 4725 \nz\nM 2016 4266 \nQ 1516 4266 1228 3759 \nQ 934 3247 934 2344 \nQ 934 1456 1222 947 \nQ 1513 447 2016 447 \nQ 2619 447 2909 1153 \nQ 3100 1622 3100 2375 \nQ 3100 3256 2806 3759 \nQ 2509 4266 2016 4266 \nz\n\" id=\"IPAexGothic-30\" transform=\"scale(0.015625)\"/>\n       </defs>\n       <use xlink:href=\"#IPAexGothic-30\"/>\n      </g>\n     </g>\n    </g>\n    <g id=\"ytick_2\">\n     <g id=\"line2d_7\">\n      <path clip-path=\"url(#pfbc0e53a39)\" d=\"M 33.095312 203.591708 \nL 190.186222 203.591708 \n\" style=\"fill:none;stroke:#b0b0b0;stroke-linecap:square;stroke-width:0.8;\"/>\n     </g>\n     <g id=\"line2d_8\">\n      <g>\n       <use style=\"stroke:#000000;stroke-width:0.8;\" x=\"33.095312\" xlink:href=\"#m9bc709f84f\" y=\"203.591708\"/>\n      </g>\n     </g>\n     <g id=\"text_4\">\n      <!-- 50 -->\n      <g transform=\"translate(13.498437 207.33702)scale(0.1 -0.1)\">\n       <defs>\n        <path d=\"M 1178 2603 \nQ 1634 2963 2172 2963 \nQ 2816 2963 3241 2528 \nQ 3638 2113 3638 1497 \nQ 3638 938 3297 513 \nQ 2869 -31 2031 -31 \nQ 959 -31 469 784 \nL 938 1028 \nQ 1309 434 2013 434 \nQ 2466 434 2769 716 \nQ 3081 1013 3081 1503 \nQ 3081 1966 2806 2241 \nQ 2519 2528 2056 2528 \nQ 1406 2528 1072 2028 \nL 591 2091 \nL 884 4634 \nL 3406 4634 \nL 3406 4153 \nL 1341 4153 \nL 1134 2603 \nL 1178 2603 \nz\n\" id=\"IPAexGothic-35\" transform=\"scale(0.015625)\"/>\n       </defs>\n       <use xlink:href=\"#IPAexGothic-35\"/>\n       <use x=\"62.988281\" xlink:href=\"#IPAexGothic-30\"/>\n      </g>\n     </g>\n    </g>\n    <g id=\"ytick_3\">\n     <g id=\"line2d_9\">\n      <path clip-path=\"url(#pfbc0e53a39)\" d=\"M 33.095312 178.358653 \nL 190.186222 178.358653 \n\" style=\"fill:none;stroke:#b0b0b0;stroke-linecap:square;stroke-width:0.8;\"/>\n     </g>\n     <g id=\"line2d_10\">\n      <g>\n       <use style=\"stroke:#000000;stroke-width:0.8;\" x=\"33.095312\" xlink:href=\"#m9bc709f84f\" y=\"178.358653\"/>\n      </g>\n     </g>\n     <g id=\"text_5\">\n      <!-- 100 -->\n      <g transform=\"translate(7.2 182.103965)scale(0.1 -0.1)\">\n       <defs>\n        <path d=\"M 2463 63 \nL 1900 63 \nL 1900 4103 \nQ 1372 3922 788 3797 \nL 684 4231 \nQ 1519 4441 2106 4731 \nL 2463 4731 \nL 2463 63 \nz\n\" id=\"IPAexGothic-31\" transform=\"scale(0.015625)\"/>\n       </defs>\n       <use xlink:href=\"#IPAexGothic-31\"/>\n       <use x=\"62.988281\" xlink:href=\"#IPAexGothic-30\"/>\n       <use x=\"125.976562\" xlink:href=\"#IPAexGothic-30\"/>\n      </g>\n     </g>\n    </g>\n    <g id=\"ytick_4\">\n     <g id=\"line2d_11\">\n      <path clip-path=\"url(#pfbc0e53a39)\" d=\"M 33.095312 153.125597 \nL 190.186222 153.125597 \n\" style=\"fill:none;stroke:#b0b0b0;stroke-linecap:square;stroke-width:0.8;\"/>\n     </g>\n     <g id=\"line2d_12\">\n      <g>\n       <use style=\"stroke:#000000;stroke-width:0.8;\" x=\"33.095312\" xlink:href=\"#m9bc709f84f\" y=\"153.125597\"/>\n      </g>\n     </g>\n     <g id=\"text_6\">\n      <!-- 150 -->\n      <g transform=\"translate(7.2 156.87091)scale(0.1 -0.1)\">\n       <use xlink:href=\"#IPAexGothic-31\"/>\n       <use x=\"62.988281\" xlink:href=\"#IPAexGothic-35\"/>\n       <use x=\"125.976562\" xlink:href=\"#IPAexGothic-30\"/>\n      </g>\n     </g>\n    </g>\n    <g id=\"ytick_5\">\n     <g id=\"line2d_13\">\n      <path clip-path=\"url(#pfbc0e53a39)\" d=\"M 33.095312 127.892542 \nL 190.186222 127.892542 \n\" style=\"fill:none;stroke:#b0b0b0;stroke-linecap:square;stroke-width:0.8;\"/>\n     </g>\n     <g id=\"line2d_14\">\n      <g>\n       <use style=\"stroke:#000000;stroke-width:0.8;\" x=\"33.095312\" xlink:href=\"#m9bc709f84f\" y=\"127.892542\"/>\n      </g>\n     </g>\n     <g id=\"text_7\">\n      <!-- 200 -->\n      <g transform=\"translate(7.2 131.637854)scale(0.1 -0.1)\">\n       <defs>\n        <path d=\"M 3659 63 \nL 447 63 \nL 447 594 \nQ 825 1475 1894 2203 \nL 2072 2322 \nQ 2619 2697 2791 2906 \nQ 2988 3153 2988 3444 \nQ 2988 3772 2756 4003 \nQ 2500 4259 2084 4259 \nQ 1250 4259 991 3328 \nL 497 3506 \nQ 853 4725 2116 4725 \nQ 2806 4725 3216 4316 \nQ 3575 3947 3575 3425 \nQ 3575 3038 3344 2722 \nQ 3131 2416 2366 1938 \nL 2231 1856 \nQ 1256 1253 978 569 \nL 3659 569 \nL 3659 63 \nz\n\" id=\"IPAexGothic-32\" transform=\"scale(0.015625)\"/>\n       </defs>\n       <use xlink:href=\"#IPAexGothic-32\"/>\n       <use x=\"62.988281\" xlink:href=\"#IPAexGothic-30\"/>\n       <use x=\"125.976562\" xlink:href=\"#IPAexGothic-30\"/>\n      </g>\n     </g>\n    </g>\n    <g id=\"ytick_6\">\n     <g id=\"line2d_15\">\n      <path clip-path=\"url(#pfbc0e53a39)\" d=\"M 33.095312 102.659487 \nL 190.186222 102.659487 \n\" style=\"fill:none;stroke:#b0b0b0;stroke-linecap:square;stroke-width:0.8;\"/>\n     </g>\n     <g id=\"line2d_16\">\n      <g>\n       <use style=\"stroke:#000000;stroke-width:0.8;\" x=\"33.095312\" xlink:href=\"#m9bc709f84f\" y=\"102.659487\"/>\n      </g>\n     </g>\n     <g id=\"text_8\">\n      <!-- 250 -->\n      <g transform=\"translate(7.2 106.404799)scale(0.1 -0.1)\">\n       <use xlink:href=\"#IPAexGothic-32\"/>\n       <use x=\"62.988281\" xlink:href=\"#IPAexGothic-35\"/>\n       <use x=\"125.976562\" xlink:href=\"#IPAexGothic-30\"/>\n      </g>\n     </g>\n    </g>\n    <g id=\"ytick_7\">\n     <g id=\"line2d_17\">\n      <path clip-path=\"url(#pfbc0e53a39)\" d=\"M 33.095312 77.426431 \nL 190.186222 77.426431 \n\" style=\"fill:none;stroke:#b0b0b0;stroke-linecap:square;stroke-width:0.8;\"/>\n     </g>\n     <g id=\"line2d_18\">\n      <g>\n       <use style=\"stroke:#000000;stroke-width:0.8;\" x=\"33.095312\" xlink:href=\"#m9bc709f84f\" y=\"77.426431\"/>\n      </g>\n     </g>\n     <g id=\"text_9\">\n      <!-- 300 -->\n      <g transform=\"translate(7.2 81.171744)scale(0.1 -0.1)\">\n       <defs>\n        <path d=\"M 2381 2419 \nQ 3506 2216 3506 1278 \nQ 3506 716 3128 356 \nQ 2709 -31 1944 -31 \nQ 797 -31 288 881 \nL 756 1131 \nQ 1109 441 1938 441 \nQ 2425 441 2694 691 \nQ 2950 928 2950 1291 \nQ 2950 1719 2566 1978 \nQ 2216 2213 1644 2213 \nL 1363 2213 \nL 1363 2669 \nL 1656 2669 \nQ 2231 2669 2534 2888 \nQ 2859 3119 2859 3509 \nQ 2859 3934 2494 4138 \nQ 2259 4278 1931 4278 \nQ 1238 4278 903 3578 \nL 434 3803 \nQ 897 4725 1938 4725 \nQ 2597 4725 3006 4394 \nQ 3416 4069 3416 3534 \nQ 3416 3028 3019 2706 \nQ 2763 2500 2381 2444 \nL 2381 2419 \nz\n\" id=\"IPAexGothic-33\" transform=\"scale(0.015625)\"/>\n       </defs>\n       <use xlink:href=\"#IPAexGothic-33\"/>\n       <use x=\"62.988281\" xlink:href=\"#IPAexGothic-30\"/>\n       <use x=\"125.976562\" xlink:href=\"#IPAexGothic-30\"/>\n      </g>\n     </g>\n    </g>\n    <g id=\"ytick_8\">\n     <g id=\"line2d_19\">\n      <path clip-path=\"url(#pfbc0e53a39)\" d=\"M 33.095312 52.193376 \nL 190.186222 52.193376 \n\" style=\"fill:none;stroke:#b0b0b0;stroke-linecap:square;stroke-width:0.8;\"/>\n     </g>\n     <g id=\"line2d_20\">\n      <g>\n       <use style=\"stroke:#000000;stroke-width:0.8;\" x=\"33.095312\" xlink:href=\"#m9bc709f84f\" y=\"52.193376\"/>\n      </g>\n     </g>\n     <g id=\"text_10\">\n      <!-- 350 -->\n      <g transform=\"translate(7.2 55.938689)scale(0.1 -0.1)\">\n       <use xlink:href=\"#IPAexGothic-33\"/>\n       <use x=\"62.988281\" xlink:href=\"#IPAexGothic-35\"/>\n       <use x=\"125.976562\" xlink:href=\"#IPAexGothic-30\"/>\n      </g>\n     </g>\n    </g>\n    <g id=\"ytick_9\">\n     <g id=\"line2d_21\">\n      <path clip-path=\"url(#pfbc0e53a39)\" d=\"M 33.095312 26.960321 \nL 190.186222 26.960321 \n\" style=\"fill:none;stroke:#b0b0b0;stroke-linecap:square;stroke-width:0.8;\"/>\n     </g>\n     <g id=\"line2d_22\">\n      <g>\n       <use style=\"stroke:#000000;stroke-width:0.8;\" x=\"33.095312\" xlink:href=\"#m9bc709f84f\" y=\"26.960321\"/>\n      </g>\n     </g>\n     <g id=\"text_11\">\n      <!-- 400 -->\n      <g transform=\"translate(7.2 30.705633)scale(0.1 -0.1)\">\n       <defs>\n        <path d=\"M 3813 1159 \nL 3059 1159 \nL 3059 63 \nL 2547 63 \nL 2547 1159 \nL 197 1159 \nL 197 1672 \nL 2456 4678 \nL 3059 4678 \nL 3059 1634 \nL 3813 1634 \nL 3813 1159 \nz\nM 2578 4109 \nL 2559 4109 \nQ 2278 3656 2003 3284 \nL 759 1634 \nL 2547 1634 \nL 2547 3144 \nQ 2547 3481 2578 4109 \nz\n\" id=\"IPAexGothic-34\" transform=\"scale(0.015625)\"/>\n       </defs>\n       <use xlink:href=\"#IPAexGothic-34\"/>\n       <use x=\"62.988281\" xlink:href=\"#IPAexGothic-30\"/>\n       <use x=\"125.976562\" xlink:href=\"#IPAexGothic-30\"/>\n      </g>\n     </g>\n    </g>\n   </g>\n   <g id=\"line2d_23\">\n    <path clip-path=\"url(#pfbc0e53a39)\" d=\"M 66.477131 40.207675 \nL 78.258949 40.207675 \nL 78.258949 35.79189 \nL 66.477131 35.79189 \nL 66.477131 40.207675 \n\" style=\"fill:none;stroke:#1f77b4;stroke-linecap:square;\"/>\n   </g>\n   <g id=\"line2d_24\">\n    <path clip-path=\"url(#pfbc0e53a39)\" d=\"M 72.36804 40.207675 \nL 72.36804 42.100154 \n\" style=\"fill:none;stroke:#1f77b4;stroke-linecap:square;\"/>\n   </g>\n   <g id=\"line2d_25\">\n    <path clip-path=\"url(#pfbc0e53a39)\" d=\"M 72.36804 35.79189 \nL 72.36804 32.006932 \n\" style=\"fill:none;stroke:#1f77b4;stroke-linecap:square;\"/>\n   </g>\n   <g id=\"line2d_26\">\n    <path clip-path=\"url(#pfbc0e53a39)\" d=\"M 69.422585 42.100154 \nL 75.313494 42.100154 \n\" style=\"fill:none;stroke:#000000;stroke-linecap:square;\"/>\n   </g>\n   <g id=\"line2d_27\">\n    <path clip-path=\"url(#pfbc0e53a39)\" d=\"M 69.422585 32.006932 \nL 75.313494 32.006932 \n\" style=\"fill:none;stroke:#000000;stroke-linecap:square;\"/>\n   </g>\n   <g id=\"line2d_28\"/>\n   <g id=\"line2d_29\">\n    <path clip-path=\"url(#pfbc0e53a39)\" d=\"M 145.022585 228.332719 \nL 156.804403 228.332719 \nL 156.804403 228.257019 \nL 145.022585 228.257019 \nL 145.022585 228.332719 \n\" style=\"fill:none;stroke:#1f77b4;stroke-linecap:square;\"/>\n   </g>\n   <g id=\"line2d_30\">\n    <path clip-path=\"url(#pfbc0e53a39)\" d=\"M 150.913494 228.332719 \nL 150.913494 228.370568 \n\" style=\"fill:none;stroke:#1f77b4;stroke-linecap:square;\"/>\n   </g>\n   <g id=\"line2d_31\">\n    <path clip-path=\"url(#pfbc0e53a39)\" d=\"M 150.913494 228.257019 \nL 150.913494 228.21917 \n\" style=\"fill:none;stroke:#1f77b4;stroke-linecap:square;\"/>\n   </g>\n   <g id=\"line2d_32\">\n    <path clip-path=\"url(#pfbc0e53a39)\" d=\"M 147.96804 228.370568 \nL 153.858949 228.370568 \n\" style=\"fill:none;stroke:#000000;stroke-linecap:square;\"/>\n   </g>\n   <g id=\"line2d_33\">\n    <path clip-path=\"url(#pfbc0e53a39)\" d=\"M 147.96804 228.21917 \nL 153.858949 228.21917 \n\" style=\"fill:none;stroke:#000000;stroke-linecap:square;\"/>\n   </g>\n   <g id=\"line2d_34\"/>\n   <g id=\"line2d_35\">\n    <path clip-path=\"url(#pfbc0e53a39)\" d=\"M 66.477131 38.315196 \nL 78.258949 38.315196 \n\" style=\"fill:none;stroke:#2ca02c;stroke-linecap:square;\"/>\n   </g>\n   <g id=\"line2d_36\">\n    <path clip-path=\"url(#pfbc0e53a39)\" d=\"M 145.022585 228.294869 \nL 156.804403 228.294869 \n\" style=\"fill:none;stroke:#2ca02c;stroke-linecap:square;\"/>\n   </g>\n   <g id=\"patch_3\">\n    <path d=\"M 33.095312 238.18875 \nL 33.095312 22.18875 \n\" style=\"fill:none;stroke:#000000;stroke-linecap:square;stroke-linejoin:miter;stroke-width:0.8;\"/>\n   </g>\n   <g id=\"patch_4\">\n    <path d=\"M 190.186222 238.18875 \nL 190.186222 22.18875 \n\" style=\"fill:none;stroke:#000000;stroke-linecap:square;stroke-linejoin:miter;stroke-width:0.8;\"/>\n   </g>\n   <g id=\"patch_5\">\n    <path d=\"M 33.095312 238.18875 \nL 190.186222 238.18875 \n\" style=\"fill:none;stroke:#000000;stroke-linecap:square;stroke-linejoin:miter;stroke-width:0.8;\"/>\n   </g>\n   <g id=\"patch_6\">\n    <path d=\"M 33.095312 22.18875 \nL 190.186222 22.18875 \n\" style=\"fill:none;stroke:#000000;stroke-linecap:square;stroke-linejoin:miter;stroke-width:0.8;\"/>\n   </g>\n   <g id=\"text_12\">\n    <!-- Falcon -->\n    <g transform=\"translate(92.779205 16.18875)scale(0.12 -0.12)\">\n     <defs>\n      <path d=\"M 3469 4141 \nL 1172 4141 \nL 1172 2656 \nL 3206 2656 \nL 3206 2188 \nL 1172 2188 \nL 1172 63 \nL 609 63 \nL 609 4634 \nL 3469 4634 \nL 3469 4141 \nz\n\" id=\"IPAexGothic-46\" transform=\"scale(0.015625)\"/>\n      <path d=\"M 1131 63 \nL 581 63 \nL 581 4794 \nL 1131 4794 \nL 1131 63 \nz\n\" id=\"IPAexGothic-6c\" transform=\"scale(0.015625)\"/>\n      <path d=\"M 3269 784 \nQ 2834 -31 1900 -31 \nQ 1228 -31 788 409 \nQ 313 891 313 1663 \nQ 313 2428 788 2913 \nQ 1222 3347 1881 3347 \nQ 2813 3347 3206 2541 \nL 2763 2309 \nQ 2484 2900 1900 2900 \nQ 1516 2900 1234 2619 \nQ 881 2266 881 1650 \nQ 881 1069 1222 728 \nQ 1522 428 1956 428 \nQ 2547 428 2847 1016 \nL 3269 784 \nz\n\" id=\"IPAexGothic-63\" transform=\"scale(0.015625)\"/>\n      <path d=\"M 1919 3341 \nQ 2594 3341 3056 2888 \nQ 3531 2413 3531 1638 \nQ 3531 888 3066 422 \nQ 2609 -31 1919 -31 \nQ 1228 -31 781 416 \nQ 313 881 313 1656 \nQ 313 2413 788 2888 \nQ 1241 3341 1919 3341 \nz\nM 1919 2919 \nQ 1519 2919 1241 2631 \nQ 888 2278 888 1650 \nQ 888 1031 1234 684 \nQ 1516 403 1919 403 \nQ 2331 403 2609 691 \nQ 2956 1038 2956 1672 \nQ 2956 2269 2603 2631 \nQ 2316 2919 1919 2919 \nz\n\" id=\"IPAexGothic-6f\" transform=\"scale(0.015625)\"/>\n      <path d=\"M 3328 63 \nL 2778 63 \nL 2778 2041 \nQ 2778 2853 2106 2853 \nQ 1428 2853 1113 2041 \nL 1113 63 \nL 563 63 \nL 563 3250 \nL 1075 3250 \nL 1075 2675 \nQ 1525 3316 2222 3316 \nQ 3328 3316 3328 2072 \nL 3328 63 \nz\n\" id=\"IPAexGothic-6e\" transform=\"scale(0.015625)\"/>\n     </defs>\n     <use xlink:href=\"#IPAexGothic-46\"/>\n     <use x=\"57.177734\" xlink:href=\"#IPAexGothic-61\"/>\n     <use x=\"112.158203\" xlink:href=\"#IPAexGothic-6c\"/>\n     <use x=\"139.160156\" xlink:href=\"#IPAexGothic-63\"/>\n     <use x=\"193.554688\" xlink:href=\"#IPAexGothic-6f\"/>\n     <use x=\"253.955078\" xlink:href=\"#IPAexGothic-6e\"/>\n    </g>\n   </g>\n  </g>\n  <g id=\"axes_2\">\n   <g id=\"patch_7\">\n    <path d=\"M 221.604403 238.18875 \nL 378.695312 238.18875 \nL 378.695312 22.18875 \nL 221.604403 22.18875 \nz\n\" style=\"fill:#ffffff;\"/>\n   </g>\n   <g id=\"matplotlib.axis_3\">\n    <g id=\"xtick_3\">\n     <g id=\"line2d_37\">\n      <path clip-path=\"url(#pb5c6d4c5f9)\" d=\"M 260.877131 238.18875 \nL 260.877131 22.18875 \n\" style=\"fill:none;stroke:#b0b0b0;stroke-linecap:square;stroke-width:0.8;\"/>\n     </g>\n     <g id=\"line2d_38\">\n      <g>\n       <use style=\"stroke:#000000;stroke-width:0.8;\" x=\"260.877131\" xlink:href=\"#m8c9b897f71\" y=\"238.18875\"/>\n      </g>\n     </g>\n     <g id=\"text_13\">\n      <!-- Max Speed -->\n      <g transform=\"translate(234.984943 252.679375)scale(0.1 -0.1)\">\n       <use xlink:href=\"#IPAexGothic-4d\"/>\n       <use x=\"90.185547\" xlink:href=\"#IPAexGothic-61\"/>\n       <use x=\"145.166016\" xlink:href=\"#IPAexGothic-78\"/>\n       <use x=\"194.042969\" xlink:href=\"#IPAexGothic-20\"/>\n       <use x=\"221.044922\" xlink:href=\"#IPAexGothic-53\"/>\n       <use x=\"279.541016\" xlink:href=\"#IPAexGothic-70\"/>\n       <use x=\"341.650391\" xlink:href=\"#IPAexGothic-65\"/>\n       <use x=\"398.535156\" xlink:href=\"#IPAexGothic-65\"/>\n       <use x=\"455.419922\" xlink:href=\"#IPAexGothic-64\"/>\n      </g>\n     </g>\n    </g>\n    <g id=\"xtick_4\">\n     <g id=\"line2d_39\">\n      <path clip-path=\"url(#pb5c6d4c5f9)\" d=\"M 339.422585 238.18875 \nL 339.422585 22.18875 \n\" style=\"fill:none;stroke:#b0b0b0;stroke-linecap:square;stroke-width:0.8;\"/>\n     </g>\n     <g id=\"line2d_40\">\n      <g>\n       <use style=\"stroke:#000000;stroke-width:0.8;\" x=\"339.422585\" xlink:href=\"#m8c9b897f71\" y=\"238.18875\"/>\n      </g>\n     </g>\n     <g id=\"text_14\">\n      <!-- Weight -->\n      <g transform=\"translate(323.045241 252.679375)scale(0.1 -0.1)\">\n       <use xlink:href=\"#IPAexGothic-57\"/>\n       <use x=\"92.822266\" xlink:href=\"#IPAexGothic-65\"/>\n       <use x=\"149.707031\" xlink:href=\"#IPAexGothic-69\"/>\n       <use x=\"176.708984\" xlink:href=\"#IPAexGothic-67\"/>\n       <use x=\"232.226562\" xlink:href=\"#IPAexGothic-68\"/>\n       <use x=\"292.919922\" xlink:href=\"#IPAexGothic-74\"/>\n      </g>\n     </g>\n    </g>\n   </g>\n   <g id=\"matplotlib.axis_4\">\n    <g id=\"ytick_10\">\n     <g id=\"line2d_41\">\n      <path clip-path=\"url(#pb5c6d4c5f9)\" d=\"M 221.604403 228.824763 \nL 378.695312 228.824763 \n\" style=\"fill:none;stroke:#b0b0b0;stroke-linecap:square;stroke-width:0.8;\"/>\n     </g>\n     <g id=\"line2d_42\">\n      <g>\n       <use style=\"stroke:#000000;stroke-width:0.8;\" x=\"221.604403\" xlink:href=\"#m9bc709f84f\" y=\"228.824763\"/>\n      </g>\n     </g>\n    </g>\n    <g id=\"ytick_11\">\n     <g id=\"line2d_43\">\n      <path clip-path=\"url(#pb5c6d4c5f9)\" d=\"M 221.604403 203.591708 \nL 378.695312 203.591708 \n\" style=\"fill:none;stroke:#b0b0b0;stroke-linecap:square;stroke-width:0.8;\"/>\n     </g>\n     <g id=\"line2d_44\">\n      <g>\n       <use style=\"stroke:#000000;stroke-width:0.8;\" x=\"221.604403\" xlink:href=\"#m9bc709f84f\" y=\"203.591708\"/>\n      </g>\n     </g>\n    </g>\n    <g id=\"ytick_12\">\n     <g id=\"line2d_45\">\n      <path clip-path=\"url(#pb5c6d4c5f9)\" d=\"M 221.604403 178.358653 \nL 378.695312 178.358653 \n\" style=\"fill:none;stroke:#b0b0b0;stroke-linecap:square;stroke-width:0.8;\"/>\n     </g>\n     <g id=\"line2d_46\">\n      <g>\n       <use style=\"stroke:#000000;stroke-width:0.8;\" x=\"221.604403\" xlink:href=\"#m9bc709f84f\" y=\"178.358653\"/>\n      </g>\n     </g>\n    </g>\n    <g id=\"ytick_13\">\n     <g id=\"line2d_47\">\n      <path clip-path=\"url(#pb5c6d4c5f9)\" d=\"M 221.604403 153.125597 \nL 378.695312 153.125597 \n\" style=\"fill:none;stroke:#b0b0b0;stroke-linecap:square;stroke-width:0.8;\"/>\n     </g>\n     <g id=\"line2d_48\">\n      <g>\n       <use style=\"stroke:#000000;stroke-width:0.8;\" x=\"221.604403\" xlink:href=\"#m9bc709f84f\" y=\"153.125597\"/>\n      </g>\n     </g>\n    </g>\n    <g id=\"ytick_14\">\n     <g id=\"line2d_49\">\n      <path clip-path=\"url(#pb5c6d4c5f9)\" d=\"M 221.604403 127.892542 \nL 378.695312 127.892542 \n\" style=\"fill:none;stroke:#b0b0b0;stroke-linecap:square;stroke-width:0.8;\"/>\n     </g>\n     <g id=\"line2d_50\">\n      <g>\n       <use style=\"stroke:#000000;stroke-width:0.8;\" x=\"221.604403\" xlink:href=\"#m9bc709f84f\" y=\"127.892542\"/>\n      </g>\n     </g>\n    </g>\n    <g id=\"ytick_15\">\n     <g id=\"line2d_51\">\n      <path clip-path=\"url(#pb5c6d4c5f9)\" d=\"M 221.604403 102.659487 \nL 378.695312 102.659487 \n\" style=\"fill:none;stroke:#b0b0b0;stroke-linecap:square;stroke-width:0.8;\"/>\n     </g>\n     <g id=\"line2d_52\">\n      <g>\n       <use style=\"stroke:#000000;stroke-width:0.8;\" x=\"221.604403\" xlink:href=\"#m9bc709f84f\" y=\"102.659487\"/>\n      </g>\n     </g>\n    </g>\n    <g id=\"ytick_16\">\n     <g id=\"line2d_53\">\n      <path clip-path=\"url(#pb5c6d4c5f9)\" d=\"M 221.604403 77.426431 \nL 378.695312 77.426431 \n\" style=\"fill:none;stroke:#b0b0b0;stroke-linecap:square;stroke-width:0.8;\"/>\n     </g>\n     <g id=\"line2d_54\">\n      <g>\n       <use style=\"stroke:#000000;stroke-width:0.8;\" x=\"221.604403\" xlink:href=\"#m9bc709f84f\" y=\"77.426431\"/>\n      </g>\n     </g>\n    </g>\n    <g id=\"ytick_17\">\n     <g id=\"line2d_55\">\n      <path clip-path=\"url(#pb5c6d4c5f9)\" d=\"M 221.604403 52.193376 \nL 378.695312 52.193376 \n\" style=\"fill:none;stroke:#b0b0b0;stroke-linecap:square;stroke-width:0.8;\"/>\n     </g>\n     <g id=\"line2d_56\">\n      <g>\n       <use style=\"stroke:#000000;stroke-width:0.8;\" x=\"221.604403\" xlink:href=\"#m9bc709f84f\" y=\"52.193376\"/>\n      </g>\n     </g>\n    </g>\n    <g id=\"ytick_18\">\n     <g id=\"line2d_57\">\n      <path clip-path=\"url(#pb5c6d4c5f9)\" d=\"M 221.604403 26.960321 \nL 378.695312 26.960321 \n\" style=\"fill:none;stroke:#b0b0b0;stroke-linecap:square;stroke-width:0.8;\"/>\n     </g>\n     <g id=\"line2d_58\">\n      <g>\n       <use style=\"stroke:#000000;stroke-width:0.8;\" x=\"221.604403\" xlink:href=\"#m9bc709f84f\" y=\"26.960321\"/>\n      </g>\n     </g>\n    </g>\n   </g>\n   <g id=\"line2d_59\">\n    <path clip-path=\"url(#pb5c6d4c5f9)\" d=\"M 254.986222 217.974549 \nL 266.76804 217.974549 \nL 266.76804 216.460566 \nL 254.986222 216.460566 \nL 254.986222 217.974549 \n\" style=\"fill:none;stroke:#1f77b4;stroke-linecap:square;\"/>\n   </g>\n   <g id=\"line2d_60\">\n    <path clip-path=\"url(#pb5c6d4c5f9)\" d=\"M 260.877131 217.974549 \nL 260.877131 218.731541 \n\" style=\"fill:none;stroke:#1f77b4;stroke-linecap:square;\"/>\n   </g>\n   <g id=\"line2d_61\">\n    <path clip-path=\"url(#pb5c6d4c5f9)\" d=\"M 260.877131 216.460566 \nL 260.877131 215.703574 \n\" style=\"fill:none;stroke:#1f77b4;stroke-linecap:square;\"/>\n   </g>\n   <g id=\"line2d_62\">\n    <path clip-path=\"url(#pb5c6d4c5f9)\" d=\"M 257.931676 218.731541 \nL 263.822585 218.731541 \n\" style=\"fill:none;stroke:#000000;stroke-linecap:square;\"/>\n   </g>\n   <g id=\"line2d_63\">\n    <path clip-path=\"url(#pb5c6d4c5f9)\" d=\"M 257.931676 215.703574 \nL 263.822585 215.703574 \n\" style=\"fill:none;stroke:#000000;stroke-linecap:square;\"/>\n   </g>\n   <g id=\"line2d_64\"/>\n   <g id=\"line2d_65\">\n    <path clip-path=\"url(#pb5c6d4c5f9)\" d=\"M 333.531676 227.764975 \nL 345.313494 227.764975 \nL 345.313494 227.63881 \nL 333.531676 227.63881 \nL 333.531676 227.764975 \n\" style=\"fill:none;stroke:#1f77b4;stroke-linecap:square;\"/>\n   </g>\n   <g id=\"line2d_66\">\n    <path clip-path=\"url(#pb5c6d4c5f9)\" d=\"M 339.422585 227.764975 \nL 339.422585 227.815441 \n\" style=\"fill:none;stroke:#1f77b4;stroke-linecap:square;\"/>\n   </g>\n   <g id=\"line2d_67\">\n    <path clip-path=\"url(#pb5c6d4c5f9)\" d=\"M 339.422585 227.63881 \nL 339.422585 227.56311 \n\" style=\"fill:none;stroke:#1f77b4;stroke-linecap:square;\"/>\n   </g>\n   <g id=\"line2d_68\">\n    <path clip-path=\"url(#pb5c6d4c5f9)\" d=\"M 336.477131 227.815441 \nL 342.36804 227.815441 \n\" style=\"fill:none;stroke:#000000;stroke-linecap:square;\"/>\n   </g>\n   <g id=\"line2d_69\">\n    <path clip-path=\"url(#pb5c6d4c5f9)\" d=\"M 336.477131 227.56311 \nL 342.36804 227.56311 \n\" style=\"fill:none;stroke:#000000;stroke-linecap:square;\"/>\n   </g>\n   <g id=\"line2d_70\"/>\n   <g id=\"line2d_71\">\n    <path clip-path=\"url(#pb5c6d4c5f9)\" d=\"M 254.986222 217.217558 \nL 266.76804 217.217558 \n\" style=\"fill:none;stroke:#2ca02c;stroke-linecap:square;\"/>\n   </g>\n   <g id=\"line2d_72\">\n    <path clip-path=\"url(#pb5c6d4c5f9)\" d=\"M 333.531676 227.714509 \nL 345.313494 227.714509 \n\" style=\"fill:none;stroke:#2ca02c;stroke-linecap:square;\"/>\n   </g>\n   <g id=\"patch_8\">\n    <path d=\"M 221.604403 238.18875 \nL 221.604403 22.18875 \n\" style=\"fill:none;stroke:#000000;stroke-linecap:square;stroke-linejoin:miter;stroke-width:0.8;\"/>\n   </g>\n   <g id=\"patch_9\">\n    <path d=\"M 378.695312 238.18875 \nL 378.695312 22.18875 \n\" style=\"fill:none;stroke:#000000;stroke-linecap:square;stroke-linejoin:miter;stroke-width:0.8;\"/>\n   </g>\n   <g id=\"patch_10\">\n    <path d=\"M 221.604403 238.18875 \nL 378.695312 238.18875 \n\" style=\"fill:none;stroke:#000000;stroke-linecap:square;stroke-linejoin:miter;stroke-width:0.8;\"/>\n   </g>\n   <g id=\"patch_11\">\n    <path d=\"M 221.604403 22.18875 \nL 378.695312 22.18875 \n\" style=\"fill:none;stroke:#000000;stroke-linecap:square;stroke-linejoin:miter;stroke-width:0.8;\"/>\n   </g>\n   <g id=\"text_15\">\n    <!-- Parrot -->\n    <g transform=\"translate(282.980483 16.18875)scale(0.12 -0.12)\">\n     <defs>\n      <path d=\"M 609 4634 \nL 1941 4634 \nQ 3688 4634 3688 3322 \nQ 3688 1934 1906 1934 \nL 1172 1934 \nL 1172 63 \nL 609 63 \nL 609 4634 \nz\nM 1172 2381 \nL 1800 2381 \nQ 3100 2381 3100 3316 \nQ 3100 4181 1894 4181 \nL 1172 4181 \nL 1172 2381 \nz\n\" id=\"IPAexGothic-50\" transform=\"scale(0.015625)\"/>\n      <path d=\"M 2309 3316 \nL 2213 2769 \nQ 2106 2791 2022 2791 \nQ 1653 2791 1413 2444 \nQ 1113 2006 1113 1675 \nL 1113 63 \nL 563 63 \nL 563 3250 \nL 1081 3250 \nL 1056 2303 \nL 1069 2303 \nQ 1422 3341 2097 3341 \nQ 2206 3341 2309 3316 \nz\n\" id=\"IPAexGothic-72\" transform=\"scale(0.015625)\"/>\n     </defs>\n     <use xlink:href=\"#IPAexGothic-50\"/>\n     <use x=\"62.109375\" xlink:href=\"#IPAexGothic-61\"/>\n     <use x=\"117.089844\" xlink:href=\"#IPAexGothic-72\"/>\n     <use x=\"154.101562\" xlink:href=\"#IPAexGothic-72\"/>\n     <use x=\"191.113281\" xlink:href=\"#IPAexGothic-6f\"/>\n     <use x=\"251.513672\" xlink:href=\"#IPAexGothic-74\"/>\n    </g>\n   </g>\n  </g>\n </g>\n <defs>\n  <clipPath id=\"pfbc0e53a39\">\n   <rect height=\"216\" width=\"157.090909\" x=\"33.095312\" y=\"22.18875\"/>\n  </clipPath>\n  <clipPath id=\"pb5c6d4c5f9\">\n   <rect height=\"216\" width=\"157.090909\" x=\"221.604403\" y=\"22.18875\"/>\n  </clipPath>\n </defs>\n</svg>\n",
      "image/png": "[encoded data removed]"
     },
     "metadata": {
      "needs_background": "light"
     }
    }
   ],
   "source": [
    "# boxplot で箱ヒゲ図を作成できる\n",
    "df.groupby(\"Animal\").boxplot()"
   ]
  },
  {
   "cell_type": "code",
   "execution_count": 259,
   "metadata": {},
   "outputs": [
    {
     "output_type": "execute_result",
     "data": {
      "text/plain": [
       "変数\n",
       "最高気温    AxesSubplot(0.125,0.125;0.775x0.755)\n",
       "最高湿度    AxesSubplot(0.125,0.125;0.775x0.755)\n",
       "dtype: object"
      ]
     },
     "metadata": {},
     "execution_count": 259
    },
    {
     "output_type": "display_data",
     "data": {
      "text/plain": "<Figure size 432x288 with 1 Axes>",
      "image/svg+xml": "<?xml version=\"1.0\" encoding=\"utf-8\" standalone=\"no\"?>\n<!DOCTYPE svg PUBLIC \"-//W3C//DTD SVG 1.1//EN\"\n  \"http://www.w3.org/Graphics/SVG/1.1/DTD/svg11.dtd\">\n<svg height=\"270.008125pt\" version=\"1.1\" viewBox=\"0 0 384.035937 270.008125\" width=\"384.035937pt\" xmlns=\"http://www.w3.org/2000/svg\" xmlns:xlink=\"http://www.w3.org/1999/xlink\">\n <metadata>\n  <rdf:RDF xmlns:cc=\"http://creativecommons.org/ns#\" xmlns:dc=\"http://purl.org/dc/elements/1.1/\" xmlns:rdf=\"http://www.w3.org/1999/02/22-rdf-syntax-ns#\">\n   <cc:Work>\n    <dc:type rdf:resource=\"http://purl.org/dc/dcmitype/StillImage\"/>\n    <dc:date>2021-06-11T22:19:08.818427</dc:date>\n    <dc:format>image/svg+xml</dc:format>\n    <dc:creator>\n     <cc:Agent>\n      <dc:title>Matplotlib v3.4.2, https://matplotlib.org/</dc:title>\n     </cc:Agent>\n    </dc:creator>\n   </cc:Work>\n  </rdf:RDF>\n </metadata>\n <defs>\n  <style type=\"text/css\">*{stroke-linecap:butt;stroke-linejoin:round;}</style>\n </defs>\n <g id=\"figure_1\">\n  <g id=\"patch_1\">\n   <path d=\"M 0 270.008125 \nL 384.035937 270.008125 \nL 384.035937 0 \nL 0 0 \nz\n\" style=\"fill:none;\"/>\n  </g>\n  <g id=\"axes_1\">\n   <g id=\"patch_2\">\n    <path d=\"M 35.7375 224.64 \nL 370.5375 224.64 \nL 370.5375 7.2 \nL 35.7375 7.2 \nz\n\" style=\"fill:#ffffff;\"/>\n   </g>\n   <g id=\"matplotlib.axis_1\">\n    <g id=\"xtick_1\">\n     <g id=\"line2d_1\">\n      <defs>\n       <path d=\"M 0 0 \nL 0 3.5 \n\" id=\"me70084170e\" style=\"stroke:#000000;stroke-width:0.8;\"/>\n      </defs>\n      <g>\n       <use style=\"stroke:#000000;stroke-width:0.8;\" x=\"35.7375\" xlink:href=\"#me70084170e\" y=\"224.64\"/>\n      </g>\n     </g>\n     <g id=\"text_1\">\n      <!-- 01 -->\n      <g transform=\"translate(29.439062 239.130625)scale(0.1 -0.1)\">\n       <defs>\n        <path d=\"M 2038 4725 \nQ 2881 4725 3334 3944 \nQ 3694 3325 3694 2344 \nQ 3694 1372 3334 741 \nQ 2888 -31 2016 -31 \nQ 1147 -31 700 741 \nQ 341 1372 341 2350 \nQ 341 3713 1000 4334 \nQ 1419 4725 2038 4725 \nz\nM 2016 4266 \nQ 1516 4266 1228 3759 \nQ 934 3247 934 2344 \nQ 934 1456 1222 947 \nQ 1513 447 2016 447 \nQ 2619 447 2909 1153 \nQ 3100 1622 3100 2375 \nQ 3100 3256 2806 3759 \nQ 2509 4266 2016 4266 \nz\n\" id=\"IPAexGothic-30\" transform=\"scale(0.015625)\"/>\n        <path d=\"M 2463 63 \nL 1900 63 \nL 1900 4103 \nQ 1372 3922 788 3797 \nL 684 4231 \nQ 1519 4441 2106 4731 \nL 2463 4731 \nL 2463 63 \nz\n\" id=\"IPAexGothic-31\" transform=\"scale(0.015625)\"/>\n       </defs>\n       <use xlink:href=\"#IPAexGothic-30\"/>\n       <use x=\"62.988281\" xlink:href=\"#IPAexGothic-31\"/>\n      </g>\n      <!-- Jan -->\n      <g transform=\"translate(28.06875 250.019375)scale(0.1 -0.1)\">\n       <defs>\n        <path d=\"M 1819 4634 \nL 1819 1234 \nQ 1819 -31 763 -31 \nQ 303 -31 -125 209 \nL 84 644 \nQ 378 447 694 447 \nQ 1250 447 1250 1203 \nL 1250 4634 \nL 1819 4634 \nz\n\" id=\"IPAexGothic-4a\" transform=\"scale(0.015625)\"/>\n        <path d=\"M 3156 63 \nL 2672 63 \nQ 2559 303 2531 556 \nL 2509 556 \nQ 2147 -25 1428 -25 \nQ 934 -25 622 288 \nQ 347 563 347 959 \nQ 347 1947 2050 1997 \nL 2478 2009 \nL 2478 2175 \nQ 2478 2509 2288 2700 \nQ 2088 2900 1775 2900 \nQ 1238 2900 969 2378 \nL 494 2597 \nQ 938 3328 1788 3328 \nQ 2375 3328 2691 3000 \nQ 2984 2706 2984 2169 \nL 2984 997 \nQ 2984 400 3156 63 \nz\nM 2491 1625 \nL 2141 1619 \nQ 903 1591 903 953 \nQ 903 728 1050 581 \nQ 1231 403 1525 403 \nQ 1934 403 2234 703 \nQ 2491 969 2491 1344 \nL 2491 1625 \nz\n\" id=\"IPAexGothic-61\" transform=\"scale(0.015625)\"/>\n        <path d=\"M 3328 63 \nL 2778 63 \nL 2778 2041 \nQ 2778 2853 2106 2853 \nQ 1428 2853 1113 2041 \nL 1113 63 \nL 563 63 \nL 563 3250 \nL 1075 3250 \nL 1075 2675 \nQ 1525 3316 2222 3316 \nQ 3328 3316 3328 2072 \nL 3328 63 \nz\n\" id=\"IPAexGothic-6e\" transform=\"scale(0.015625)\"/>\n       </defs>\n       <use xlink:href=\"#IPAexGothic-4a\"/>\n       <use x=\"37.988281\" xlink:href=\"#IPAexGothic-61\"/>\n       <use x=\"92.96875\" xlink:href=\"#IPAexGothic-6e\"/>\n      </g>\n      <!-- 2021 -->\n      <g transform=\"translate(23.140625 260.908125)scale(0.1 -0.1)\">\n       <defs>\n        <path d=\"M 3659 63 \nL 447 63 \nL 447 594 \nQ 825 1475 1894 2203 \nL 2072 2322 \nQ 2619 2697 2791 2906 \nQ 2988 3153 2988 3444 \nQ 2988 3772 2756 4003 \nQ 2500 4259 2084 4259 \nQ 1250 4259 991 3328 \nL 497 3506 \nQ 853 4725 2116 4725 \nQ 2806 4725 3216 4316 \nQ 3575 3947 3575 3425 \nQ 3575 3038 3344 2722 \nQ 3131 2416 2366 1938 \nL 2231 1856 \nQ 1256 1253 978 569 \nL 3659 569 \nL 3659 63 \nz\n\" id=\"IPAexGothic-32\" transform=\"scale(0.015625)\"/>\n       </defs>\n       <use xlink:href=\"#IPAexGothic-32\"/>\n       <use x=\"62.988281\" xlink:href=\"#IPAexGothic-30\"/>\n       <use x=\"125.976562\" xlink:href=\"#IPAexGothic-32\"/>\n       <use x=\"188.964844\" xlink:href=\"#IPAexGothic-31\"/>\n      </g>\n     </g>\n    </g>\n    <g id=\"xtick_2\">\n     <g id=\"line2d_2\">\n      <g>\n       <use style=\"stroke:#000000;stroke-width:0.8;\" x=\"370.5375\" xlink:href=\"#me70084170e\" y=\"224.64\"/>\n      </g>\n     </g>\n     <g id=\"text_2\">\n      <!-- 07 -->\n      <g transform=\"translate(364.239062 239.130625)scale(0.1 -0.1)\">\n       <defs>\n        <path d=\"M 3597 4263 \nQ 2238 2106 1778 63 \nL 1131 63 \nQ 1581 1834 2950 4128 \nL 428 4128 \nL 428 4634 \nL 3597 4634 \nL 3597 4263 \nz\n\" id=\"IPAexGothic-37\" transform=\"scale(0.015625)\"/>\n       </defs>\n       <use xlink:href=\"#IPAexGothic-30\"/>\n       <use x=\"62.988281\" xlink:href=\"#IPAexGothic-37\"/>\n      </g>\n     </g>\n    </g>\n    <g id=\"xtick_3\">\n     <g id=\"line2d_3\">\n      <defs>\n       <path d=\"M 0 0 \nL 0 2 \n\" id=\"mb1886b8bdd\" style=\"stroke:#000000;stroke-width:0.6;\"/>\n      </defs>\n      <g>\n       <use style=\"stroke:#000000;stroke-width:0.6;\" x=\"91.5375\" xlink:href=\"#mb1886b8bdd\" y=\"224.64\"/>\n      </g>\n     </g>\n     <g id=\"text_3\">\n      <!-- 02 -->\n      <g transform=\"translate(85.239062 237.530625)scale(0.1 -0.1)\">\n       <use xlink:href=\"#IPAexGothic-30\"/>\n       <use x=\"62.988281\" xlink:href=\"#IPAexGothic-32\"/>\n      </g>\n     </g>\n    </g>\n    <g id=\"xtick_4\">\n     <g id=\"line2d_4\">\n      <g>\n       <use style=\"stroke:#000000;stroke-width:0.6;\" x=\"147.3375\" xlink:href=\"#mb1886b8bdd\" y=\"224.64\"/>\n      </g>\n     </g>\n     <g id=\"text_4\">\n      <!-- 03 -->\n      <g transform=\"translate(141.039063 237.530625)scale(0.1 -0.1)\">\n       <defs>\n        <path d=\"M 2381 2419 \nQ 3506 2216 3506 1278 \nQ 3506 716 3128 356 \nQ 2709 -31 1944 -31 \nQ 797 -31 288 881 \nL 756 1131 \nQ 1109 441 1938 441 \nQ 2425 441 2694 691 \nQ 2950 928 2950 1291 \nQ 2950 1719 2566 1978 \nQ 2216 2213 1644 2213 \nL 1363 2213 \nL 1363 2669 \nL 1656 2669 \nQ 2231 2669 2534 2888 \nQ 2859 3119 2859 3509 \nQ 2859 3934 2494 4138 \nQ 2259 4278 1931 4278 \nQ 1238 4278 903 3578 \nL 434 3803 \nQ 897 4725 1938 4725 \nQ 2597 4725 3006 4394 \nQ 3416 4069 3416 3534 \nQ 3416 3028 3019 2706 \nQ 2763 2500 2381 2444 \nL 2381 2419 \nz\n\" id=\"IPAexGothic-33\" transform=\"scale(0.015625)\"/>\n       </defs>\n       <use xlink:href=\"#IPAexGothic-30\"/>\n       <use x=\"62.988281\" xlink:href=\"#IPAexGothic-33\"/>\n      </g>\n     </g>\n    </g>\n    <g id=\"xtick_5\">\n     <g id=\"line2d_5\">\n      <g>\n       <use style=\"stroke:#000000;stroke-width:0.6;\" x=\"203.1375\" xlink:href=\"#mb1886b8bdd\" y=\"224.64\"/>\n      </g>\n     </g>\n     <g id=\"text_5\">\n      <!-- 04 -->\n      <g transform=\"translate(196.839062 237.530625)scale(0.1 -0.1)\">\n       <defs>\n        <path d=\"M 3813 1159 \nL 3059 1159 \nL 3059 63 \nL 2547 63 \nL 2547 1159 \nL 197 1159 \nL 197 1672 \nL 2456 4678 \nL 3059 4678 \nL 3059 1634 \nL 3813 1634 \nL 3813 1159 \nz\nM 2578 4109 \nL 2559 4109 \nQ 2278 3656 2003 3284 \nL 759 1634 \nL 2547 1634 \nL 2547 3144 \nQ 2547 3481 2578 4109 \nz\n\" id=\"IPAexGothic-34\" transform=\"scale(0.015625)\"/>\n       </defs>\n       <use xlink:href=\"#IPAexGothic-30\"/>\n       <use x=\"62.988281\" xlink:href=\"#IPAexGothic-34\"/>\n      </g>\n     </g>\n    </g>\n    <g id=\"xtick_6\">\n     <g id=\"line2d_6\">\n      <g>\n       <use style=\"stroke:#000000;stroke-width:0.6;\" x=\"258.9375\" xlink:href=\"#mb1886b8bdd\" y=\"224.64\"/>\n      </g>\n     </g>\n     <g id=\"text_6\">\n      <!-- 05 -->\n      <g transform=\"translate(252.639062 237.530625)scale(0.1 -0.1)\">\n       <defs>\n        <path d=\"M 1178 2603 \nQ 1634 2963 2172 2963 \nQ 2816 2963 3241 2528 \nQ 3638 2113 3638 1497 \nQ 3638 938 3297 513 \nQ 2869 -31 2031 -31 \nQ 959 -31 469 784 \nL 938 1028 \nQ 1309 434 2013 434 \nQ 2466 434 2769 716 \nQ 3081 1013 3081 1503 \nQ 3081 1966 2806 2241 \nQ 2519 2528 2056 2528 \nQ 1406 2528 1072 2028 \nL 591 2091 \nL 884 4634 \nL 3406 4634 \nL 3406 4153 \nL 1341 4153 \nL 1134 2603 \nL 1178 2603 \nz\n\" id=\"IPAexGothic-35\" transform=\"scale(0.015625)\"/>\n       </defs>\n       <use xlink:href=\"#IPAexGothic-30\"/>\n       <use x=\"62.988281\" xlink:href=\"#IPAexGothic-35\"/>\n      </g>\n     </g>\n    </g>\n    <g id=\"xtick_7\">\n     <g id=\"line2d_7\">\n      <g>\n       <use style=\"stroke:#000000;stroke-width:0.6;\" x=\"314.7375\" xlink:href=\"#mb1886b8bdd\" y=\"224.64\"/>\n      </g>\n     </g>\n     <g id=\"text_7\">\n      <!-- 06 -->\n      <g transform=\"translate(308.439062 237.530625)scale(0.1 -0.1)\">\n       <defs>\n        <path d=\"M 1056 2328 \nQ 1509 2981 2234 2981 \nQ 2906 2981 3316 2513 \nQ 3675 2106 3675 1522 \nQ 3675 884 3272 434 \nQ 2853 -31 2178 -31 \nQ 1375 -31 922 581 \nQ 481 1178 481 2228 \nQ 481 3425 1013 4109 \nQ 1494 4725 2272 4725 \nQ 3191 4725 3609 4025 \nL 3150 3775 \nQ 2894 4266 2300 4266 \nQ 1119 4266 1031 2328 \nL 1056 2328 \nz\nM 2141 2547 \nQ 1684 2547 1384 2206 \nQ 1116 1900 1116 1541 \nQ 1116 1156 1353 844 \nQ 1672 428 2159 428 \nQ 2669 428 2941 844 \nQ 3125 1128 3125 1503 \nQ 3125 1944 2881 2228 \nQ 2600 2547 2141 2547 \nz\n\" id=\"IPAexGothic-36\" transform=\"scale(0.015625)\"/>\n       </defs>\n       <use xlink:href=\"#IPAexGothic-30\"/>\n       <use x=\"62.988281\" xlink:href=\"#IPAexGothic-36\"/>\n      </g>\n     </g>\n    </g>\n   </g>\n   <g id=\"matplotlib.axis_2\">\n    <g id=\"ytick_1\">\n     <g id=\"line2d_8\">\n      <defs>\n       <path d=\"M 0 0 \nL -3.5 0 \n\" id=\"mbf12ba4c4f\" style=\"stroke:#000000;stroke-width:0.8;\"/>\n      </defs>\n      <g>\n       <use style=\"stroke:#000000;stroke-width:0.8;\" x=\"35.7375\" xlink:href=\"#mbf12ba4c4f\" y=\"204.071351\"/>\n      </g>\n     </g>\n     <g id=\"text_8\">\n      <!-- 8.5 -->\n      <g transform=\"translate(13.498438 207.816664)scale(0.1 -0.1)\">\n       <defs>\n        <path d=\"M 2541 2425 \nQ 3700 2031 3700 1197 \nQ 3700 541 3100 197 \nQ 2663 -56 2016 -56 \nQ 1366 -56 928 197 \nQ 347 531 347 1178 \nQ 347 1988 1409 2381 \nL 1409 2400 \nQ 481 2734 481 3509 \nQ 481 4100 981 4456 \nQ 1406 4756 2019 4756 \nQ 2703 4756 3131 4403 \nQ 3553 4069 3553 3566 \nQ 3553 2706 2541 2444 \nL 2541 2425 \nz\nM 2022 2625 \nQ 2997 2856 2997 3528 \nQ 2997 3916 2675 4150 \nQ 2413 4347 2016 4347 \nQ 1606 4347 1331 4128 \nQ 1050 3897 1050 3522 \nQ 1050 3150 1350 2925 \nQ 1494 2809 1722 2722 \nQ 1984 2616 2022 2625 \nz\nM 1978 2209 \nQ 922 1931 922 1216 \nQ 922 775 1313 556 \nQ 1606 391 2009 391 \nQ 2575 391 2881 697 \nQ 3106 922 3106 1250 \nQ 3106 1594 2794 1850 \nQ 2609 1994 2350 2100 \nQ 2047 2222 1978 2209 \nz\n\" id=\"IPAexGothic-38\" transform=\"scale(0.015625)\"/>\n        <path d=\"M 1184 63 \nL 494 63 \nL 494 753 \nL 1184 753 \nL 1184 63 \nz\n\" id=\"IPAexGothic-2e\" transform=\"scale(0.015625)\"/>\n       </defs>\n       <use xlink:href=\"#IPAexGothic-38\"/>\n       <use x=\"62.988281\" xlink:href=\"#IPAexGothic-2e\"/>\n       <use x=\"89.404297\" xlink:href=\"#IPAexGothic-35\"/>\n      </g>\n     </g>\n    </g>\n    <g id=\"ytick_2\">\n     <g id=\"line2d_9\">\n      <g>\n       <use style=\"stroke:#000000;stroke-width:0.8;\" x=\"35.7375\" xlink:href=\"#mbf12ba4c4f\" y=\"177.358821\"/>\n      </g>\n     </g>\n     <g id=\"text_9\">\n      <!-- 9.0 -->\n      <g transform=\"translate(13.498438 181.104133)scale(0.1 -0.1)\">\n       <defs>\n        <path d=\"M 2984 2356 \nQ 2544 1716 1813 1716 \nQ 1253 1716 847 2056 \nQ 366 2459 366 3163 \nQ 366 3813 769 4266 \nQ 1181 4725 1869 4725 \nQ 2800 4725 3241 3950 \nQ 3559 3378 3559 2472 \nQ 3559 1250 3041 588 \nQ 2553 -31 1769 -31 \nQ 859 -31 391 703 \nL 853 953 \nQ 1156 428 1753 428 \nQ 2922 428 3009 2356 \nL 2984 2356 \nz\nM 1888 4278 \nQ 1450 4278 1172 3950 \nQ 922 3653 922 3200 \nQ 922 2741 1159 2478 \nQ 1434 2163 1906 2163 \nQ 2431 2163 2728 2572 \nQ 2925 2847 2925 3169 \nQ 2925 3553 2694 3863 \nQ 2375 4278 1888 4278 \nz\n\" id=\"IPAexGothic-39\" transform=\"scale(0.015625)\"/>\n       </defs>\n       <use xlink:href=\"#IPAexGothic-39\"/>\n       <use x=\"62.988281\" xlink:href=\"#IPAexGothic-2e\"/>\n       <use x=\"89.404297\" xlink:href=\"#IPAexGothic-30\"/>\n      </g>\n     </g>\n    </g>\n    <g id=\"ytick_3\">\n     <g id=\"line2d_10\">\n      <g>\n       <use style=\"stroke:#000000;stroke-width:0.8;\" x=\"35.7375\" xlink:href=\"#mbf12ba4c4f\" y=\"150.64629\"/>\n      </g>\n     </g>\n     <g id=\"text_10\">\n      <!-- 9.5 -->\n      <g transform=\"translate(13.498438 154.391602)scale(0.1 -0.1)\">\n       <use xlink:href=\"#IPAexGothic-39\"/>\n       <use x=\"62.988281\" xlink:href=\"#IPAexGothic-2e\"/>\n       <use x=\"89.404297\" xlink:href=\"#IPAexGothic-35\"/>\n      </g>\n     </g>\n    </g>\n    <g id=\"ytick_4\">\n     <g id=\"line2d_11\">\n      <g>\n       <use style=\"stroke:#000000;stroke-width:0.8;\" x=\"35.7375\" xlink:href=\"#mbf12ba4c4f\" y=\"123.933759\"/>\n      </g>\n     </g>\n     <g id=\"text_11\">\n      <!-- 10.0 -->\n      <g transform=\"translate(7.2 127.679072)scale(0.1 -0.1)\">\n       <use xlink:href=\"#IPAexGothic-31\"/>\n       <use x=\"62.988281\" xlink:href=\"#IPAexGothic-30\"/>\n       <use x=\"125.976562\" xlink:href=\"#IPAexGothic-2e\"/>\n       <use x=\"152.392578\" xlink:href=\"#IPAexGothic-30\"/>\n      </g>\n     </g>\n    </g>\n    <g id=\"ytick_5\">\n     <g id=\"line2d_12\">\n      <g>\n       <use style=\"stroke:#000000;stroke-width:0.8;\" x=\"35.7375\" xlink:href=\"#mbf12ba4c4f\" y=\"97.221229\"/>\n      </g>\n     </g>\n     <g id=\"text_12\">\n      <!-- 10.5 -->\n      <g transform=\"translate(7.2 100.966541)scale(0.1 -0.1)\">\n       <use xlink:href=\"#IPAexGothic-31\"/>\n       <use x=\"62.988281\" xlink:href=\"#IPAexGothic-30\"/>\n       <use x=\"125.976562\" xlink:href=\"#IPAexGothic-2e\"/>\n       <use x=\"152.392578\" xlink:href=\"#IPAexGothic-35\"/>\n      </g>\n     </g>\n    </g>\n    <g id=\"ytick_6\">\n     <g id=\"line2d_13\">\n      <g>\n       <use style=\"stroke:#000000;stroke-width:0.8;\" x=\"35.7375\" xlink:href=\"#mbf12ba4c4f\" y=\"70.508698\"/>\n      </g>\n     </g>\n     <g id=\"text_13\">\n      <!-- 11.0 -->\n      <g transform=\"translate(7.2 74.25401)scale(0.1 -0.1)\">\n       <use xlink:href=\"#IPAexGothic-31\"/>\n       <use x=\"62.988281\" xlink:href=\"#IPAexGothic-31\"/>\n       <use x=\"125.976562\" xlink:href=\"#IPAexGothic-2e\"/>\n       <use x=\"152.392578\" xlink:href=\"#IPAexGothic-30\"/>\n      </g>\n     </g>\n    </g>\n    <g id=\"ytick_7\">\n     <g id=\"line2d_14\">\n      <g>\n       <use style=\"stroke:#000000;stroke-width:0.8;\" x=\"35.7375\" xlink:href=\"#mbf12ba4c4f\" y=\"43.796167\"/>\n      </g>\n     </g>\n     <g id=\"text_14\">\n      <!-- 11.5 -->\n      <g transform=\"translate(7.2 47.54148)scale(0.1 -0.1)\">\n       <use xlink:href=\"#IPAexGothic-31\"/>\n       <use x=\"62.988281\" xlink:href=\"#IPAexGothic-31\"/>\n       <use x=\"125.976562\" xlink:href=\"#IPAexGothic-2e\"/>\n       <use x=\"152.392578\" xlink:href=\"#IPAexGothic-35\"/>\n      </g>\n     </g>\n    </g>\n    <g id=\"ytick_8\">\n     <g id=\"line2d_15\">\n      <g>\n       <use style=\"stroke:#000000;stroke-width:0.8;\" x=\"35.7375\" xlink:href=\"#mbf12ba4c4f\" y=\"17.083636\"/>\n      </g>\n     </g>\n     <g id=\"text_15\">\n      <!-- 12.0 -->\n      <g transform=\"translate(7.2 20.828949)scale(0.1 -0.1)\">\n       <use xlink:href=\"#IPAexGothic-31\"/>\n       <use x=\"62.988281\" xlink:href=\"#IPAexGothic-32\"/>\n       <use x=\"125.976562\" xlink:href=\"#IPAexGothic-2e\"/>\n       <use x=\"152.392578\" xlink:href=\"#IPAexGothic-30\"/>\n      </g>\n     </g>\n    </g>\n   </g>\n   <g id=\"line2d_16\">\n    <path clip-path=\"url(#p01ccc64c13)\" d=\"M 35.7375 123.933759 \nL 91.5375 70.508698 \nL 147.3375 177.358821 \nL 203.1375 161.331302 \nL 258.9375 113.248747 \nL 314.7375 17.083636 \nL 370.5375 214.756364 \n\" style=\"fill:none;stroke:#1f77b4;stroke-linecap:square;stroke-width:1.5;\"/>\n   </g>\n   <g id=\"patch_3\">\n    <path d=\"M 35.7375 224.64 \nL 35.7375 7.2 \n\" style=\"fill:none;stroke:#000000;stroke-linecap:square;stroke-linejoin:miter;stroke-width:0.8;\"/>\n   </g>\n   <g id=\"patch_4\">\n    <path d=\"M 370.5375 224.64 \nL 370.5375 7.2 \n\" style=\"fill:none;stroke:#000000;stroke-linecap:square;stroke-linejoin:miter;stroke-width:0.8;\"/>\n   </g>\n   <g id=\"patch_5\">\n    <path d=\"M 35.7375 224.64 \nL 370.5375 224.64 \n\" style=\"fill:none;stroke:#000000;stroke-linecap:square;stroke-linejoin:miter;stroke-width:0.8;\"/>\n   </g>\n   <g id=\"patch_6\">\n    <path d=\"M 35.7375 7.2 \nL 370.5375 7.2 \n\" style=\"fill:none;stroke:#000000;stroke-linecap:square;stroke-linejoin:miter;stroke-width:0.8;\"/>\n   </g>\n   <g id=\"legend_1\">\n    <g id=\"patch_7\">\n     <path d=\"M 321.5375 29.590625 \nL 363.5375 29.590625 \nQ 365.5375 29.590625 365.5375 27.590625 \nL 365.5375 14.2 \nQ 365.5375 12.2 363.5375 12.2 \nL 321.5375 12.2 \nQ 319.5375 12.2 319.5375 14.2 \nL 319.5375 27.590625 \nQ 319.5375 29.590625 321.5375 29.590625 \nz\n\" style=\"fill:#ffffff;opacity:0.8;stroke:#cccccc;stroke-linejoin:miter;\"/>\n    </g>\n    <g id=\"line2d_17\">\n     <path d=\"M 323.5375 20.190625 \nL 343.5375 20.190625 \n\" style=\"fill:none;stroke:#1f77b4;stroke-linecap:square;stroke-width:1.5;\"/>\n    </g>\n    <g id=\"line2d_18\"/>\n    <g id=\"text_16\">\n     <!-- 値 -->\n     <g transform=\"translate(351.5375 23.690625)scale(0.1 -0.1)\">\n      <defs>\n       <path d=\"M 4172 3675 \nL 5453 3675 \nL 5453 684 \nL 3019 684 \nL 3019 3675 \nL 3750 3675 \nQ 3788 3884 3825 4153 \nL 2141 4153 \nL 2141 4544 \nL 3884 4544 \nQ 3922 4844 3966 5325 \nL 4434 5272 \nL 4388 4953 \nQ 4331 4578 4331 4544 \nL 5863 4544 \nL 5863 4153 \nL 4269 4153 \nQ 4200 3781 4172 3675 \nz\nM 5038 3316 \nL 3434 3316 \nL 3434 2803 \nL 5038 2803 \nL 5038 3316 \nz\nM 3434 2450 \nL 3434 1941 \nL 5038 1941 \nL 5038 2450 \nL 3434 2450 \nz\nM 3434 1588 \nL 3434 1044 \nL 5038 1044 \nL 5038 1588 \nL 3434 1588 \nz\nM 1509 3669 \nL 1509 -447 \nL 1069 -447 \nL 1069 2725 \nQ 856 2338 531 1875 \nL 288 2266 \nQ 1163 3531 1541 5325 \nL 1975 5222 \nQ 1791 4378 1509 3669 \nz\nM 2488 244 \nL 6031 244 \nL 6031 -153 \nL 2488 -153 \nL 2488 -447 \nL 2059 -447 \nL 2059 3213 \nL 2488 3213 \nL 2488 244 \nz\n\" id=\"IPAexGothic-5024\" transform=\"scale(0.015625)\"/>\n      </defs>\n      <use xlink:href=\"#IPAexGothic-5024\"/>\n     </g>\n    </g>\n   </g>\n  </g>\n </g>\n <defs>\n  <clipPath id=\"p01ccc64c13\">\n   <rect height=\"217.44\" width=\"334.8\" x=\"35.7375\" y=\"7.2\"/>\n  </clipPath>\n </defs>\n</svg>\n",
      "image/png": "[encoded data removed]"
     },
     "metadata": {
      "needs_background": "light"
     }
    },
    {
     "output_type": "display_data",
     "data": {
      "text/plain": "<Figure size 432x288 with 1 Axes>",
      "image/svg+xml": "<?xml version=\"1.0\" encoding=\"utf-8\" standalone=\"no\"?>\n<!DOCTYPE svg PUBLIC \"-//W3C//DTD SVG 1.1//EN\"\n  \"http://www.w3.org/Graphics/SVG/1.1/DTD/svg11.dtd\">\n<svg height=\"270.008125pt\" version=\"1.1\" viewBox=\"0 0 384.035937 270.008125\" width=\"384.035937pt\" xmlns=\"http://www.w3.org/2000/svg\" xmlns:xlink=\"http://www.w3.org/1999/xlink\">\n <metadata>\n  <rdf:RDF xmlns:cc=\"http://creativecommons.org/ns#\" xmlns:dc=\"http://purl.org/dc/elements/1.1/\" xmlns:rdf=\"http://www.w3.org/1999/02/22-rdf-syntax-ns#\">\n   <cc:Work>\n    <dc:type rdf:resource=\"http://purl.org/dc/dcmitype/StillImage\"/>\n    <dc:date>2021-06-11T22:19:09.013084</dc:date>\n    <dc:format>image/svg+xml</dc:format>\n    <dc:creator>\n     <cc:Agent>\n      <dc:title>Matplotlib v3.4.2, https://matplotlib.org/</dc:title>\n     </cc:Agent>\n    </dc:creator>\n   </cc:Work>\n  </rdf:RDF>\n </metadata>\n <defs>\n  <style type=\"text/css\">*{stroke-linecap:butt;stroke-linejoin:round;}</style>\n </defs>\n <g id=\"figure_1\">\n  <g id=\"patch_1\">\n   <path d=\"M 0 270.008125 \nL 384.035937 270.008125 \nL 384.035937 0 \nL 0 0 \nz\n\" style=\"fill:none;\"/>\n  </g>\n  <g id=\"axes_1\">\n   <g id=\"patch_2\">\n    <path d=\"M 35.7375 224.64 \nL 370.5375 224.64 \nL 370.5375 7.2 \nL 35.7375 7.2 \nz\n\" style=\"fill:#ffffff;\"/>\n   </g>\n   <g id=\"matplotlib.axis_1\">\n    <g id=\"xtick_1\">\n     <g id=\"line2d_1\">\n      <defs>\n       <path d=\"M 0 0 \nL 0 3.5 \n\" id=\"mf21f29b2b9\" style=\"stroke:#000000;stroke-width:0.8;\"/>\n      </defs>\n      <g>\n       <use style=\"stroke:#000000;stroke-width:0.8;\" x=\"35.7375\" xlink:href=\"#mf21f29b2b9\" y=\"224.64\"/>\n      </g>\n     </g>\n     <g id=\"text_1\">\n      <!-- 01 -->\n      <g transform=\"translate(29.439062 239.130625)scale(0.1 -0.1)\">\n       <defs>\n        <path d=\"M 2038 4725 \nQ 2881 4725 3334 3944 \nQ 3694 3325 3694 2344 \nQ 3694 1372 3334 741 \nQ 2888 -31 2016 -31 \nQ 1147 -31 700 741 \nQ 341 1372 341 2350 \nQ 341 3713 1000 4334 \nQ 1419 4725 2038 4725 \nz\nM 2016 4266 \nQ 1516 4266 1228 3759 \nQ 934 3247 934 2344 \nQ 934 1456 1222 947 \nQ 1513 447 2016 447 \nQ 2619 447 2909 1153 \nQ 3100 1622 3100 2375 \nQ 3100 3256 2806 3759 \nQ 2509 4266 2016 4266 \nz\n\" id=\"IPAexGothic-30\" transform=\"scale(0.015625)\"/>\n        <path d=\"M 2463 63 \nL 1900 63 \nL 1900 4103 \nQ 1372 3922 788 3797 \nL 684 4231 \nQ 1519 4441 2106 4731 \nL 2463 4731 \nL 2463 63 \nz\n\" id=\"IPAexGothic-31\" transform=\"scale(0.015625)\"/>\n       </defs>\n       <use xlink:href=\"#IPAexGothic-30\"/>\n       <use x=\"62.988281\" xlink:href=\"#IPAexGothic-31\"/>\n      </g>\n      <!-- Jan -->\n      <g transform=\"translate(28.06875 250.019375)scale(0.1 -0.1)\">\n       <defs>\n        <path d=\"M 1819 4634 \nL 1819 1234 \nQ 1819 -31 763 -31 \nQ 303 -31 -125 209 \nL 84 644 \nQ 378 447 694 447 \nQ 1250 447 1250 1203 \nL 1250 4634 \nL 1819 4634 \nz\n\" id=\"IPAexGothic-4a\" transform=\"scale(0.015625)\"/>\n        <path d=\"M 3156 63 \nL 2672 63 \nQ 2559 303 2531 556 \nL 2509 556 \nQ 2147 -25 1428 -25 \nQ 934 -25 622 288 \nQ 347 563 347 959 \nQ 347 1947 2050 1997 \nL 2478 2009 \nL 2478 2175 \nQ 2478 2509 2288 2700 \nQ 2088 2900 1775 2900 \nQ 1238 2900 969 2378 \nL 494 2597 \nQ 938 3328 1788 3328 \nQ 2375 3328 2691 3000 \nQ 2984 2706 2984 2169 \nL 2984 997 \nQ 2984 400 3156 63 \nz\nM 2491 1625 \nL 2141 1619 \nQ 903 1591 903 953 \nQ 903 728 1050 581 \nQ 1231 403 1525 403 \nQ 1934 403 2234 703 \nQ 2491 969 2491 1344 \nL 2491 1625 \nz\n\" id=\"IPAexGothic-61\" transform=\"scale(0.015625)\"/>\n        <path d=\"M 3328 63 \nL 2778 63 \nL 2778 2041 \nQ 2778 2853 2106 2853 \nQ 1428 2853 1113 2041 \nL 1113 63 \nL 563 63 \nL 563 3250 \nL 1075 3250 \nL 1075 2675 \nQ 1525 3316 2222 3316 \nQ 3328 3316 3328 2072 \nL 3328 63 \nz\n\" id=\"IPAexGothic-6e\" transform=\"scale(0.015625)\"/>\n       </defs>\n       <use xlink:href=\"#IPAexGothic-4a\"/>\n       <use x=\"37.988281\" xlink:href=\"#IPAexGothic-61\"/>\n       <use x=\"92.96875\" xlink:href=\"#IPAexGothic-6e\"/>\n      </g>\n      <!-- 2021 -->\n      <g transform=\"translate(23.140625 260.908125)scale(0.1 -0.1)\">\n       <defs>\n        <path d=\"M 3659 63 \nL 447 63 \nL 447 594 \nQ 825 1475 1894 2203 \nL 2072 2322 \nQ 2619 2697 2791 2906 \nQ 2988 3153 2988 3444 \nQ 2988 3772 2756 4003 \nQ 2500 4259 2084 4259 \nQ 1250 4259 991 3328 \nL 497 3506 \nQ 853 4725 2116 4725 \nQ 2806 4725 3216 4316 \nQ 3575 3947 3575 3425 \nQ 3575 3038 3344 2722 \nQ 3131 2416 2366 1938 \nL 2231 1856 \nQ 1256 1253 978 569 \nL 3659 569 \nL 3659 63 \nz\n\" id=\"IPAexGothic-32\" transform=\"scale(0.015625)\"/>\n       </defs>\n       <use xlink:href=\"#IPAexGothic-32\"/>\n       <use x=\"62.988281\" xlink:href=\"#IPAexGothic-30\"/>\n       <use x=\"125.976562\" xlink:href=\"#IPAexGothic-32\"/>\n       <use x=\"188.964844\" xlink:href=\"#IPAexGothic-31\"/>\n      </g>\n     </g>\n    </g>\n    <g id=\"xtick_2\">\n     <g id=\"line2d_2\">\n      <g>\n       <use style=\"stroke:#000000;stroke-width:0.8;\" x=\"370.5375\" xlink:href=\"#mf21f29b2b9\" y=\"224.64\"/>\n      </g>\n     </g>\n     <g id=\"text_2\">\n      <!-- 07 -->\n      <g transform=\"translate(364.239062 239.130625)scale(0.1 -0.1)\">\n       <defs>\n        <path d=\"M 3597 4263 \nQ 2238 2106 1778 63 \nL 1131 63 \nQ 1581 1834 2950 4128 \nL 428 4128 \nL 428 4634 \nL 3597 4634 \nL 3597 4263 \nz\n\" id=\"IPAexGothic-37\" transform=\"scale(0.015625)\"/>\n       </defs>\n       <use xlink:href=\"#IPAexGothic-30\"/>\n       <use x=\"62.988281\" xlink:href=\"#IPAexGothic-37\"/>\n      </g>\n     </g>\n    </g>\n    <g id=\"xtick_3\">\n     <g id=\"line2d_3\">\n      <defs>\n       <path d=\"M 0 0 \nL 0 2 \n\" id=\"me0000abf49\" style=\"stroke:#000000;stroke-width:0.6;\"/>\n      </defs>\n      <g>\n       <use style=\"stroke:#000000;stroke-width:0.6;\" x=\"91.5375\" xlink:href=\"#me0000abf49\" y=\"224.64\"/>\n      </g>\n     </g>\n     <g id=\"text_3\">\n      <!-- 02 -->\n      <g transform=\"translate(85.239062 237.530625)scale(0.1 -0.1)\">\n       <use xlink:href=\"#IPAexGothic-30\"/>\n       <use x=\"62.988281\" xlink:href=\"#IPAexGothic-32\"/>\n      </g>\n     </g>\n    </g>\n    <g id=\"xtick_4\">\n     <g id=\"line2d_4\">\n      <g>\n       <use style=\"stroke:#000000;stroke-width:0.6;\" x=\"147.3375\" xlink:href=\"#me0000abf49\" y=\"224.64\"/>\n      </g>\n     </g>\n     <g id=\"text_4\">\n      <!-- 03 -->\n      <g transform=\"translate(141.039063 237.530625)scale(0.1 -0.1)\">\n       <defs>\n        <path d=\"M 2381 2419 \nQ 3506 2216 3506 1278 \nQ 3506 716 3128 356 \nQ 2709 -31 1944 -31 \nQ 797 -31 288 881 \nL 756 1131 \nQ 1109 441 1938 441 \nQ 2425 441 2694 691 \nQ 2950 928 2950 1291 \nQ 2950 1719 2566 1978 \nQ 2216 2213 1644 2213 \nL 1363 2213 \nL 1363 2669 \nL 1656 2669 \nQ 2231 2669 2534 2888 \nQ 2859 3119 2859 3509 \nQ 2859 3934 2494 4138 \nQ 2259 4278 1931 4278 \nQ 1238 4278 903 3578 \nL 434 3803 \nQ 897 4725 1938 4725 \nQ 2597 4725 3006 4394 \nQ 3416 4069 3416 3534 \nQ 3416 3028 3019 2706 \nQ 2763 2500 2381 2444 \nL 2381 2419 \nz\n\" id=\"IPAexGothic-33\" transform=\"scale(0.015625)\"/>\n       </defs>\n       <use xlink:href=\"#IPAexGothic-30\"/>\n       <use x=\"62.988281\" xlink:href=\"#IPAexGothic-33\"/>\n      </g>\n     </g>\n    </g>\n    <g id=\"xtick_5\">\n     <g id=\"line2d_5\">\n      <g>\n       <use style=\"stroke:#000000;stroke-width:0.6;\" x=\"203.1375\" xlink:href=\"#me0000abf49\" y=\"224.64\"/>\n      </g>\n     </g>\n     <g id=\"text_5\">\n      <!-- 04 -->\n      <g transform=\"translate(196.839062 237.530625)scale(0.1 -0.1)\">\n       <defs>\n        <path d=\"M 3813 1159 \nL 3059 1159 \nL 3059 63 \nL 2547 63 \nL 2547 1159 \nL 197 1159 \nL 197 1672 \nL 2456 4678 \nL 3059 4678 \nL 3059 1634 \nL 3813 1634 \nL 3813 1159 \nz\nM 2578 4109 \nL 2559 4109 \nQ 2278 3656 2003 3284 \nL 759 1634 \nL 2547 1634 \nL 2547 3144 \nQ 2547 3481 2578 4109 \nz\n\" id=\"IPAexGothic-34\" transform=\"scale(0.015625)\"/>\n       </defs>\n       <use xlink:href=\"#IPAexGothic-30\"/>\n       <use x=\"62.988281\" xlink:href=\"#IPAexGothic-34\"/>\n      </g>\n     </g>\n    </g>\n    <g id=\"xtick_6\">\n     <g id=\"line2d_6\">\n      <g>\n       <use style=\"stroke:#000000;stroke-width:0.6;\" x=\"258.9375\" xlink:href=\"#me0000abf49\" y=\"224.64\"/>\n      </g>\n     </g>\n     <g id=\"text_6\">\n      <!-- 05 -->\n      <g transform=\"translate(252.639062 237.530625)scale(0.1 -0.1)\">\n       <defs>\n        <path d=\"M 1178 2603 \nQ 1634 2963 2172 2963 \nQ 2816 2963 3241 2528 \nQ 3638 2113 3638 1497 \nQ 3638 938 3297 513 \nQ 2869 -31 2031 -31 \nQ 959 -31 469 784 \nL 938 1028 \nQ 1309 434 2013 434 \nQ 2466 434 2769 716 \nQ 3081 1013 3081 1503 \nQ 3081 1966 2806 2241 \nQ 2519 2528 2056 2528 \nQ 1406 2528 1072 2028 \nL 591 2091 \nL 884 4634 \nL 3406 4634 \nL 3406 4153 \nL 1341 4153 \nL 1134 2603 \nL 1178 2603 \nz\n\" id=\"IPAexGothic-35\" transform=\"scale(0.015625)\"/>\n       </defs>\n       <use xlink:href=\"#IPAexGothic-30\"/>\n       <use x=\"62.988281\" xlink:href=\"#IPAexGothic-35\"/>\n      </g>\n     </g>\n    </g>\n    <g id=\"xtick_7\">\n     <g id=\"line2d_7\">\n      <g>\n       <use style=\"stroke:#000000;stroke-width:0.6;\" x=\"314.7375\" xlink:href=\"#me0000abf49\" y=\"224.64\"/>\n      </g>\n     </g>\n     <g id=\"text_7\">\n      <!-- 06 -->\n      <g transform=\"translate(308.439062 237.530625)scale(0.1 -0.1)\">\n       <defs>\n        <path d=\"M 1056 2328 \nQ 1509 2981 2234 2981 \nQ 2906 2981 3316 2513 \nQ 3675 2106 3675 1522 \nQ 3675 884 3272 434 \nQ 2853 -31 2178 -31 \nQ 1375 -31 922 581 \nQ 481 1178 481 2228 \nQ 481 3425 1013 4109 \nQ 1494 4725 2272 4725 \nQ 3191 4725 3609 4025 \nL 3150 3775 \nQ 2894 4266 2300 4266 \nQ 1119 4266 1031 2328 \nL 1056 2328 \nz\nM 2141 2547 \nQ 1684 2547 1384 2206 \nQ 1116 1900 1116 1541 \nQ 1116 1156 1353 844 \nQ 1672 428 2159 428 \nQ 2669 428 2941 844 \nQ 3125 1128 3125 1503 \nQ 3125 1944 2881 2228 \nQ 2600 2547 2141 2547 \nz\n\" id=\"IPAexGothic-36\" transform=\"scale(0.015625)\"/>\n       </defs>\n       <use xlink:href=\"#IPAexGothic-30\"/>\n       <use x=\"62.988281\" xlink:href=\"#IPAexGothic-36\"/>\n      </g>\n     </g>\n    </g>\n   </g>\n   <g id=\"matplotlib.axis_2\">\n    <g id=\"ytick_1\">\n     <g id=\"line2d_8\">\n      <defs>\n       <path d=\"M 0 0 \nL -3.5 0 \n\" id=\"m0420bcdb4a\" style=\"stroke:#000000;stroke-width:0.8;\"/>\n      </defs>\n      <g>\n       <use style=\"stroke:#000000;stroke-width:0.8;\" x=\"35.7375\" xlink:href=\"#m0420bcdb4a\" y=\"214.756364\"/>\n      </g>\n     </g>\n     <g id=\"text_8\">\n      <!-- 11.0 -->\n      <g transform=\"translate(7.2 218.501676)scale(0.1 -0.1)\">\n       <defs>\n        <path d=\"M 1184 63 \nL 494 63 \nL 494 753 \nL 1184 753 \nL 1184 63 \nz\n\" id=\"IPAexGothic-2e\" transform=\"scale(0.015625)\"/>\n       </defs>\n       <use xlink:href=\"#IPAexGothic-31\"/>\n       <use x=\"62.988281\" xlink:href=\"#IPAexGothic-31\"/>\n       <use x=\"125.976562\" xlink:href=\"#IPAexGothic-2e\"/>\n       <use x=\"152.392578\" xlink:href=\"#IPAexGothic-30\"/>\n      </g>\n     </g>\n    </g>\n    <g id=\"ytick_2\">\n     <g id=\"line2d_9\">\n      <g>\n       <use style=\"stroke:#000000;stroke-width:0.8;\" x=\"35.7375\" xlink:href=\"#m0420bcdb4a\" y=\"190.047273\"/>\n      </g>\n     </g>\n     <g id=\"text_9\">\n      <!-- 11.5 -->\n      <g transform=\"translate(7.2 193.792585)scale(0.1 -0.1)\">\n       <use xlink:href=\"#IPAexGothic-31\"/>\n       <use x=\"62.988281\" xlink:href=\"#IPAexGothic-31\"/>\n       <use x=\"125.976562\" xlink:href=\"#IPAexGothic-2e\"/>\n       <use x=\"152.392578\" xlink:href=\"#IPAexGothic-35\"/>\n      </g>\n     </g>\n    </g>\n    <g id=\"ytick_3\">\n     <g id=\"line2d_10\">\n      <g>\n       <use style=\"stroke:#000000;stroke-width:0.8;\" x=\"35.7375\" xlink:href=\"#m0420bcdb4a\" y=\"165.338182\"/>\n      </g>\n     </g>\n     <g id=\"text_10\">\n      <!-- 12.0 -->\n      <g transform=\"translate(7.2 169.083494)scale(0.1 -0.1)\">\n       <use xlink:href=\"#IPAexGothic-31\"/>\n       <use x=\"62.988281\" xlink:href=\"#IPAexGothic-32\"/>\n       <use x=\"125.976562\" xlink:href=\"#IPAexGothic-2e\"/>\n       <use x=\"152.392578\" xlink:href=\"#IPAexGothic-30\"/>\n      </g>\n     </g>\n    </g>\n    <g id=\"ytick_4\">\n     <g id=\"line2d_11\">\n      <g>\n       <use style=\"stroke:#000000;stroke-width:0.8;\" x=\"35.7375\" xlink:href=\"#m0420bcdb4a\" y=\"140.629091\"/>\n      </g>\n     </g>\n     <g id=\"text_11\">\n      <!-- 12.5 -->\n      <g transform=\"translate(7.2 144.374403)scale(0.1 -0.1)\">\n       <use xlink:href=\"#IPAexGothic-31\"/>\n       <use x=\"62.988281\" xlink:href=\"#IPAexGothic-32\"/>\n       <use x=\"125.976562\" xlink:href=\"#IPAexGothic-2e\"/>\n       <use x=\"152.392578\" xlink:href=\"#IPAexGothic-35\"/>\n      </g>\n     </g>\n    </g>\n    <g id=\"ytick_5\">\n     <g id=\"line2d_12\">\n      <g>\n       <use style=\"stroke:#000000;stroke-width:0.8;\" x=\"35.7375\" xlink:href=\"#m0420bcdb4a\" y=\"115.92\"/>\n      </g>\n     </g>\n     <g id=\"text_12\">\n      <!-- 13.0 -->\n      <g transform=\"translate(7.2 119.665313)scale(0.1 -0.1)\">\n       <use xlink:href=\"#IPAexGothic-31\"/>\n       <use x=\"62.988281\" xlink:href=\"#IPAexGothic-33\"/>\n       <use x=\"125.976562\" xlink:href=\"#IPAexGothic-2e\"/>\n       <use x=\"152.392578\" xlink:href=\"#IPAexGothic-30\"/>\n      </g>\n     </g>\n    </g>\n    <g id=\"ytick_6\">\n     <g id=\"line2d_13\">\n      <g>\n       <use style=\"stroke:#000000;stroke-width:0.8;\" x=\"35.7375\" xlink:href=\"#m0420bcdb4a\" y=\"91.210909\"/>\n      </g>\n     </g>\n     <g id=\"text_13\">\n      <!-- 13.5 -->\n      <g transform=\"translate(7.2 94.956222)scale(0.1 -0.1)\">\n       <use xlink:href=\"#IPAexGothic-31\"/>\n       <use x=\"62.988281\" xlink:href=\"#IPAexGothic-33\"/>\n       <use x=\"125.976562\" xlink:href=\"#IPAexGothic-2e\"/>\n       <use x=\"152.392578\" xlink:href=\"#IPAexGothic-35\"/>\n      </g>\n     </g>\n    </g>\n    <g id=\"ytick_7\">\n     <g id=\"line2d_14\">\n      <g>\n       <use style=\"stroke:#000000;stroke-width:0.8;\" x=\"35.7375\" xlink:href=\"#m0420bcdb4a\" y=\"66.501818\"/>\n      </g>\n     </g>\n     <g id=\"text_14\">\n      <!-- 14.0 -->\n      <g transform=\"translate(7.2 70.247131)scale(0.1 -0.1)\">\n       <use xlink:href=\"#IPAexGothic-31\"/>\n       <use x=\"62.988281\" xlink:href=\"#IPAexGothic-34\"/>\n       <use x=\"125.976562\" xlink:href=\"#IPAexGothic-2e\"/>\n       <use x=\"152.392578\" xlink:href=\"#IPAexGothic-30\"/>\n      </g>\n     </g>\n    </g>\n    <g id=\"ytick_8\">\n     <g id=\"line2d_15\">\n      <g>\n       <use style=\"stroke:#000000;stroke-width:0.8;\" x=\"35.7375\" xlink:href=\"#m0420bcdb4a\" y=\"41.792727\"/>\n      </g>\n     </g>\n     <g id=\"text_15\">\n      <!-- 14.5 -->\n      <g transform=\"translate(7.2 45.53804)scale(0.1 -0.1)\">\n       <use xlink:href=\"#IPAexGothic-31\"/>\n       <use x=\"62.988281\" xlink:href=\"#IPAexGothic-34\"/>\n       <use x=\"125.976562\" xlink:href=\"#IPAexGothic-2e\"/>\n       <use x=\"152.392578\" xlink:href=\"#IPAexGothic-35\"/>\n      </g>\n     </g>\n    </g>\n    <g id=\"ytick_9\">\n     <g id=\"line2d_16\">\n      <g>\n       <use style=\"stroke:#000000;stroke-width:0.8;\" x=\"35.7375\" xlink:href=\"#m0420bcdb4a\" y=\"17.083636\"/>\n      </g>\n     </g>\n     <g id=\"text_16\">\n      <!-- 15.0 -->\n      <g transform=\"translate(7.2 20.828949)scale(0.1 -0.1)\">\n       <use xlink:href=\"#IPAexGothic-31\"/>\n       <use x=\"62.988281\" xlink:href=\"#IPAexGothic-35\"/>\n       <use x=\"125.976562\" xlink:href=\"#IPAexGothic-2e\"/>\n       <use x=\"152.392578\" xlink:href=\"#IPAexGothic-30\"/>\n      </g>\n     </g>\n    </g>\n   </g>\n   <g id=\"line2d_17\">\n    <path clip-path=\"url(#p221eb94e7e)\" d=\"M 35.7375 165.338182 \nL 91.5375 66.501818 \nL 147.3375 214.756364 \nL 203.1375 150.512727 \nL 258.9375 204.872727 \nL 314.7375 51.676364 \nL 370.5375 17.083636 \n\" style=\"fill:none;stroke:#1f77b4;stroke-linecap:square;stroke-width:1.5;\"/>\n   </g>\n   <g id=\"patch_3\">\n    <path d=\"M 35.7375 224.64 \nL 35.7375 7.2 \n\" style=\"fill:none;stroke:#000000;stroke-linecap:square;stroke-linejoin:miter;stroke-width:0.8;\"/>\n   </g>\n   <g id=\"patch_4\">\n    <path d=\"M 370.5375 224.64 \nL 370.5375 7.2 \n\" style=\"fill:none;stroke:#000000;stroke-linecap:square;stroke-linejoin:miter;stroke-width:0.8;\"/>\n   </g>\n   <g id=\"patch_5\">\n    <path d=\"M 35.7375 224.64 \nL 370.5375 224.64 \n\" style=\"fill:none;stroke:#000000;stroke-linecap:square;stroke-linejoin:miter;stroke-width:0.8;\"/>\n   </g>\n   <g id=\"patch_6\">\n    <path d=\"M 35.7375 7.2 \nL 370.5375 7.2 \n\" style=\"fill:none;stroke:#000000;stroke-linecap:square;stroke-linejoin:miter;stroke-width:0.8;\"/>\n   </g>\n   <g id=\"legend_1\">\n    <g id=\"patch_7\">\n     <path d=\"M 42.7375 29.590625 \nL 84.7375 29.590625 \nQ 86.7375 29.590625 86.7375 27.590625 \nL 86.7375 14.2 \nQ 86.7375 12.2 84.7375 12.2 \nL 42.7375 12.2 \nQ 40.7375 12.2 40.7375 14.2 \nL 40.7375 27.590625 \nQ 40.7375 29.590625 42.7375 29.590625 \nz\n\" style=\"fill:#ffffff;opacity:0.8;stroke:#cccccc;stroke-linejoin:miter;\"/>\n    </g>\n    <g id=\"line2d_18\">\n     <path d=\"M 44.7375 20.190625 \nL 64.7375 20.190625 \n\" style=\"fill:none;stroke:#1f77b4;stroke-linecap:square;stroke-width:1.5;\"/>\n    </g>\n    <g id=\"line2d_19\"/>\n    <g id=\"text_17\">\n     <!-- 値 -->\n     <g transform=\"translate(72.7375 23.690625)scale(0.1 -0.1)\">\n      <defs>\n       <path d=\"M 4172 3675 \nL 5453 3675 \nL 5453 684 \nL 3019 684 \nL 3019 3675 \nL 3750 3675 \nQ 3788 3884 3825 4153 \nL 2141 4153 \nL 2141 4544 \nL 3884 4544 \nQ 3922 4844 3966 5325 \nL 4434 5272 \nL 4388 4953 \nQ 4331 4578 4331 4544 \nL 5863 4544 \nL 5863 4153 \nL 4269 4153 \nQ 4200 3781 4172 3675 \nz\nM 5038 3316 \nL 3434 3316 \nL 3434 2803 \nL 5038 2803 \nL 5038 3316 \nz\nM 3434 2450 \nL 3434 1941 \nL 5038 1941 \nL 5038 2450 \nL 3434 2450 \nz\nM 3434 1588 \nL 3434 1044 \nL 5038 1044 \nL 5038 1588 \nL 3434 1588 \nz\nM 1509 3669 \nL 1509 -447 \nL 1069 -447 \nL 1069 2725 \nQ 856 2338 531 1875 \nL 288 2266 \nQ 1163 3531 1541 5325 \nL 1975 5222 \nQ 1791 4378 1509 3669 \nz\nM 2488 244 \nL 6031 244 \nL 6031 -153 \nL 2488 -153 \nL 2488 -447 \nL 2059 -447 \nL 2059 3213 \nL 2488 3213 \nL 2488 244 \nz\n\" id=\"IPAexGothic-5024\" transform=\"scale(0.015625)\"/>\n      </defs>\n      <use xlink:href=\"#IPAexGothic-5024\"/>\n     </g>\n    </g>\n   </g>\n  </g>\n </g>\n <defs>\n  <clipPath id=\"p221eb94e7e\">\n   <rect height=\"217.44\" width=\"334.8\" x=\"35.7375\" y=\"7.2\"/>\n  </clipPath>\n </defs>\n</svg>\n",
      "image/png": "[encoded data removed]"
     },
     "metadata": {
      "needs_background": "light"
     }
    }
   ],
   "source": [
    "# plot でグループごとに折れ線グラフを作成できる\n",
    "df_time.groupby(\"変数\").plot()"
   ]
  },
  {
   "cell_type": "code",
   "execution_count": 260,
   "metadata": {},
   "outputs": [
    {
     "output_type": "stream",
     "name": "stdout",
     "text": [
      "        Max Speed  Weight\nAnimal                   \nFalcon          5       4\nParrot          6       6\n"
     ]
    }
   ],
   "source": [
    "# idxmax でグループごとに最大値を取るインデックスを取得できる\n",
    "print(df.groupby(\"Animal\").idxmax())"
   ]
  },
  {
   "cell_type": "code",
   "execution_count": 261,
   "metadata": {},
   "outputs": [
    {
     "output_type": "stream",
     "name": "stdout",
     "text": [
      "        Max Speed  Weight\nAnimal                   \nFalcon          4       2\nParrot          1       3\n"
     ]
    }
   ],
   "source": [
    "# idxmin でグループごとに最小値を取るインデックスを取得できる\n",
    "print(df.groupby(\"Animal\").idxmin())"
   ]
  },
  {
   "cell_type": "code",
   "execution_count": 262,
   "metadata": {},
   "outputs": [
    {
     "output_type": "stream",
     "name": "stdout",
     "text": [
      "   Animal  Max Speed  Weight\n0  Falcon      375.0     1.0\n5  Falcon      390.0     1.1\n1  Parrot       20.0     2.2\n3  Parrot       23.0     2.0\n"
     ]
    }
   ],
   "source": [
    "# sample でグループごとにランダムに指定した数のデータを取得できる\n",
    "print(df.groupby(\"Animal\").sample(n=2))"
   ]
  },
  {
   "cell_type": "code",
   "execution_count": 264,
   "metadata": {},
   "outputs": [
    {
     "output_type": "stream",
     "name": "stdout",
     "text": [
      "   Animal  Max Speed  Weight\n0  Falcon      375.0     1.0\n5  Falcon      390.0     1.1\n2  Falcon      380.0     0.9\n3  Parrot       23.0     2.0\n6  Parrot       26.0     2.5\n"
     ]
    }
   ],
   "source": [
    "print(df.groupby(\"Animal\").sample(frac=0.8))"
   ]
  },
  {
   "source": [
    "# Time-Series"
   ],
   "cell_type": "markdown",
   "metadata": {}
  },
  {
   "cell_type": "code",
   "execution_count": 265,
   "metadata": {},
   "outputs": [
    {
     "output_type": "stream",
     "name": "stdout",
     "text": [
      "              値\n2021-01-01  NaN\n2021-01-02  1.0\n2021-01-03 -2.0\n2021-01-04  0.3\n2021-01-05  0.9\n2021-01-06  1.8\n2021-01-07 -3.7\n2021-01-01  NaN\n2021-01-02  2.0\n2021-01-03 -3.0\n2021-01-04  1.3\n2021-01-05 -1.1\n2021-01-06  3.1\n2021-01-07  0.7\n"
     ]
    }
   ],
   "source": [
    "print(df_time.groupby(\"変数\").diff())"
   ]
  },
  {
   "cell_type": "code",
   "execution_count": 266,
   "metadata": {},
   "outputs": [
    {
     "output_type": "stream",
     "name": "stdout",
     "text": [
      "                   値\n2021-01-01       NaN\n2021-01-02  0.100000\n2021-01-03 -0.181818\n2021-01-04  0.033333\n2021-01-05  0.096774\n2021-01-06  0.176471\n2021-01-07 -0.308333\n2021-01-01       NaN\n2021-01-02  0.166667\n2021-01-03 -0.214286\n2021-01-04  0.118182\n2021-01-05 -0.089431\n2021-01-06  0.276786\n2021-01-07  0.048951\n"
     ]
    }
   ],
   "source": [
    "print(df_time.groupby(\"変数\").pct_change())"
   ]
  },
  {
   "cell_type": "code",
   "execution_count": 267,
   "metadata": {},
   "outputs": [
    {
     "output_type": "stream",
     "name": "stdout",
     "text": [
      "                     値\n変数                    \n最高気温 2021-01-01  10.50\n     2021-01-03   9.15\n     2021-01-05  11.10\n     2021-01-07   8.30\n最高湿度 2021-01-01  13.00\n     2021-01-03  11.65\n     2021-01-05  12.75\n     2021-01-07  15.00\n"
     ]
    }
   ],
   "source": [
    "print(df_time.groupby(\"変数\").resample(\"2D\").agg(np.mean))"
   ]
  },
  {
   "cell_type": "code",
   "execution_count": 268,
   "metadata": {},
   "outputs": [
    {
     "output_type": "execute_result",
     "data": {
      "text/plain": [
       "                     値\n",
       "変数                    \n",
       "最高気温 2021-01-01  10.50\n",
       "     2021-01-03   9.15\n",
       "     2021-01-05  11.10\n",
       "     2021-01-07   8.30\n",
       "最高湿度 2021-01-01  13.00\n",
       "     2021-01-03  11.65\n",
       "     2021-01-05  12.75\n",
       "     2021-01-07  15.00"
      ],
      "text/html": "<div>\n<style scoped>\n    .dataframe tbody tr th:only-of-type {\n        vertical-align: middle;\n    }\n\n    .dataframe tbody tr th {\n        vertical-align: top;\n    }\n\n    .dataframe thead th {\n        text-align: right;\n    }\n</style>\n<table border=\"1\" class=\"dataframe\">\n  <thead>\n    <tr style=\"text-align: right;\">\n      <th></th>\n      <th></th>\n      <th>値</th>\n    </tr>\n    <tr>\n      <th>変数</th>\n      <th></th>\n      <th></th>\n    </tr>\n  </thead>\n  <tbody>\n    <tr>\n      <th rowspan=\"4\" valign=\"top\">最高気温</th>\n      <th>2021-01-01</th>\n      <td>10.50</td>\n    </tr>\n    <tr>\n      <th>2021-01-03</th>\n      <td>9.15</td>\n    </tr>\n    <tr>\n      <th>2021-01-05</th>\n      <td>11.10</td>\n    </tr>\n    <tr>\n      <th>2021-01-07</th>\n      <td>8.30</td>\n    </tr>\n    <tr>\n      <th rowspan=\"4\" valign=\"top\">最高湿度</th>\n      <th>2021-01-01</th>\n      <td>13.00</td>\n    </tr>\n    <tr>\n      <th>2021-01-03</th>\n      <td>11.65</td>\n    </tr>\n    <tr>\n      <th>2021-01-05</th>\n      <td>12.75</td>\n    </tr>\n    <tr>\n      <th>2021-01-07</th>\n      <td>15.00</td>\n    </tr>\n  </tbody>\n</table>\n</div>"
     },
     "metadata": {},
     "execution_count": 268
    }
   ],
   "source": [
    "df_time.groupby(\"変数\").resample(\"2D\").mean()"
   ]
  },
  {
   "cell_type": "code",
   "execution_count": 269,
   "metadata": {},
   "outputs": [
    {
     "output_type": "stream",
     "name": "stdout",
     "text": [
      "                              値\n変数                             \n最高気温 2021-01-01 00:00:00  10.00\n     2021-01-01 12:00:00  10.50\n     2021-01-02 00:00:00  11.00\n     2021-01-02 12:00:00  10.00\n     2021-01-03 00:00:00   9.00\n     2021-01-03 12:00:00   9.15\n     2021-01-04 00:00:00   9.30\n     2021-01-04 12:00:00   9.75\n     2021-01-05 00:00:00  10.20\n     2021-01-05 12:00:00  11.10\n     2021-01-06 00:00:00  12.00\n     2021-01-06 12:00:00  10.15\n     2021-01-07 00:00:00   8.30\n最高湿度 2021-01-01 00:00:00  12.00\n     2021-01-01 12:00:00  13.00\n     2021-01-02 00:00:00  14.00\n     2021-01-02 12:00:00  12.50\n     2021-01-03 00:00:00  11.00\n     2021-01-03 12:00:00  11.65\n     2021-01-04 00:00:00  12.30\n     2021-01-04 12:00:00  11.75\n     2021-01-05 00:00:00  11.20\n     2021-01-05 12:00:00  12.75\n     2021-01-06 00:00:00  14.30\n     2021-01-06 12:00:00  14.65\n     2021-01-07 00:00:00  15.00\n"
     ]
    }
   ],
   "source": [
    "# mad で、平均絶対偏差を取ることができる\n",
    "print(df_time.groupby(\"変数\").resample(\"0.5D\").interpolate().drop(columns=\"変数\"))"
   ]
  },
  {
   "cell_type": "code",
   "execution_count": 270,
   "metadata": {},
   "outputs": [
    {
     "output_type": "stream",
     "name": "stdout",
     "text": [
      "               値\n2021-01-01   NaN\n2021-01-02  10.0\n2021-01-03  11.0\n2021-01-04   9.0\n2021-01-05   9.3\n2021-01-06  10.2\n2021-01-07  12.0\n2021-01-01   NaN\n2021-01-02  12.0\n2021-01-03  14.0\n2021-01-04  11.0\n2021-01-05  12.3\n2021-01-06  11.2\n2021-01-07  14.3\n"
     ]
    }
   ],
   "source": [
    "# shift でデータをずらすことができる\n",
    "print(df_time.groupby(\"変数\").shift(1))"
   ]
  },
  {
   "cell_type": "code",
   "execution_count": 271,
   "metadata": {},
   "outputs": [
    {
     "output_type": "stream",
     "name": "stdout",
     "text": [
      "               値\n",
      "2021-01-01  11.0\n",
      "2021-01-02   9.0\n",
      "2021-01-03   9.3\n",
      "2021-01-04  10.2\n",
      "2021-01-05  12.0\n",
      "2021-01-06   8.3\n",
      "2021-01-07   NaN\n",
      "2021-01-01  14.0\n",
      "2021-01-02  11.0\n",
      "2021-01-03  12.3\n",
      "2021-01-04  11.2\n",
      "2021-01-05  14.3\n",
      "2021-01-06  15.0\n",
      "2021-01-07   NaN\n"
     ]
    }
   ],
   "source": [
    "# shift でデータをずらすことができる\n",
    "print(df_time.groupby(\"変数\").shift(-1))"
   ]
  },
  {
   "cell_type": "code",
   "execution_count": 272,
   "metadata": {},
   "outputs": [],
   "source": [
    "# ペアデータを用意する必要がある\n",
    "# df_5.groupby(\"Animal\").corrwith(oter)"
   ]
  },
  {
   "source": [
    "# SeriesGroupBy Only"
   ],
   "cell_type": "markdown",
   "metadata": {}
  },
  {
   "cell_type": "code",
   "execution_count": 273,
   "metadata": {},
   "outputs": [
    {
     "output_type": "stream",
     "name": "stdout",
     "text": [
      "Animal\nFalcon    [375.0, 380.0, 370.0, 390.0]\nParrot              [20.0, 23.0, 26.0]\nName: Max Speed, dtype: object\n"
     ]
    }
   ],
   "source": [
    "# グループごとにユニークな値を取得できる\n",
    "print(df.groupby(\"Animal\")[\"Max Speed\"].unique())"
   ]
  },
  {
   "cell_type": "code",
   "execution_count": 274,
   "metadata": {},
   "outputs": [
    {
     "output_type": "stream",
     "name": "stdout",
     "text": [
      "Animal   \nFalcon  5    390.0\n        2    380.0\nParrot  6     26.0\n        3     23.0\nName: Max Speed, dtype: float64\n"
     ]
    }
   ],
   "source": [
    "# nlargest で大きい順に n 個のデータを取得できる\n",
    "print(df.groupby(\"Animal\")[\"Max Speed\"].nlargest(n=2))"
   ]
  },
  {
   "cell_type": "code",
   "execution_count": 275,
   "metadata": {},
   "outputs": [
    {
     "output_type": "stream",
     "name": "stdout",
     "text": [
      "Animal   \nFalcon  4    370.0\n        0    375.0\nParrot  1     20.0\n        3     23.0\nName: Max Speed, dtype: float64\n"
     ]
    }
   ],
   "source": [
    "# nsmallest で小さい順に n 個のデータを取得できる\n",
    "print(df.groupby(\"Animal\")[\"Max Speed\"].nsmallest(n=2))"
   ]
  },
  {
   "cell_type": "code",
   "execution_count": 276,
   "metadata": {},
   "outputs": [
    {
     "output_type": "stream",
     "name": "stdout",
     "text": [
      "Animal\nFalcon    4\nParrot    3\nName: Max Speed, dtype: int64\n"
     ]
    }
   ],
   "source": [
    "# nunique でユニークな要素の数を取得できる\n",
    "print(df.groupby(\"Animal\")[\"Max Speed\"].nunique())"
   ]
  },
  {
   "cell_type": "code",
   "execution_count": 277,
   "metadata": {},
   "outputs": [
    {
     "output_type": "execute_result",
     "data": {
      "text/plain": [
       "Animal  Max Speed\n",
       "Falcon  370.0        1\n",
       "        375.0        1\n",
       "        380.0        1\n",
       "        390.0        1\n",
       "Parrot  20.0         1\n",
       "        23.0         1\n",
       "        26.0         1\n",
       "Name: Max Speed, dtype: int64"
      ]
     },
     "metadata": {},
     "execution_count": 277
    }
   ],
   "source": [
    "# value_counts で要素ごとの数を取得できる\n",
    "df.groupby(\"Animal\")[\"Max Speed\"].value_counts()"
   ]
  },
  {
   "cell_type": "code",
   "execution_count": 278,
   "metadata": {},
   "outputs": [
    {
     "output_type": "execute_result",
     "data": {
      "text/plain": [
       "変数\n",
       "最高気温    False\n",
       "最高湿度    False\n",
       "Name: 値, dtype: bool"
      ]
     },
     "metadata": {},
     "execution_count": 278
    }
   ],
   "source": [
    "# is_monotonic_increasing で要素が単調増加しているかどうかがわかる\n",
    "df_time.groupby(\"変数\")[\"値\"].is_monotonic_increasing"
   ]
  },
  {
   "cell_type": "code",
   "execution_count": 279,
   "metadata": {},
   "outputs": [
    {
     "output_type": "execute_result",
     "data": {
      "text/plain": [
       "Animal\n",
       "Falcon    False\n",
       "Parrot    False\n",
       "Name: Max Speed, dtype: bool"
      ]
     },
     "metadata": {},
     "execution_count": 279
    }
   ],
   "source": [
    "# is_monotonic_decreasing で要素が単調現象しているかどうかがわかる\n",
    "df_5.groupby(\"Animal\")[\"Max Speed\"].is_monotonic_decreasing"
   ]
  },
  {
   "cell_type": "code",
   "execution_count": null,
   "metadata": {},
   "outputs": [],
   "source": []
  }
 ]
}